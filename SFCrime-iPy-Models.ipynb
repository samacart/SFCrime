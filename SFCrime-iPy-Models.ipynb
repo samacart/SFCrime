{
 "cells": [
  {
   "cell_type": "code",
   "execution_count": 1,
   "metadata": {
    "collapsed": false
   },
   "outputs": [],
   "source": [
    "# This tells matplotlib not to try opening a new window for each plot.\n",
    "%matplotlib inline\n",
    "\n",
    "\n",
    "import sys\n",
    "sys.path.append('/usr/local/lib/python2.7/site-packages/')\n",
    "\n",
    "import datetime\n",
    "import pandas as pd\n",
    "import numpy as np\n",
    "import seaborn as sns\n",
    "import matplotlib.pyplot as plt\n",
    "import numpy as np\n",
    "import operator\n",
    "from sklearn.naive_bayes import MultinomialNB,BernoulliNB,GaussianNB\n",
    "from sklearn.linear_model import LogisticRegression\n",
    "from sklearn.ensemble import RandomForestClassifier as RFC\n",
    "from sklearn import preprocessing\n",
    "from sklearn import metrics\n",
    "from sklearn.grid_search import GridSearchCV\n",
    "from sklearn.metrics import classification_report\n",
    "from sklearn.neighbors import KNeighborsClassifier\n",
    "import csv\n",
    "import time\n",
    "\n",
    "from sklearn import tree\n",
    "from sklearn.tree import DecisionTreeClassifier\n",
    "from sklearn.ensemble import RandomForestClassifier \n",
    "from sklearn.ensemble import AdaBoostClassifier "
   ]
  },
  {
   "cell_type": "code",
   "execution_count": 2,
   "metadata": {
    "collapsed": false
   },
   "outputs": [],
   "source": [
    "#running on a windows machine, change filepaths as needed\n",
    "\n",
    "train_df = pd.read_csv('Data/train.csv')"
   ]
  },
  {
   "cell_type": "code",
   "execution_count": 3,
   "metadata": {
    "collapsed": false
   },
   "outputs": [
    {
     "data": {
      "text/html": [
       "<div style=\"max-height:1000px;max-width:1500px;overflow:auto;\">\n",
       "<table border=\"1\" class=\"dataframe\">\n",
       "  <thead>\n",
       "    <tr style=\"text-align: right;\">\n",
       "      <th></th>\n",
       "      <th>Dates</th>\n",
       "      <th>Category</th>\n",
       "      <th>Descript</th>\n",
       "      <th>DayOfWeek</th>\n",
       "      <th>PdDistrict</th>\n",
       "      <th>Resolution</th>\n",
       "      <th>Address</th>\n",
       "      <th>X</th>\n",
       "      <th>Y</th>\n",
       "    </tr>\n",
       "  </thead>\n",
       "  <tbody>\n",
       "    <tr>\n",
       "      <th>0</th>\n",
       "      <td> 2015-05-13 23:53:00</td>\n",
       "      <td>       WARRANTS</td>\n",
       "      <td>               WARRANT ARREST</td>\n",
       "      <td> Wednesday</td>\n",
       "      <td> NORTHERN</td>\n",
       "      <td> ARREST, BOOKED</td>\n",
       "      <td>        OAK ST / LAGUNA ST</td>\n",
       "      <td>-122.425892</td>\n",
       "      <td> 37.774599</td>\n",
       "    </tr>\n",
       "    <tr>\n",
       "      <th>1</th>\n",
       "      <td> 2015-05-13 23:53:00</td>\n",
       "      <td> OTHER OFFENSES</td>\n",
       "      <td>     TRAFFIC VIOLATION ARREST</td>\n",
       "      <td> Wednesday</td>\n",
       "      <td> NORTHERN</td>\n",
       "      <td> ARREST, BOOKED</td>\n",
       "      <td>        OAK ST / LAGUNA ST</td>\n",
       "      <td>-122.425892</td>\n",
       "      <td> 37.774599</td>\n",
       "    </tr>\n",
       "    <tr>\n",
       "      <th>2</th>\n",
       "      <td> 2015-05-13 23:33:00</td>\n",
       "      <td> OTHER OFFENSES</td>\n",
       "      <td>     TRAFFIC VIOLATION ARREST</td>\n",
       "      <td> Wednesday</td>\n",
       "      <td> NORTHERN</td>\n",
       "      <td> ARREST, BOOKED</td>\n",
       "      <td> VANNESS AV / GREENWICH ST</td>\n",
       "      <td>-122.424363</td>\n",
       "      <td> 37.800414</td>\n",
       "    </tr>\n",
       "    <tr>\n",
       "      <th>3</th>\n",
       "      <td> 2015-05-13 23:30:00</td>\n",
       "      <td>  LARCENY/THEFT</td>\n",
       "      <td> GRAND THEFT FROM LOCKED AUTO</td>\n",
       "      <td> Wednesday</td>\n",
       "      <td> NORTHERN</td>\n",
       "      <td>           NONE</td>\n",
       "      <td>  1500 Block of LOMBARD ST</td>\n",
       "      <td>-122.426995</td>\n",
       "      <td> 37.800873</td>\n",
       "    </tr>\n",
       "    <tr>\n",
       "      <th>4</th>\n",
       "      <td> 2015-05-13 23:30:00</td>\n",
       "      <td>  LARCENY/THEFT</td>\n",
       "      <td> GRAND THEFT FROM LOCKED AUTO</td>\n",
       "      <td> Wednesday</td>\n",
       "      <td>     PARK</td>\n",
       "      <td>           NONE</td>\n",
       "      <td> 100 Block of BRODERICK ST</td>\n",
       "      <td>-122.438738</td>\n",
       "      <td> 37.771541</td>\n",
       "    </tr>\n",
       "  </tbody>\n",
       "</table>\n",
       "</div>"
      ],
      "text/plain": [
       "                 Dates        Category                      Descript  \\\n",
       "0  2015-05-13 23:53:00        WARRANTS                WARRANT ARREST   \n",
       "1  2015-05-13 23:53:00  OTHER OFFENSES      TRAFFIC VIOLATION ARREST   \n",
       "2  2015-05-13 23:33:00  OTHER OFFENSES      TRAFFIC VIOLATION ARREST   \n",
       "3  2015-05-13 23:30:00   LARCENY/THEFT  GRAND THEFT FROM LOCKED AUTO   \n",
       "4  2015-05-13 23:30:00   LARCENY/THEFT  GRAND THEFT FROM LOCKED AUTO   \n",
       "\n",
       "   DayOfWeek PdDistrict      Resolution                    Address  \\\n",
       "0  Wednesday   NORTHERN  ARREST, BOOKED         OAK ST / LAGUNA ST   \n",
       "1  Wednesday   NORTHERN  ARREST, BOOKED         OAK ST / LAGUNA ST   \n",
       "2  Wednesday   NORTHERN  ARREST, BOOKED  VANNESS AV / GREENWICH ST   \n",
       "3  Wednesday   NORTHERN            NONE   1500 Block of LOMBARD ST   \n",
       "4  Wednesday       PARK            NONE  100 Block of BRODERICK ST   \n",
       "\n",
       "            X          Y  \n",
       "0 -122.425892  37.774599  \n",
       "1 -122.425892  37.774599  \n",
       "2 -122.424363  37.800414  \n",
       "3 -122.426995  37.800873  \n",
       "4 -122.438738  37.771541  "
      ]
     },
     "execution_count": 3,
     "metadata": {},
     "output_type": "execute_result"
    }
   ],
   "source": [
    "train_df.head()"
   ]
  },
  {
   "cell_type": "code",
   "execution_count": 4,
   "metadata": {
    "collapsed": false
   },
   "outputs": [
    {
     "name": "stdout",
     "output_type": "stream",
     "text": [
      "Number of categories: 39\n",
      "Summary of X\n",
      "count    878049.000000\n",
      "mean       -122.422616\n",
      "std           0.030354\n",
      "min        -122.513642\n",
      "25%        -122.432952\n",
      "50%        -122.416420\n",
      "75%        -122.406959\n",
      "max        -120.500000\n",
      "Name: X, dtype: float64\n",
      "Summary of Y\n",
      "count    878049.000000\n",
      "mean         37.771020\n",
      "std           0.456893\n",
      "min          37.707879\n",
      "25%          37.752427\n",
      "50%          37.775421\n",
      "75%          37.784369\n",
      "max          90.000000\n",
      "Name: Y, dtype: float64\n"
     ]
    }
   ],
   "source": [
    "print \"Number of categories: {}\".format(len(train_df.Category.unique()))\n",
    "print \"Summary of X\"\n",
    "print train_df.X.describe()\n",
    "print \"Summary of Y\"\n",
    "print train_df.Y.describe()"
   ]
  },
  {
   "cell_type": "code",
   "execution_count": 4,
   "metadata": {
    "collapsed": true
   },
   "outputs": [],
   "source": [
    "# Feature Names: address, dayofweek\n",
    "le = preprocessing.LabelEncoder()\n",
    "dow = le.fit_transform(train_df.DayOfWeek.values)\n",
    "dow_orig = le.classes_\n",
    "addr = le.fit_transform(train_df.Address)\n",
    "addr_orig = le.classes_\n",
    "category = le.fit_transform(train_df.Category)\n",
    "cat_orig = le.classes_\n",
    "pdist = le.fit_transform(train_df.PdDistrict)\n",
    "pd_orig = le.classes_"
   ]
  },
  {
   "cell_type": "code",
   "execution_count": 5,
   "metadata": {
    "collapsed": false
   },
   "outputs": [],
   "source": [
    "train_df['crime'] = category\n",
    "train_df['addr'] = addr\n",
    "train_df['dow'] = dow\n",
    "train_df['pd'] = pdist"
   ]
  },
  {
   "cell_type": "code",
   "execution_count": 6,
   "metadata": {
    "collapsed": false
   },
   "outputs": [],
   "source": [
    "dates = pd.DatetimeIndex(train_df.Dates)"
   ]
  },
  {
   "cell_type": "code",
   "execution_count": 7,
   "metadata": {
    "collapsed": false
   },
   "outputs": [],
   "source": [
    "train_df['date'] = dates.date\n",
    "train_df['time'] = dates.time\n",
    "train_df['hour'] = dates.hour\n",
    "train_df['minutes'] = dates.minute\n",
    "train_df['month'] = dates.month\n",
    "train_df['woy'] = dates.weekofyear\n",
    "\n",
    "train_df.ix[train_df.hour <12,'time_of_day'] = \"morning\"\n",
    "train_df.ix[train_df.hour >=12,'time_of_day'] = \"midday\"\n",
    "train_df.ix[train_df.hour >14,'time_of_day'] = \"afternoon\"\n",
    "train_df.ix[train_df.hour >18,'time_of_day'] = \"night\"\n",
    "\n",
    "le = preprocessing.LabelEncoder()\n",
    "tod = le.fit_transform(train_df.time_of_day.values)\n",
    "tod_orig = le.classes_\n",
    "\n",
    "train_df['tod'] = tod\n",
    "\n",
    "# Season\n",
    "train_df.ix[train_df.month == 12,'seas'] = \"winter\"\n",
    "train_df.ix[train_df.month == 1,'seas'] = \"winter\"\n",
    "train_df.ix[train_df.month == 2,'seas'] = \"winter\"\n",
    "train_df.ix[train_df.month == 3,'seas'] = \"spring\"\n",
    "train_df.ix[train_df.month == 4,'seas'] = \"spring\"\n",
    "train_df.ix[train_df.month == 5,'seas'] = \"spring\"\n",
    "train_df.ix[train_df.month == 6,'seas'] = \"summer\"\n",
    "train_df.ix[train_df.month == 7,'seas'] = \"summer\"\n",
    "train_df.ix[train_df.month == 8,'seas'] = \"summer\"\n",
    "train_df.ix[train_df.month == 9,'seas'] = \"fall\"\n",
    "train_df.ix[train_df.month == 10,'seas'] = \"fall\"\n",
    "train_df.ix[train_df.month == 11,'seas'] = \"fall\"\n",
    "\n",
    "le = preprocessing.LabelEncoder()\n",
    "season = le.fit_transform(train_df.seas.values)\n",
    "season_orig = le.classes_\n",
    "\n",
    "train_df['season'] = season"
   ]
  },
  {
   "cell_type": "code",
   "execution_count": 14,
   "metadata": {
    "collapsed": false
   },
   "outputs": [
    {
     "data": {
      "text/html": [
       "<div style=\"max-height:1000px;max-width:1500px;overflow:auto;\">\n",
       "<table border=\"1\" class=\"dataframe\">\n",
       "  <thead>\n",
       "    <tr style=\"text-align: right;\">\n",
       "      <th></th>\n",
       "      <th>date</th>\n",
       "      <th>month</th>\n",
       "      <th>woy</th>\n",
       "      <th>hour</th>\n",
       "      <th>minutes</th>\n",
       "      <th>time</th>\n",
       "      <th>tod</th>\n",
       "      <th>dow</th>\n",
       "      <th>season</th>\n",
       "      <th>pd</th>\n",
       "      <th>addr</th>\n",
       "      <th>X</th>\n",
       "      <th>Y</th>\n",
       "      <th>crime</th>\n",
       "    </tr>\n",
       "  </thead>\n",
       "  <tbody>\n",
       "    <tr>\n",
       "      <th>0</th>\n",
       "      <td> 2015-05-13</td>\n",
       "      <td> 5</td>\n",
       "      <td> 20</td>\n",
       "      <td> 23</td>\n",
       "      <td> 53</td>\n",
       "      <td> 23:53:00</td>\n",
       "      <td> 3</td>\n",
       "      <td> 6</td>\n",
       "      <td> 1</td>\n",
       "      <td> 4</td>\n",
       "      <td> 19790</td>\n",
       "      <td>-122.425892</td>\n",
       "      <td> 37.774599</td>\n",
       "      <td> 37</td>\n",
       "    </tr>\n",
       "    <tr>\n",
       "      <th>1</th>\n",
       "      <td> 2015-05-13</td>\n",
       "      <td> 5</td>\n",
       "      <td> 20</td>\n",
       "      <td> 23</td>\n",
       "      <td> 53</td>\n",
       "      <td> 23:53:00</td>\n",
       "      <td> 3</td>\n",
       "      <td> 6</td>\n",
       "      <td> 1</td>\n",
       "      <td> 4</td>\n",
       "      <td> 19790</td>\n",
       "      <td>-122.425892</td>\n",
       "      <td> 37.774599</td>\n",
       "      <td> 21</td>\n",
       "    </tr>\n",
       "    <tr>\n",
       "      <th>2</th>\n",
       "      <td> 2015-05-13</td>\n",
       "      <td> 5</td>\n",
       "      <td> 20</td>\n",
       "      <td> 23</td>\n",
       "      <td> 33</td>\n",
       "      <td> 23:33:00</td>\n",
       "      <td> 3</td>\n",
       "      <td> 6</td>\n",
       "      <td> 1</td>\n",
       "      <td> 4</td>\n",
       "      <td> 22697</td>\n",
       "      <td>-122.424363</td>\n",
       "      <td> 37.800414</td>\n",
       "      <td> 21</td>\n",
       "    </tr>\n",
       "    <tr>\n",
       "      <th>3</th>\n",
       "      <td> 2015-05-13</td>\n",
       "      <td> 5</td>\n",
       "      <td> 20</td>\n",
       "      <td> 23</td>\n",
       "      <td> 30</td>\n",
       "      <td> 23:30:00</td>\n",
       "      <td> 3</td>\n",
       "      <td> 6</td>\n",
       "      <td> 1</td>\n",
       "      <td> 4</td>\n",
       "      <td>  4266</td>\n",
       "      <td>-122.426995</td>\n",
       "      <td> 37.800873</td>\n",
       "      <td> 16</td>\n",
       "    </tr>\n",
       "    <tr>\n",
       "      <th>4</th>\n",
       "      <td> 2015-05-13</td>\n",
       "      <td> 5</td>\n",
       "      <td> 20</td>\n",
       "      <td> 23</td>\n",
       "      <td> 30</td>\n",
       "      <td> 23:30:00</td>\n",
       "      <td> 3</td>\n",
       "      <td> 6</td>\n",
       "      <td> 1</td>\n",
       "      <td> 5</td>\n",
       "      <td>  1843</td>\n",
       "      <td>-122.438738</td>\n",
       "      <td> 37.771541</td>\n",
       "      <td> 16</td>\n",
       "    </tr>\n",
       "  </tbody>\n",
       "</table>\n",
       "</div>"
      ],
      "text/plain": [
       "         date  month  woy  hour  minutes      time  tod  dow  season  pd  \\\n",
       "0  2015-05-13      5   20    23       53  23:53:00    3    6       1   4   \n",
       "1  2015-05-13      5   20    23       53  23:53:00    3    6       1   4   \n",
       "2  2015-05-13      5   20    23       33  23:33:00    3    6       1   4   \n",
       "3  2015-05-13      5   20    23       30  23:30:00    3    6       1   4   \n",
       "4  2015-05-13      5   20    23       30  23:30:00    3    6       1   5   \n",
       "\n",
       "    addr           X          Y  crime  \n",
       "0  19790 -122.425892  37.774599     37  \n",
       "1  19790 -122.425892  37.774599     21  \n",
       "2  22697 -122.424363  37.800414     21  \n",
       "3   4266 -122.426995  37.800873     16  \n",
       "4   1843 -122.438738  37.771541     16  "
      ]
     },
     "execution_count": 14,
     "metadata": {},
     "output_type": "execute_result"
    }
   ],
   "source": [
    "train_df_new = train_df[['date','month', 'woy', 'hour','minutes','time','tod', 'dow','season', 'pd','addr','X','Y','crime']]\n",
    "train_df_new.head()"
   ]
  },
  {
   "cell_type": "code",
   "execution_count": 17,
   "metadata": {
    "collapsed": false
   },
   "outputs": [
    {
     "name": "stderr",
     "output_type": "stream",
     "text": [
      "/home/simon/anaconda/lib/python2.7/site-packages/IPython/kernel/__main__.py:13: SettingWithCopyWarning: \n",
      "A value is trying to be set on a copy of a slice from a DataFrame\n",
      "\n",
      "See the the caveats in the documentation: http://pandas.pydata.org/pandas-docs/stable/indexing.html#indexing-view-versus-copy\n",
      "/home/simon/anaconda/lib/python2.7/site-packages/IPython/kernel/__main__.py:17: SettingWithCopyWarning: \n",
      "A value is trying to be set on a copy of a slice from a DataFrame\n",
      "\n",
      "See the the caveats in the documentation: http://pandas.pydata.org/pandas-docs/stable/indexing.html#indexing-view-versus-copy\n"
     ]
    },
    {
     "name": "stdout",
     "output_type": "stream",
     "text": [
      "Dev: (175399, 13)\n",
      "Train: (702650, 13)\n"
     ]
    }
   ],
   "source": [
    "# Split this into Dev and Training Data\n",
    "DEV_SIZE = 0.20\n",
    "\n",
    "# fix a random seed\n",
    "np.random.seed(0)\n",
    "# Create boolean mask\n",
    "# np.random creates a vector of random values between 0 and 1\n",
    "# Those values are filtered to create a binary mask\n",
    "msk = np.random.rand(len(train_df_new)) < DEV_SIZE\n",
    "\n",
    "dev = train_df_new[msk]\n",
    "dev_labels = np.array(dev.crime)\n",
    "dev.drop('crime',1,inplace=True)\n",
    "\n",
    "train = train_df_new[~msk]  # inverse of boolean mask\n",
    "train_labels = np.array(train.crime)\n",
    "train.drop('crime',1,inplace=True)\n",
    "\n",
    "print \"Dev: \" + str(dev.shape)\n",
    "print \"Train: \" + str(train.shape)\n",
    "#print \"Test: \" + str(test_df.shape)"
   ]
  },
  {
   "cell_type": "code",
   "execution_count": 11,
   "metadata": {
    "collapsed": false
   },
   "outputs": [
    {
     "name": "stderr",
     "output_type": "stream",
     "text": [
      "/home/simon/anaconda/lib/python2.7/site-packages/matplotlib/axes/_subplots.py:69: MatplotlibDeprecationWarning: The use of 0 (which ends up being the _last_ sub-plot) is deprecated in 1.4 and will raise an error in 1.5\n",
      "  mplDeprecation)\n"
     ]
    },
    {
     "data": {
      "image/png": "[encoded data removed]",
      "text/plain": [
       "<matplotlib.figure.Figure at 0x7f7ab3df91d0>"
      ]
     },
     "metadata": {},
     "output_type": "display_data"
    }
   ],
   "source": [
    "# make sure dev and train datasets have similar\n",
    "# distribution for outcome variable\n",
    "plt.figure(figsize=(20,10))\n",
    "labels = [train_labels, dev_labels]\n",
    "titles = [\"Training set\",\"Dev set\"]\n",
    "for i in [0,1]:\n",
    "    plt.subplot(1,2,i)\n",
    "    hist = np.histogram(labels[i], bins=range(38))\n",
    "    ix = np.argsort(hist[0])\n",
    "    plt.barh(range(37),hist[0][ix])\n",
    "    x = plt.yticks(range(37),cat_orig[ix])\n",
    "    ttl = \"Crime Distribution ({})\".format(titles[i])\n",
    "    plt.title(ttl)"
   ]
  },
  {
   "cell_type": "code",
   "execution_count": 29,
   "metadata": {
    "collapsed": false
   },
   "outputs": [],
   "source": [
    "# convert training set to np array\n",
    "train_data = np.array(train[['season','dow','pd','tod', 'woy', 'addr']])\n",
    "dev_data = np.array(dev[['season', 'dow','pd','tod', 'woy', 'addr']])\n",
    "\n",
    "# Gaussian NB\n",
    "model = GaussianNB()\n",
    "model.fit(train_data,train_labels)\n",
    "\n",
    "preds = model.predict(dev_data)"
   ]
  },
  {
   "cell_type": "code",
   "execution_count": 25,
   "metadata": {
    "collapsed": false
   },
   "outputs": [
    {
     "name": "stdout",
     "output_type": "stream",
     "text": [
      "0.203553041922\n"
     ]
    }
   ],
   "source": [
    "accuracy = metrics.accuracy_score(dev_labels,preds)\n",
    "print accuracy"
   ]
  },
  {
   "cell_type": "code",
   "execution_count": 30,
   "metadata": {
    "collapsed": false
   },
   "outputs": [
    {
     "name": "stdout",
     "output_type": "stream",
     "text": [
      "Train time = 1.87\n",
      "Accuracy = 0.2208\n",
      "Prediction time = 1.63\n"
     ]
    }
   ],
   "source": [
    "# K- Nearest Neighbors\n",
    "\n",
    "neighbors = 1\n",
    "\n",
    "knn = KNeighborsClassifier(neighbors)\n",
    "start_time = time.time()\n",
    "knn.fit(train_data, train_labels)\n",
    "print 'Train time = %.2f' %(time.time() - start_time)\n",
    "start_time = time.time()\n",
    "accuracy = knn.score(dev_data, dev_labels)\n",
    "print 'Accuracy = %.4f' %(accuracy)\n",
    "print 'Prediction time = %.2f' %(time.time() - start_time)"
   ]
  },
  {
   "cell_type": "code",
   "execution_count": 31,
   "metadata": {
    "collapsed": false
   },
   "outputs": [
    {
     "name": "stdout",
     "output_type": "stream",
     "text": [
      "Accuracy (a decision tree): 0.231363918836\n"
     ]
    }
   ],
   "source": [
    "# Decision Tree\n",
    "\n",
    "dt = DecisionTreeClassifier(criterion=\"entropy\", splitter=\"best\", random_state=0)\n",
    "dt.fit(train_data, train_labels)\n",
    "\n",
    "print 'Accuracy (a decision tree):', dt.score(dev_data, dev_labels)\n",
    "\n"
   ]
  },
  {
   "cell_type": "code",
   "execution_count": null,
   "metadata": {
    "collapsed": true
   },
   "outputs": [],
   "source": [
    "rfc = RandomForestClassifier(n_estimators=100)\n",
    "rfc.fit(train_data, train_labels)\n",
    "\n",
    "print 'Accuracy (a random forest):', rfc.score(dev_data, dev_labels)\n"
   ]
  },
  {
   "cell_type": "code",
   "execution_count": 14,
   "metadata": {
    "collapsed": false
   },
   "outputs": [
    {
     "name": "stdout",
     "output_type": "stream",
     "text": [
      "Accuracy (adaboost with decision trees): 0.208017149471\n"
     ]
    }
   ],
   "source": [
    "\n",
    "abc = AdaBoostClassifier(base_estimator=DecisionTreeClassifier(max_depth=1), n_estimators=100, learning_rate=0.1)\n",
    "\n",
    "abc.fit(train_data, train_labels)\n",
    "print 'Accuracy (adaboost with decision trees):', abc.score(dev_data, dev_labels)"
   ]
  },
  {
   "cell_type": "code",
   "execution_count": null,
   "metadata": {
    "collapsed": true
   },
   "outputs": [],
   "source": []
  }
 ],
 "metadata": {
  "kernelspec": {
   "display_name": "Python 2",
   "language": "python",
   "name": "python2"
  },
  "language_info": {
   "codemirror_mode": {
    "name": "ipython",
    "version": 2
   },
   "file_extension": ".py",
   "mimetype": "text/x-python",
   "name": "python",
   "nbconvert_exporter": "python",
   "pygments_lexer": "ipython2",
   "version": "2.7.9"
  }
 },
 "nbformat": 4,
 "nbformat_minor": 0
}
