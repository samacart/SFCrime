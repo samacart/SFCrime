{
 "cells": [
  {
   "cell_type": "code",
   "execution_count": 1,
   "metadata": {
    "collapsed": false
   },
   "outputs": [],
   "source": [
    "# This tells matplotlib not to try opening a new window for each plot.\n",
    "%matplotlib inline\n",
    "\n",
    "\n",
    "import sys\n",
    "sys.path.append('/usr/local/lib/python2.7/site-packages/')\n",
    "\n",
    "import datetime\n",
    "import pandas as pd\n",
    "import numpy as np\n",
    "import seaborn as sns\n",
    "import matplotlib.pyplot as plt\n",
    "import numpy as np\n",
    "import operator\n",
    "\n",
    "from sklearn import preprocessing\n",
    "from sklearn import metrics\n",
    "from sklearn.grid_search import GridSearchCV\n",
    "from sklearn.metrics import classification_report\n",
    "from sklearn.neighbors import KNeighborsRegressor\n",
    "import csv\n",
    "import time\n",
    "\n",
    "from sklearn.naive_bayes import MultinomialNB,BernoulliNB,GaussianNB\n",
    "from sklearn.linear_model import LogisticRegression\n",
    "from sklearn.linear_model import LinearRegression\n",
    "from sklearn.ensemble import RandomForestClassifier as RFC\n",
    "from sklearn.tree import DecisionTreeClassifier\n",
    "from sklearn.ensemble import RandomForestClassifier \n",
    "from sklearn.ensemble import AdaBoostClassifier \n",
    "from sklearn.tree import DecisionTreeRegressor\n",
    "from sklearn.ensemble import GradientBoostingRegressor\n",
    "from sklearn.metrics import log_loss\n",
    "from sklearn.qda import QDA"
   ]
  },
  {
   "cell_type": "code",
   "execution_count": 2,
   "metadata": {
    "collapsed": false
   },
   "outputs": [],
   "source": [
    "#running on a windows machine, change filepaths as needed\n",
    "\n",
    "# Load the data - TRAINING\n",
    "train_df = pd.read_csv('Data/train.csv')"
   ]
  },
  {
   "cell_type": "code",
   "execution_count": 31,
   "metadata": {
    "collapsed": false
   },
   "outputs": [
    {
     "data": {
      "text/html": [
       "<div style=\"max-height:1000px;max-width:1500px;overflow:auto;\">\n",
       "<table border=\"1\" class=\"dataframe\">\n",
       "  <thead>\n",
       "    <tr style=\"text-align: right;\">\n",
       "      <th></th>\n",
       "      <th>Dates</th>\n",
       "      <th>Category</th>\n",
       "      <th>Descript</th>\n",
       "      <th>DayOfWeek</th>\n",
       "      <th>PdDistrict</th>\n",
       "      <th>Resolution</th>\n",
       "      <th>Address</th>\n",
       "      <th>X</th>\n",
       "      <th>Y</th>\n",
       "    </tr>\n",
       "  </thead>\n",
       "  <tbody>\n",
       "    <tr>\n",
       "      <th>0</th>\n",
       "      <td> 2015-05-13 23:53:00</td>\n",
       "      <td>       WARRANTS</td>\n",
       "      <td>               WARRANT ARREST</td>\n",
       "      <td> Wednesday</td>\n",
       "      <td> NORTHERN</td>\n",
       "      <td> ARREST, BOOKED</td>\n",
       "      <td>        OAK ST / LAGUNA ST</td>\n",
       "      <td>-122.425892</td>\n",
       "      <td> 37.774599</td>\n",
       "    </tr>\n",
       "    <tr>\n",
       "      <th>1</th>\n",
       "      <td> 2015-05-13 23:53:00</td>\n",
       "      <td> OTHER OFFENSES</td>\n",
       "      <td>     TRAFFIC VIOLATION ARREST</td>\n",
       "      <td> Wednesday</td>\n",
       "      <td> NORTHERN</td>\n",
       "      <td> ARREST, BOOKED</td>\n",
       "      <td>        OAK ST / LAGUNA ST</td>\n",
       "      <td>-122.425892</td>\n",
       "      <td> 37.774599</td>\n",
       "    </tr>\n",
       "    <tr>\n",
       "      <th>2</th>\n",
       "      <td> 2015-05-13 23:33:00</td>\n",
       "      <td> OTHER OFFENSES</td>\n",
       "      <td>     TRAFFIC VIOLATION ARREST</td>\n",
       "      <td> Wednesday</td>\n",
       "      <td> NORTHERN</td>\n",
       "      <td> ARREST, BOOKED</td>\n",
       "      <td> VANNESS AV / GREENWICH ST</td>\n",
       "      <td>-122.424363</td>\n",
       "      <td> 37.800414</td>\n",
       "    </tr>\n",
       "    <tr>\n",
       "      <th>3</th>\n",
       "      <td> 2015-05-13 23:30:00</td>\n",
       "      <td>  LARCENY/THEFT</td>\n",
       "      <td> GRAND THEFT FROM LOCKED AUTO</td>\n",
       "      <td> Wednesday</td>\n",
       "      <td> NORTHERN</td>\n",
       "      <td>           NONE</td>\n",
       "      <td>  1500 Block of LOMBARD ST</td>\n",
       "      <td>-122.426995</td>\n",
       "      <td> 37.800873</td>\n",
       "    </tr>\n",
       "    <tr>\n",
       "      <th>4</th>\n",
       "      <td> 2015-05-13 23:30:00</td>\n",
       "      <td>  LARCENY/THEFT</td>\n",
       "      <td> GRAND THEFT FROM LOCKED AUTO</td>\n",
       "      <td> Wednesday</td>\n",
       "      <td>     PARK</td>\n",
       "      <td>           NONE</td>\n",
       "      <td> 100 Block of BRODERICK ST</td>\n",
       "      <td>-122.438738</td>\n",
       "      <td> 37.771541</td>\n",
       "    </tr>\n",
       "  </tbody>\n",
       "</table>\n",
       "</div>"
      ],
      "text/plain": [
       "                 Dates        Category                      Descript  \\\n",
       "0  2015-05-13 23:53:00        WARRANTS                WARRANT ARREST   \n",
       "1  2015-05-13 23:53:00  OTHER OFFENSES      TRAFFIC VIOLATION ARREST   \n",
       "2  2015-05-13 23:33:00  OTHER OFFENSES      TRAFFIC VIOLATION ARREST   \n",
       "3  2015-05-13 23:30:00   LARCENY/THEFT  GRAND THEFT FROM LOCKED AUTO   \n",
       "4  2015-05-13 23:30:00   LARCENY/THEFT  GRAND THEFT FROM LOCKED AUTO   \n",
       "\n",
       "   DayOfWeek PdDistrict      Resolution                    Address  \\\n",
       "0  Wednesday   NORTHERN  ARREST, BOOKED         OAK ST / LAGUNA ST   \n",
       "1  Wednesday   NORTHERN  ARREST, BOOKED         OAK ST / LAGUNA ST   \n",
       "2  Wednesday   NORTHERN  ARREST, BOOKED  VANNESS AV / GREENWICH ST   \n",
       "3  Wednesday   NORTHERN            NONE   1500 Block of LOMBARD ST   \n",
       "4  Wednesday       PARK            NONE  100 Block of BRODERICK ST   \n",
       "\n",
       "            X          Y  \n",
       "0 -122.425892  37.774599  \n",
       "1 -122.425892  37.774599  \n",
       "2 -122.424363  37.800414  \n",
       "3 -122.426995  37.800873  \n",
       "4 -122.438738  37.771541  "
      ]
     },
     "execution_count": 31,
     "metadata": {},
     "output_type": "execute_result"
    }
   ],
   "source": [
    "# Explore the data\n",
    "train_df.head()"
   ]
  },
  {
   "cell_type": "code",
   "execution_count": 32,
   "metadata": {
    "collapsed": false
   },
   "outputs": [
    {
     "name": "stdout",
     "output_type": "stream",
     "text": [
      "Number of categories: 39\n",
      "Summary of X\n",
      "count    878049.000000\n",
      "mean       -122.422616\n",
      "std           0.030354\n",
      "min        -122.513642\n",
      "25%        -122.432952\n",
      "50%        -122.416420\n",
      "75%        -122.406959\n",
      "max        -120.500000\n",
      "Name: X, dtype: float64\n",
      "Summary of Y\n",
      "count    878049.000000\n",
      "mean         37.771020\n",
      "std           0.456893\n",
      "min          37.707879\n",
      "25%          37.752427\n",
      "50%          37.775421\n",
      "75%          37.784369\n",
      "max          90.000000\n",
      "Name: Y, dtype: float64\n"
     ]
    }
   ],
   "source": [
    "print \"Number of categories: {}\".format(len(train_df.Category.unique()))\n",
    "print \"Summary of X\"\n",
    "print train_df.X.describe()\n",
    "print \"Summary of Y\"\n",
    "print train_df.Y.describe()"
   ]
  },
  {
   "cell_type": "code",
   "execution_count": 3,
   "metadata": {
    "collapsed": false
   },
   "outputs": [],
   "source": [
    "# Preprocess feature names - changing from names to numbers for easier processing.\n",
    "\n",
    "# Split the street up into single locations\n",
    "# For example, OAK ST / LAGUNA ST becomes OAK and LAGUNA\n",
    "streets = [w for w in train_df['Address'].str.split()] \n",
    "p = []\n",
    "for s in streets:\n",
    "    p.append([i for i in s if i.isupper() and len(i) > 2])\n",
    "\n",
    "train_df['street'] = p\n",
    "\n",
    "# Preprocess Day of Week\n",
    "le = preprocessing.LabelEncoder()\n",
    "dow = le.fit_transform(train_df.DayOfWeek.values)\n",
    "dow_orig = le.classes_\n",
    "\n",
    "# Preprocess the full address\n",
    "addr = le.fit_transform(train_df.Address)\n",
    "addr_orig = le.classes_\n",
    "\n",
    "# Preprocess the category\n",
    "category = le.fit_transform(train_df.Category)\n",
    "cat_orig = le.classes_\n",
    "\n",
    "# Preprocess the police district\n",
    "pdist = le.fit_transform(train_df.PdDistrict)\n",
    "pd_orig = le.classes_\n",
    "\n",
    "# Preprocess the street\n",
    "street = le.fit_transform(train_df.street)\n",
    "street_orig = le.classes_\n"
   ]
  },
  {
   "cell_type": "code",
   "execution_count": 4,
   "metadata": {
    "collapsed": false
   },
   "outputs": [],
   "source": [
    "# Update the original dataset with the new preprocessed data.\n",
    "train_df['crime'] = category\n",
    "train_df['addr'] = addr\n",
    "train_df['dow'] = dow\n",
    "train_df['pd'] = pdist\n",
    "train_df['street'] = street"
   ]
  },
  {
   "cell_type": "code",
   "execution_count": 5,
   "metadata": {
    "collapsed": false
   },
   "outputs": [],
   "source": [
    "# Split the dates up into components - time, hour, month, etc\n",
    "dates = pd.DatetimeIndex(train_df.Dates)\n",
    "\n",
    "train_df['date'] = dates.date\n",
    "train_df['time'] = dates.time\n",
    "train_df['hour'] = dates.hour\n",
    "train_df['minutes'] = dates.minute\n",
    "train_df['month'] = dates.month\n",
    "train_df['woy'] = dates.weekofyear\n",
    "train_df['year'] = dates.year\n",
    "\n",
    "\n",
    "holidays = [\n",
    "            '2015-01-01','2015-01-19','2015-02-16','2015-05-25','2015-07-04','2015-09-07','2015-10-12','2015-11-11','2015-11-26','2015-11-27','2015-12-25',\n",
    "            '2014-01-01','2014-01-20','2014-02-17','2014-05-26','2014-07-04','2014-09-01','2014-10-13','2014-11-11','2014-11-27','2014-11-28','2014-12-25',\n",
    "            '2013-01-01','2013-01-21','2013-02-18','2013-05-27','2013-07-04','2013-09-02','2013-10-14','2013-11-11','2013-11-28','2013-11-29','2013-12-25',\n",
    "            '2012-01-01','2012-01-16','2012-02-20','2012-05-28','2012-07-04','2012-09-03','2012-10-08','2012-11-11','2012-11-22','2012-11-23','2012-12-25',\n",
    "            '2011-01-01','2011-01-17','2011-02-21','2011-05-30','2011-07-04','2011-09-05','2011-10-10','2011-11-11','2011-11-24','2011-11-25','2011-12-25',\n",
    "            '2010-01-01','2010-01-18','2010-02-15','2010-05-31','2010-07-04','2010-09-06','2010-10-11','2010-11-11','2010-11-25','2010-11-26','2010-12-25',\n",
    "            '2009-01-01','2009-01-19','2009-02-16','2009-05-25','2009-07-04','2009-09-07','2009-10-12','2009-11-11','2009-11-26','2009-11-27','2009-12-25',\n",
    "            '2008-01-01','2008-01-21','2008-02-18','2008-05-26','2008-07-04','2008-09-01','2008-10-13','2008-11-11','2008-11-27','2008-11-28','2008-12-25',\n",
    "            '2007-01-01','2007-01-15','2007-02-19','2007-05-28','2007-07-04','2007-09-03','2007-10-08','2007-11-11','2007-11-22','2007-11-23','2007-12-25',\n",
    "            '2006-01-01','2006-01-16','2006-02-20','2006-05-29','2006-07-04','2006-09-04','2006-10-09','2006-11-11','2006-11-23','2006-11-24','2006-12-25',\n",
    "            '2005-01-01','2005-01-17','2005-02-21','2005-05-30','2005-07-04','2005-09-05','2005-10-10','2005-11-11','2005-11-24','2005-11-25','2005-12-25',\n",
    "            '2004-01-01','2004-01-19','2004-02-16','2004-05-31','2004-07-04','2004-09-06','2004-10-11','2004-11-11','2004-11-25','2004-11-26','2004-12-25'\n",
    "           ]\n",
    "hols = pd.DatetimeIndex(holidays).date\n",
    "\n",
    "train_df['holiday'] = 0\n",
    "train_df.ix[train_df['date'].isin(hols), 'holiday'] = 1\n",
    "\n",
    "\n",
    "\n",
    "# Create a new feature - time of day\n",
    "train_df.ix[train_df.hour <12,'time_of_day'] = \"morning\"\n",
    "train_df.ix[train_df.hour >=12,'time_of_day'] = \"midday\"\n",
    "train_df.ix[train_df.hour >14,'time_of_day'] = \"afternoon\"\n",
    "train_df.ix[train_df.hour >18,'time_of_day'] = \"night\"\n",
    "\n",
    "# Preprocess the time of day\n",
    "le = preprocessing.LabelEncoder()\n",
    "tod = le.fit_transform(train_df.time_of_day.values)\n",
    "tod_orig = le.classes_\n",
    "\n",
    "# Store it back into the training data\n",
    "train_df['tod'] = tod\n",
    "\n",
    "# Create a new feature - Season\n",
    "train_df.ix[train_df.month == 12,'seas'] = \"winter\"\n",
    "train_df.ix[train_df.month == 1,'seas'] = \"winter\"\n",
    "train_df.ix[train_df.month == 2,'seas'] = \"winter\"\n",
    "train_df.ix[train_df.month == 3,'seas'] = \"spring\"\n",
    "train_df.ix[train_df.month == 4,'seas'] = \"spring\"\n",
    "train_df.ix[train_df.month == 5,'seas'] = \"spring\"\n",
    "train_df.ix[train_df.month == 6,'seas'] = \"summer\"\n",
    "train_df.ix[train_df.month == 7,'seas'] = \"summer\"\n",
    "train_df.ix[train_df.month == 8,'seas'] = \"summer\"\n",
    "train_df.ix[train_df.month == 9,'seas'] = \"fall\"\n",
    "train_df.ix[train_df.month == 10,'seas'] = \"fall\"\n",
    "train_df.ix[train_df.month == 11,'seas'] = \"fall\"\n",
    "\n",
    "# Preprocess the season\n",
    "le = preprocessing.LabelEncoder()\n",
    "season = le.fit_transform(train_df.seas.values)\n",
    "season_orig = le.classes_\n",
    "\n",
    "# Store it back into the training data\n",
    "train_df['season'] = season"
   ]
  },
  {
   "cell_type": "code",
   "execution_count": 6,
   "metadata": {
    "collapsed": false
   },
   "outputs": [
    {
     "data": {
      "text/html": [
       "<div style=\"max-height:1000px;max-width:1500px;overflow:auto;\">\n",
       "<table border=\"1\" class=\"dataframe\">\n",
       "  <thead>\n",
       "    <tr style=\"text-align: right;\">\n",
       "      <th></th>\n",
       "      <th>date</th>\n",
       "      <th>holiday</th>\n",
       "      <th>year</th>\n",
       "      <th>month</th>\n",
       "      <th>woy</th>\n",
       "      <th>hour</th>\n",
       "      <th>minutes</th>\n",
       "      <th>tod</th>\n",
       "      <th>dow</th>\n",
       "      <th>season</th>\n",
       "      <th>pd</th>\n",
       "      <th>addr</th>\n",
       "      <th>street</th>\n",
       "      <th>X</th>\n",
       "      <th>Y</th>\n",
       "      <th>crime</th>\n",
       "    </tr>\n",
       "  </thead>\n",
       "  <tbody>\n",
       "    <tr>\n",
       "      <th>0</th>\n",
       "      <td> 2015-05-13</td>\n",
       "      <td> 0</td>\n",
       "      <td> 2015</td>\n",
       "      <td> 5</td>\n",
       "      <td> 20</td>\n",
       "      <td> 23</td>\n",
       "      <td> 53</td>\n",
       "      <td> 3</td>\n",
       "      <td> 6</td>\n",
       "      <td> 1</td>\n",
       "      <td> 4</td>\n",
       "      <td> 19790</td>\n",
       "      <td> 10076</td>\n",
       "      <td>-122.425892</td>\n",
       "      <td> 37.774599</td>\n",
       "      <td> 37</td>\n",
       "    </tr>\n",
       "    <tr>\n",
       "      <th>1</th>\n",
       "      <td> 2015-05-13</td>\n",
       "      <td> 0</td>\n",
       "      <td> 2015</td>\n",
       "      <td> 5</td>\n",
       "      <td> 20</td>\n",
       "      <td> 23</td>\n",
       "      <td> 53</td>\n",
       "      <td> 3</td>\n",
       "      <td> 6</td>\n",
       "      <td> 1</td>\n",
       "      <td> 4</td>\n",
       "      <td> 19790</td>\n",
       "      <td> 10076</td>\n",
       "      <td>-122.425892</td>\n",
       "      <td> 37.774599</td>\n",
       "      <td> 21</td>\n",
       "    </tr>\n",
       "    <tr>\n",
       "      <th>2</th>\n",
       "      <td> 2015-05-13</td>\n",
       "      <td> 0</td>\n",
       "      <td> 2015</td>\n",
       "      <td> 5</td>\n",
       "      <td> 20</td>\n",
       "      <td> 23</td>\n",
       "      <td> 33</td>\n",
       "      <td> 3</td>\n",
       "      <td> 6</td>\n",
       "      <td> 1</td>\n",
       "      <td> 4</td>\n",
       "      <td> 22697</td>\n",
       "      <td> 13528</td>\n",
       "      <td>-122.424363</td>\n",
       "      <td> 37.800414</td>\n",
       "      <td> 21</td>\n",
       "    </tr>\n",
       "    <tr>\n",
       "      <th>3</th>\n",
       "      <td> 2015-05-13</td>\n",
       "      <td> 0</td>\n",
       "      <td> 2015</td>\n",
       "      <td> 5</td>\n",
       "      <td> 20</td>\n",
       "      <td> 23</td>\n",
       "      <td> 30</td>\n",
       "      <td> 3</td>\n",
       "      <td> 6</td>\n",
       "      <td> 1</td>\n",
       "      <td> 4</td>\n",
       "      <td>  4266</td>\n",
       "      <td>  8634</td>\n",
       "      <td>-122.426995</td>\n",
       "      <td> 37.800873</td>\n",
       "      <td> 16</td>\n",
       "    </tr>\n",
       "    <tr>\n",
       "      <th>4</th>\n",
       "      <td> 2015-05-13</td>\n",
       "      <td> 0</td>\n",
       "      <td> 2015</td>\n",
       "      <td> 5</td>\n",
       "      <td> 20</td>\n",
       "      <td> 23</td>\n",
       "      <td> 30</td>\n",
       "      <td> 3</td>\n",
       "      <td> 6</td>\n",
       "      <td> 1</td>\n",
       "      <td> 5</td>\n",
       "      <td>  1843</td>\n",
       "      <td>  3183</td>\n",
       "      <td>-122.438738</td>\n",
       "      <td> 37.771541</td>\n",
       "      <td> 16</td>\n",
       "    </tr>\n",
       "  </tbody>\n",
       "</table>\n",
       "</div>"
      ],
      "text/plain": [
       "         date  holiday  year  month  woy  hour  minutes  tod  dow  season  pd  \\\n",
       "0  2015-05-13        0  2015      5   20    23       53    3    6       1   4   \n",
       "1  2015-05-13        0  2015      5   20    23       53    3    6       1   4   \n",
       "2  2015-05-13        0  2015      5   20    23       33    3    6       1   4   \n",
       "3  2015-05-13        0  2015      5   20    23       30    3    6       1   4   \n",
       "4  2015-05-13        0  2015      5   20    23       30    3    6       1   5   \n",
       "\n",
       "    addr  street           X          Y  crime  \n",
       "0  19790   10076 -122.425892  37.774599     37  \n",
       "1  19790   10076 -122.425892  37.774599     21  \n",
       "2  22697   13528 -122.424363  37.800414     21  \n",
       "3   4266    8634 -122.426995  37.800873     16  \n",
       "4   1843    3183 -122.438738  37.771541     16  "
      ]
     },
     "execution_count": 6,
     "metadata": {},
     "output_type": "execute_result"
    }
   ],
   "source": [
    "# Create a new subset of data\n",
    "train_df_new = train_df[['date','holiday','year','month', 'woy', 'hour','minutes','tod', 'dow','season', 'pd','addr','street', 'X','Y','crime']]\n",
    "train_df_new.head()"
   ]
  },
  {
   "cell_type": "code",
   "execution_count": 29,
   "metadata": {
    "collapsed": false
   },
   "outputs": [
    {
     "name": "stdout",
     "output_type": "stream",
     "text": [
      "Days as dummy\n",
      "(878049, 7)\n",
      "\n",
      "District as dummy\n",
      "(878049, 10)\n"
     ]
    },
    {
     "ename": "MemoryError",
     "evalue": "",
     "output_type": "error",
     "traceback": [
      "\u001b[1;31m---------------------------------------------------------------------------\u001b[0m",
      "\u001b[1;31mMemoryError\u001b[0m                               Traceback (most recent call last)",
      "\u001b[1;32m<ipython-input-29-e28c9c3504eb>\u001b[0m in \u001b[0;36m<module>\u001b[1;34m()\u001b[0m\n\u001b[0;32m     10\u001b[0m \u001b[1;32mprint\u001b[0m \u001b[0mdum_pds\u001b[0m\u001b[1;33m.\u001b[0m\u001b[0mshape\u001b[0m\u001b[1;33m\u001b[0m\u001b[0m\n\u001b[0;32m     11\u001b[0m \u001b[1;33m\u001b[0m\u001b[0m\n\u001b[1;32m---> 12\u001b[1;33m \u001b[0mdum_street\u001b[0m \u001b[1;33m=\u001b[0m \u001b[0mpd\u001b[0m\u001b[1;33m.\u001b[0m\u001b[0mget_dummies\u001b[0m\u001b[1;33m(\u001b[0m\u001b[0mtrain_df\u001b[0m\u001b[1;33m.\u001b[0m\u001b[0mstreet\u001b[0m\u001b[1;33m)\u001b[0m\u001b[1;33m\u001b[0m\u001b[0m\n\u001b[0m\u001b[0;32m     13\u001b[0m \u001b[1;32mprint\u001b[0m \u001b[1;34m\"\\Street as dummy\"\u001b[0m\u001b[1;33m\u001b[0m\u001b[0m\n\u001b[0;32m     14\u001b[0m \u001b[1;32mprint\u001b[0m \u001b[0mdum_street\u001b[0m\u001b[1;33m.\u001b[0m\u001b[0mshape\u001b[0m\u001b[1;33m\u001b[0m\u001b[0m\n",
      "\u001b[1;32m/home/simon/anaconda/lib/python2.7/site-packages/pandas/core/reshape.pyc\u001b[0m in \u001b[0;36mget_dummies\u001b[1;34m(data, prefix, prefix_sep, dummy_na, columns)\u001b[0m\n\u001b[0;32m   1144\u001b[0m         \u001b[0mresult\u001b[0m \u001b[1;33m=\u001b[0m \u001b[0mconcat\u001b[0m\u001b[1;33m(\u001b[0m\u001b[0mwith_dummies\u001b[0m\u001b[1;33m,\u001b[0m \u001b[0maxis\u001b[0m\u001b[1;33m=\u001b[0m\u001b[1;36m1\u001b[0m\u001b[1;33m)\u001b[0m\u001b[1;33m\u001b[0m\u001b[0m\n\u001b[0;32m   1145\u001b[0m     \u001b[1;32melse\u001b[0m\u001b[1;33m:\u001b[0m\u001b[1;33m\u001b[0m\u001b[0m\n\u001b[1;32m-> 1146\u001b[1;33m         \u001b[0mresult\u001b[0m \u001b[1;33m=\u001b[0m \u001b[0m_get_dummies_1d\u001b[0m\u001b[1;33m(\u001b[0m\u001b[0mdata\u001b[0m\u001b[1;33m,\u001b[0m \u001b[0mprefix\u001b[0m\u001b[1;33m,\u001b[0m \u001b[0mprefix_sep\u001b[0m\u001b[1;33m,\u001b[0m \u001b[0mdummy_na\u001b[0m\u001b[1;33m)\u001b[0m\u001b[1;33m\u001b[0m\u001b[0m\n\u001b[0m\u001b[0;32m   1147\u001b[0m     \u001b[1;32mreturn\u001b[0m \u001b[0mresult\u001b[0m\u001b[1;33m\u001b[0m\u001b[0m\n\u001b[0;32m   1148\u001b[0m \u001b[1;33m\u001b[0m\u001b[0m\n",
      "\u001b[1;32m/home/simon/anaconda/lib/python2.7/site-packages/pandas/core/reshape.pyc\u001b[0m in \u001b[0;36m_get_dummies_1d\u001b[1;34m(data, prefix, prefix_sep, dummy_na)\u001b[0m\n\u001b[0;32m   1165\u001b[0m         \u001b[0mnumber_of_cols\u001b[0m \u001b[1;33m+=\u001b[0m \u001b[1;36m1\u001b[0m\u001b[1;33m\u001b[0m\u001b[0m\n\u001b[0;32m   1166\u001b[0m \u001b[1;33m\u001b[0m\u001b[0m\n\u001b[1;32m-> 1167\u001b[1;33m     \u001b[0mdummy_mat\u001b[0m \u001b[1;33m=\u001b[0m \u001b[0mnp\u001b[0m\u001b[1;33m.\u001b[0m\u001b[0meye\u001b[0m\u001b[1;33m(\u001b[0m\u001b[0mnumber_of_cols\u001b[0m\u001b[1;33m)\u001b[0m\u001b[1;33m.\u001b[0m\u001b[0mtake\u001b[0m\u001b[1;33m(\u001b[0m\u001b[0mcat\u001b[0m\u001b[1;33m.\u001b[0m\u001b[0mcodes\u001b[0m\u001b[1;33m,\u001b[0m \u001b[0maxis\u001b[0m\u001b[1;33m=\u001b[0m\u001b[1;36m0\u001b[0m\u001b[1;33m)\u001b[0m\u001b[1;33m\u001b[0m\u001b[0m\n\u001b[0m\u001b[0;32m   1168\u001b[0m \u001b[1;33m\u001b[0m\u001b[0m\n\u001b[0;32m   1169\u001b[0m     \u001b[1;32mif\u001b[0m \u001b[0mdummy_na\u001b[0m\u001b[1;33m:\u001b[0m\u001b[1;33m\u001b[0m\u001b[0m\n",
      "\u001b[1;31mMemoryError\u001b[0m: "
     ]
    }
   ],
   "source": [
    "'''EVAN NEW STUFF'''\n",
    "\n",
    "#Create binarized dummy arrays\n",
    "dum_days = pd.get_dummies(train_df.DayOfWeek)\n",
    "print \"Days as dummy\"\n",
    "print dum_days.shape\n",
    "\n",
    "dum_pds = pd.get_dummies(train_df.PdDistrict)\n",
    "print \"\\nDistrict as dummy\"\n",
    "print dum_pds.shape\n",
    "\n",
    "dum_street = pd.get_dummies(train_df.street)\n",
    "print \"\\Street as dummy\"\n",
    "print dum_street.shape\n",
    "\n",
    "dum_hours = pd.get_dummies(train_df_new.hour)\n",
    "print \"\\nHours as dummy\"\n",
    "print dum_hours.shape\n",
    "\n",
    "dum_season = pd.get_dummies(train_df.seas)\n",
    "print \"\\nSeason as dummy\"\n",
    "print dum_season.shape\n",
    "\n",
    "dum_tod = pd.get_dummies(train_df.time_of_day)\n",
    "print \"\\ToD as dummy\"\n",
    "print dum_tod.shape\n",
    "\n",
    "# TRIAL 1\n",
    "#dum_cols = pd.concat([dum_days, dum_pds], axis=1)\n",
    "#Acc = 0.219265788288\n",
    "#LogLoss = 2.61856923059\n",
    "\n",
    "#TRIAL 2\n",
    "dum_cols = pd.concat([dum_days, dum_pds, dum_hours, dum_season, dum_street], axis=1)\n",
    "#0.222293171569\n",
    "#2.58553584854\n",
    "\n",
    "#TRIAL 3\n",
    "#dum_cols = pd.concat([dum_days, dum_pds, dum_tod, dum_season], axis=1)\n",
    "#0.221415173405\n",
    "#2.60544577822\n",
    "\n",
    "#TRIAL 4\n",
    "#dum_cols = pd.concat([dum_days, dum_pds, dum_hours, dum_season], axis=1)\n",
    "#0.222293171569\n",
    "#2.58553584854\n",
    "\n",
    "print \"\\Combined:\"\n",
    "print dum_cols.shape\n",
    "print dum_cols.head()"
   ]
  },
  {
   "cell_type": "code",
   "execution_count": 24,
   "metadata": {
    "collapsed": false
   },
   "outputs": [
    {
     "name": "stdout",
     "output_type": "stream",
     "text": [
      "(878049, 46)\n",
      "   crime  Friday  Monday  Saturday  Sunday  Thursday  Tuesday  Wednesday  \\\n",
      "0     37       0       0         0       0         0        0          1   \n",
      "1     21       0       0         0       0         0        0          1   \n",
      "2     21       0       0         0       0         0        0          1   \n",
      "3     16       0       0         0       0         0        0          1   \n",
      "4     16       0       0         0       0         0        0          1   \n",
      "\n",
      "   BAYVIEW  CENTRAL   ...    18  19  20  21  22  23  fall  spring  summer  \\\n",
      "0        0        0   ...     0   0   0   0   0   1     0       1       0   \n",
      "1        0        0   ...     0   0   0   0   0   1     0       1       0   \n",
      "2        0        0   ...     0   0   0   0   0   1     0       1       0   \n",
      "3        0        0   ...     0   0   0   0   0   1     0       1       0   \n",
      "4        0        0   ...     0   0   0   0   0   1     0       1       0   \n",
      "\n",
      "   winter  \n",
      "0       0  \n",
      "1       0  \n",
      "2       0  \n",
      "3       0  \n",
      "4       0  \n",
      "\n",
      "[5 rows x 46 columns]\n"
     ]
    }
   ],
   "source": [
    "'''EVAN NEW STUFF'''\n",
    "#train_2 = pd.concat([train_df_new.crime, train_df_new.X, train_df_new.Y, dum_cols], axis=1)\n",
    "#train_2 = pd.concat([train_df_new.crime, dum_cols], axis=1)\n",
    "\n",
    "#Optimizing non-dummy cols on Trail2\n",
    "train_2 = pd.concat([train_df_new.crime, dum_cols], axis=1)\n",
    "#0.222298872856\n",
    "#2.58583128457\n",
    "\n",
    "print train_2.shape\n",
    "print train_2.head()"
   ]
  },
  {
   "cell_type": "code",
   "execution_count": 25,
   "metadata": {
    "collapsed": false
   },
   "outputs": [
    {
     "name": "stderr",
     "output_type": "stream",
     "text": [
      "/home/simon/anaconda/lib/python2.7/site-packages/IPython/kernel/__main__.py:9: SettingWithCopyWarning: \n",
      "A value is trying to be set on a copy of a slice from a DataFrame\n",
      "\n",
      "See the the caveats in the documentation: http://pandas.pydata.org/pandas-docs/stable/indexing.html#indexing-view-versus-copy\n",
      "/home/simon/anaconda/lib/python2.7/site-packages/IPython/kernel/__main__.py:13: SettingWithCopyWarning: \n",
      "A value is trying to be set on a copy of a slice from a DataFrame\n",
      "\n",
      "See the the caveats in the documentation: http://pandas.pydata.org/pandas-docs/stable/indexing.html#indexing-view-versus-copy\n"
     ]
    },
    {
     "name": "stdout",
     "output_type": "stream",
     "text": [
      "Dev: (175399, 45)\n",
      "Train: (702650, 45)\n",
      "(702650,)\n",
      "(175399,)\n"
     ]
    }
   ],
   "source": [
    "'''EVAN NEW STUFF'''\n",
    "# Create the DEV set from the TRAIN set - 20% dev, 80% train\n",
    "DEV_SIZE = 0.20\n",
    "np.random.seed(0)\n",
    "msk = np.random.rand(len(train_2)) < DEV_SIZE\n",
    "\n",
    "dev = train_2[msk]\n",
    "dev_labels = np.array(dev.crime)\n",
    "dev.drop('crime',1,inplace=True)\n",
    "\n",
    "train = train_2[~msk]  # inverse of boolean mask\n",
    "train_labels = np.array(train.crime)\n",
    "train.drop('crime',1,inplace=True)\n",
    "\n",
    "print \"Dev: \" + str(dev.shape)\n",
    "print \"Train: \" + str(train.shape)\n",
    "print train_labels.shape\n",
    "print dev_labels.shape"
   ]
  },
  {
   "cell_type": "code",
   "execution_count": 44,
   "metadata": {
    "collapsed": false
   },
   "outputs": [
    {
     "name": "stderr",
     "output_type": "stream",
     "text": [
      "/home/simon/anaconda/lib/python2.7/site-packages/matplotlib/axes/_subplots.py:69: MatplotlibDeprecationWarning: The use of 0 (which ends up being the _last_ sub-plot) is deprecated in 1.4 and will raise an error in 1.5\n",
      "  mplDeprecation)\n"
     ]
    },
    {
     "data": {
      "image/png": "[encoded data removed]",
      "text/plain": [
       "<matplotlib.figure.Figure at 0x7faac0b91790>"
      ]
     },
     "metadata": {},
     "output_type": "display_data"
    }
   ],
   "source": [
    "# make sure dev and train datasets have similar distribution for outcome variable\n",
    "plt.figure(figsize=(20,10))\n",
    "labels = [train_labels, dev_labels]\n",
    "titles = [\"Training set\",\"Dev set\"]\n",
    "for i in [0,1]:\n",
    "    plt.subplot(1,2,i)\n",
    "    hist = np.histogram(labels[i], bins=range(38))\n",
    "    ix = np.argsort(hist[0])\n",
    "    plt.barh(range(37),hist[0][ix])\n",
    "    x = plt.yticks(range(37),cat_orig[ix])\n",
    "    ttl = \"Crime Distribution ({})\".format(titles[i])\n",
    "    plt.title(ttl)"
   ]
  },
  {
   "cell_type": "code",
   "execution_count": 26,
   "metadata": {
    "collapsed": false
   },
   "outputs": [
    {
     "name": "stdout",
     "output_type": "stream",
     "text": [
      "['Friday', 'Monday', 'Saturday', 'Sunday', 'Thursday', 'Tuesday', 'Wednesday', 'BAYVIEW', 'CENTRAL', 'INGLESIDE', 'MISSION', 'NORTHERN', 'PARK', 'RICHMOND', 'SOUTHERN', 'TARAVAL', 'TENDERLOIN', 0, 1, 2, 3, 4, 5, 6, 7, 8, 9, 10, 11, 12, 13, 14, 15, 16, 17, 18, 19, 20, 21, 22, 23, 'fall', 'spring', 'summer', 'winter']\n",
      "   Friday  Monday  Saturday  Sunday  Thursday  Tuesday  Wednesday  BAYVIEW  \\\n",
      "0       0       0         0       0         0        0          1        0   \n",
      "1       0       0         0       0         0        0          1        0   \n",
      "2       0       0         0       0         0        0          1        0   \n",
      "3       0       0         0       0         0        0          1        0   \n",
      "4       0       0         0       0         0        0          1        0   \n",
      "\n",
      "   CENTRAL  INGLESIDE   ...    18  19  20  21  22  23  fall  spring  summer  \\\n",
      "0        0          0   ...     0   0   0   0   0   1     0       1       0   \n",
      "1        0          0   ...     0   0   0   0   0   1     0       1       0   \n",
      "2        0          0   ...     0   0   0   0   0   1     0       1       0   \n",
      "3        0          0   ...     0   0   0   0   0   1     0       1       0   \n",
      "4        0          0   ...     0   0   0   0   0   1     0       1       0   \n",
      "\n",
      "   winter  \n",
      "0       0  \n",
      "1       0  \n",
      "2       0  \n",
      "3       0  \n",
      "4       0  \n",
      "\n",
      "[5 rows x 45 columns]\n"
     ]
    }
   ],
   "source": [
    "'''EVAN NEW STUFF'''\n",
    "# Create the features\n",
    "features = [i for i in train.columns]\n",
    "print features\n",
    "print train[features][:5]"
   ]
  },
  {
   "cell_type": "code",
   "execution_count": 27,
   "metadata": {
    "collapsed": false
   },
   "outputs": [
    {
     "name": "stdout",
     "output_type": "stream",
     "text": [
      "Accuracy:  0.222281768995\n",
      "Log Loss:  2.58547567689\n"
     ]
    }
   ],
   "source": [
    "##################################\n",
    "# Model 1: Bernoulli Naive Bayes #\n",
    "##################################\n",
    "\n",
    "model = BernoulliNB()\n",
    "model.fit(train[features], train_labels)\n",
    "preds = model.predict(dev[features])\n",
    "print \"Accuracy: \", metrics.accuracy_score(dev_labels, preds)\n",
    "\n",
    "llpreds = np.array(model.predict_proba(dev[features]))\n",
    "print \"Log Loss: \" ,log_loss(dev_labels, llpreds)"
   ]
  },
  {
   "cell_type": "code",
   "execution_count": 16,
   "metadata": {
    "collapsed": false
   },
   "outputs": [
    {
     "name": "stdout",
     "output_type": "stream",
     "text": [
      "[22 22 22 ...,  0 22 23]\n",
      "Accuracy:  0.00347208364928\n",
      "Log Loss:  27.0256720059\n"
     ]
    }
   ],
   "source": [
    "##################################\n",
    "# Model 2: Gaussian Naive Bayes  #\n",
    "##################################\n",
    "model = GaussianNB()\n",
    "model.fit(train[features], train_labels)\n",
    "\n",
    "preds = model.predict(dev[features])\n",
    "print \"Accuracy: \", metrics.accuracy_score(dev_labels, preds)\n",
    "\n",
    "llpreds = np.array(model.predict_proba(dev[features]))\n",
    "print \"Log Loss: \" ,log_loss(dev_labels, llpreds)"
   ]
  },
  {
   "cell_type": "code",
   "execution_count": 28,
   "metadata": {
    "collapsed": false
   },
   "outputs": [
    {
     "name": "stdout",
     "output_type": "stream",
     "text": [
      "Accuracy:  0.221945393075\n",
      "Log Loss:  2.58289780761\n"
     ]
    }
   ],
   "source": [
    "##################################\n",
    "# Model 8: Logistic Regression   #\n",
    "##################################\n",
    "model = LogisticRegression()\n",
    "model.fit(train[features],train_labels)\n",
    "\n",
    "preds = model.predict(dev[features])\n",
    "print \"Accuracy: \", metrics.accuracy_score(dev_labels, preds)\n",
    "\n",
    "llpreds = np.array(model.predict_proba(dev[features]))\n",
    "print \"Log Loss: \" ,log_loss(dev_labels, llpreds)"
   ]
  },
  {
   "cell_type": "code",
   "execution_count": 18,
   "metadata": {
    "collapsed": false,
    "scrolled": true
   },
   "outputs": [
    {
     "name": "stdout",
     "output_type": "stream",
     "text": [
      " Train time = 21.41\n",
      "Accuracy:  -0.165007314753\n"
     ]
    },
    {
     "ename": "AttributeError",
     "evalue": "'KNeighborsRegressor' object has no attribute 'predict_proba'",
     "output_type": "error",
     "traceback": [
      "\u001b[1;31m---------------------------------------------------------------------------\u001b[0m",
      "\u001b[1;31mAttributeError\u001b[0m                            Traceback (most recent call last)",
      "\u001b[1;32m<ipython-input-18-c8468be79acb>\u001b[0m in \u001b[0;36m<module>\u001b[1;34m()\u001b[0m\n\u001b[0;32m     12\u001b[0m \u001b[1;32mprint\u001b[0m \u001b[1;34m\"Accuracy: \"\u001b[0m\u001b[1;33m,\u001b[0m \u001b[0mknn\u001b[0m\u001b[1;33m.\u001b[0m\u001b[0mscore\u001b[0m\u001b[1;33m(\u001b[0m\u001b[0mdev\u001b[0m\u001b[1;33m[\u001b[0m\u001b[0mfeatures\u001b[0m\u001b[1;33m]\u001b[0m\u001b[1;33m,\u001b[0m \u001b[0mdev_labels\u001b[0m\u001b[1;33m)\u001b[0m\u001b[1;33m\u001b[0m\u001b[0m\n\u001b[0;32m     13\u001b[0m \u001b[1;33m\u001b[0m\u001b[0m\n\u001b[1;32m---> 14\u001b[1;33m \u001b[0mllpreds\u001b[0m \u001b[1;33m=\u001b[0m \u001b[0mnp\u001b[0m\u001b[1;33m.\u001b[0m\u001b[0marray\u001b[0m\u001b[1;33m(\u001b[0m\u001b[0mknn\u001b[0m\u001b[1;33m.\u001b[0m\u001b[0mpredict_proba\u001b[0m\u001b[1;33m(\u001b[0m\u001b[0mdev\u001b[0m\u001b[1;33m[\u001b[0m\u001b[0mfeatures\u001b[0m\u001b[1;33m]\u001b[0m\u001b[1;33m)\u001b[0m\u001b[1;33m)\u001b[0m\u001b[1;33m\u001b[0m\u001b[0m\n\u001b[0m\u001b[0;32m     15\u001b[0m \u001b[1;32mprint\u001b[0m \u001b[1;34m\"Log Loss: \"\u001b[0m \u001b[1;33m,\u001b[0m\u001b[0mlog_loss\u001b[0m\u001b[1;33m(\u001b[0m\u001b[0mdev_labels\u001b[0m\u001b[1;33m,\u001b[0m \u001b[0mllpreds\u001b[0m\u001b[1;33m)\u001b[0m\u001b[1;33m\u001b[0m\u001b[0m\n\u001b[0;32m     16\u001b[0m \u001b[1;33m\u001b[0m\u001b[0m\n",
      "\u001b[1;31mAttributeError\u001b[0m: 'KNeighborsRegressor' object has no attribute 'predict_proba'"
     ]
    }
   ],
   "source": [
    "##################################\n",
    "# Model 3: K Nearest Neighbours  #\n",
    "##################################\n",
    "\n",
    "knn = KNeighborsRegressor()\n",
    "start_time = time.time()\n",
    "knn.fit(train[features], train_labels)\n",
    "print 'Train time = %.2f' %(time.time() - start_time)\n",
    "start_time = time.time()\n",
    "\n",
    "llpreds = np.array(knn.predict_proba(dev[features]))\n",
    "print \"Log Loss: \" ,log_loss(dev_labels, llpreds)\n",
    "\n",
    "print 'Prediction time = %.2f' %(time.time() - start_time)"
   ]
  },
  {
   "cell_type": "code",
   "execution_count": 19,
   "metadata": {
    "collapsed": false
   },
   "outputs": [
    {
     "name": "stdout",
     "output_type": "stream",
     "text": [
      "Accuracy:  0.249186141312\n",
      "Log Loss:  25.0030119152\n"
     ]
    }
   ],
   "source": [
    "##################################\n",
    "# Model 4: Decision Tree         #\n",
    "##################################\n",
    "\n",
    "dt = DecisionTreeClassifier(criterion=\"entropy\", splitter=\"best\", random_state=0)\n",
    "dt.fit(train[features], train_labels)\n",
    "\n",
    "preds = dt.predict(dev[features])\n",
    "print \"Accuracy: \", metrics.accuracy_score(dev_labels, preds)\n",
    "\n",
    "llpreds = np.array(dt.predict_proba(dev[features]))\n",
    "print \"Log Loss: \" ,log_loss(dev_labels, llpreds)\n"
   ]
  },
  {
   "cell_type": "code",
   "execution_count": null,
   "metadata": {
    "collapsed": false
   },
   "outputs": [],
   "source": [
    "##################################\n",
    "# Model 5: Random Forest         #\n",
    "##################################\n",
    "rfc = RandomForestClassifier()\n",
    "rfc.fit(train[features],train_labels)\n",
    "\n",
    "preds = rfc.predict(dev[features])\n",
    "print \"Accuracy: \", metrics.accuracy_score(dev_labels, preds)\n",
    "\n",
    "llpreds = np.array(rfc.predict_proba(dev[features]))\n",
    "print \"Log Loss: \" ,log_loss(dev_labels, llpreds)"
   ]
  },
  {
   "cell_type": "code",
   "execution_count": 16,
   "metadata": {
    "collapsed": false
   },
   "outputs": [
    {
     "name": "stdout",
     "output_type": "stream",
     "text": [
      "Accuracy (adaboost with decision trees): 0.208017149471\n"
     ]
    }
   ],
   "source": [
    "##################################\n",
    "# Model 6: Ada Boost Tree        #\n",
    "##################################\n",
    "abc = AdaBoostClassifier(base_estimator=DecisionTreeClassifier(max_depth=1), n_estimators=100, learning_rate=0.1)\n",
    "\n",
    "abc.fit(train[features], train_labels)\n",
    "preds = abc.predict(dev[features])\n",
    "print \"Accuracy: \", metrics.accuracy_score(dev_labels, preds)\n",
    "\n",
    "llpreds = np.array(abc.predict_proba(dev[features]))\n",
    "print \"Log Loss: \" ,log_loss(dev_labels, llpreds)\n"
   ]
  },
  {
   "cell_type": "code",
   "execution_count": 53,
   "metadata": {
    "collapsed": false
   },
   "outputs": [
    {
     "ename": "ValueError",
     "evalue": "Can't handle mix of multiclass and continuous",
     "output_type": "error",
     "traceback": [
      "\u001b[1;31m---------------------------------------------------------------------------\u001b[0m",
      "\u001b[1;31mValueError\u001b[0m                                Traceback (most recent call last)",
      "\u001b[1;32m<ipython-input-53-1c9b9521cb82>\u001b[0m in \u001b[0;36m<module>\u001b[1;34m()\u001b[0m\n\u001b[0;32m      7\u001b[0m \u001b[1;33m\u001b[0m\u001b[0m\n\u001b[0;32m      8\u001b[0m \u001b[0mpreds\u001b[0m \u001b[1;33m=\u001b[0m \u001b[0mclf\u001b[0m\u001b[1;33m.\u001b[0m\u001b[0mpredict\u001b[0m\u001b[1;33m(\u001b[0m\u001b[0mdev_data\u001b[0m\u001b[1;33m)\u001b[0m\u001b[1;33m\u001b[0m\u001b[0m\n\u001b[1;32m----> 9\u001b[1;33m \u001b[0maccuracy\u001b[0m \u001b[1;33m=\u001b[0m \u001b[0mmetrics\u001b[0m\u001b[1;33m.\u001b[0m\u001b[0maccuracy_score\u001b[0m\u001b[1;33m(\u001b[0m\u001b[0mdev_labels\u001b[0m\u001b[1;33m,\u001b[0m\u001b[0mpreds\u001b[0m\u001b[1;33m)\u001b[0m\u001b[1;33m\u001b[0m\u001b[0m\n\u001b[0m\u001b[0;32m     10\u001b[0m \u001b[1;32mprint\u001b[0m \u001b[1;34m'Accuracy (GBT):'\u001b[0m\u001b[1;33m,\u001b[0m \u001b[0maccuracy\u001b[0m\u001b[1;33m\u001b[0m\u001b[0m\n\u001b[0;32m     11\u001b[0m \u001b[1;33m\u001b[0m\u001b[0m\n",
      "\u001b[1;32m/home/simon/anaconda/lib/python2.7/site-packages/sklearn/metrics/metrics.pyc\u001b[0m in \u001b[0;36maccuracy_score\u001b[1;34m(y_true, y_pred, normalize, sample_weight)\u001b[0m\n\u001b[0;32m   1295\u001b[0m \u001b[1;33m\u001b[0m\u001b[0m\n\u001b[0;32m   1296\u001b[0m     \u001b[1;31m# Compute accuracy for each possible representation\u001b[0m\u001b[1;33m\u001b[0m\u001b[1;33m\u001b[0m\u001b[0m\n\u001b[1;32m-> 1297\u001b[1;33m     \u001b[0my_type\u001b[0m\u001b[1;33m,\u001b[0m \u001b[0my_true\u001b[0m\u001b[1;33m,\u001b[0m \u001b[0my_pred\u001b[0m \u001b[1;33m=\u001b[0m \u001b[0m_check_clf_targets\u001b[0m\u001b[1;33m(\u001b[0m\u001b[0my_true\u001b[0m\u001b[1;33m,\u001b[0m \u001b[0my_pred\u001b[0m\u001b[1;33m)\u001b[0m\u001b[1;33m\u001b[0m\u001b[0m\n\u001b[0m\u001b[0;32m   1298\u001b[0m     \u001b[1;32mif\u001b[0m \u001b[0my_type\u001b[0m \u001b[1;33m==\u001b[0m \u001b[1;34m'multilabel-indicator'\u001b[0m\u001b[1;33m:\u001b[0m\u001b[1;33m\u001b[0m\u001b[0m\n\u001b[0;32m   1299\u001b[0m         \u001b[0mscore\u001b[0m \u001b[1;33m=\u001b[0m \u001b[1;33m(\u001b[0m\u001b[0my_pred\u001b[0m \u001b[1;33m!=\u001b[0m \u001b[0my_true\u001b[0m\u001b[1;33m)\u001b[0m\u001b[1;33m.\u001b[0m\u001b[0msum\u001b[0m\u001b[1;33m(\u001b[0m\u001b[0maxis\u001b[0m\u001b[1;33m=\u001b[0m\u001b[1;36m1\u001b[0m\u001b[1;33m)\u001b[0m \u001b[1;33m==\u001b[0m \u001b[1;36m0\u001b[0m\u001b[1;33m\u001b[0m\u001b[0m\n",
      "\u001b[1;32m/home/simon/anaconda/lib/python2.7/site-packages/sklearn/metrics/metrics.pyc\u001b[0m in \u001b[0;36m_check_clf_targets\u001b[1;34m(y_true, y_pred)\u001b[0m\n\u001b[0;32m    117\u001b[0m     \u001b[1;32mif\u001b[0m \u001b[0mlen\u001b[0m\u001b[1;33m(\u001b[0m\u001b[0my_type\u001b[0m\u001b[1;33m)\u001b[0m \u001b[1;33m>\u001b[0m \u001b[1;36m1\u001b[0m\u001b[1;33m:\u001b[0m\u001b[1;33m\u001b[0m\u001b[0m\n\u001b[0;32m    118\u001b[0m         raise ValueError(\"Can't handle mix of {0} and {1}\"\n\u001b[1;32m--> 119\u001b[1;33m                          \"\".format(type_true, type_pred))\n\u001b[0m\u001b[0;32m    120\u001b[0m \u001b[1;33m\u001b[0m\u001b[0m\n\u001b[0;32m    121\u001b[0m     \u001b[1;31m# We can't have more than one value on y_type => The set is no more needed\u001b[0m\u001b[1;33m\u001b[0m\u001b[1;33m\u001b[0m\u001b[0m\n",
      "\u001b[1;31mValueError\u001b[0m: Can't handle mix of multiclass and continuous"
     ]
    }
   ],
   "source": [
    "####################################\n",
    "# Model 7: Gradient Boosting Trees #\n",
    "####################################\n",
    "\n",
    "params = {'n_estimators': 1000, 'max_depth': 6,\n",
    "        'learning_rate': 0.01, 'alpha':0.001}\n",
    "\n",
    "clf = GradientBoostingRegressor(**params).fit(train_data, train_labels)\n",
    "\n",
    "clf.fit(train[features], train_labels)\n",
    "preds = clf.predict(dev[features])\n",
    "print \"Accuracy: \", metrics.accuracy_score(dev_labels, preds)\n",
    "\n",
    "llpreds = np.array(clf.predict_proba(dev[features]))\n",
    "print \"Log Loss: \" ,log_loss(dev_labels, llpreds)\n"
   ]
  },
  {
   "cell_type": "markdown",
   "metadata": {},
   "source": []
  }
 ],
 "metadata": {
  "kernelspec": {
   "display_name": "Python 2",
   "language": "python",
   "name": "python2"
  },
  "language_info": {
   "codemirror_mode": {
    "name": "ipython",
    "version": 2
   },
   "file_extension": ".py",
   "mimetype": "text/x-python",
   "name": "python",
   "nbconvert_exporter": "python",
   "pygments_lexer": "ipython2",
   "version": "2.7.9"
  }
 },
 "nbformat": 4,
 "nbformat_minor": 0
}
