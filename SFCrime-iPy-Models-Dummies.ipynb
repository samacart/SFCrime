{
 "cells": [
  {
   "cell_type": "code",
   "execution_count": 1,
   "metadata": {
    "collapsed": false
   },
   "outputs": [],
   "source": [
    "# This tells matplotlib not to try opening a new window for each plot.\n",
    "%matplotlib inline\n",
    "\n",
    "\n",
    "import sys\n",
    "sys.path.append('/usr/local/lib/python2.7/site-packages/')\n",
    "\n",
    "import datetime\n",
    "import pandas as pd\n",
    "import numpy as np\n",
    "import seaborn as sns\n",
    "import matplotlib.pyplot as plt\n",
    "import numpy as np\n",
    "import operator\n",
    "from sklearn.naive_bayes import MultinomialNB,BernoulliNB,GaussianNB\n",
    "from sklearn.linear_model import LogisticRegression\n",
    "from sklearn.ensemble import RandomForestClassifier as RFC\n",
    "from sklearn import preprocessing\n",
    "from sklearn import metrics\n",
    "from sklearn.grid_search import GridSearchCV\n",
    "from sklearn.metrics import classification_report\n",
    "from sklearn.neighbors import KNeighborsClassifier\n",
    "import csv\n",
    "import time\n",
    "\n",
    "from sklearn import tree\n",
    "from sklearn.tree import DecisionTreeClassifier\n",
    "from sklearn.ensemble import RandomForestClassifier \n",
    "from sklearn.ensemble import AdaBoostClassifier \n",
    "from sklearn.tree import DecisionTreeRegressor\n",
    "from sklearn.ensemble import GradientBoostingRegressor\n",
    "from sklearn.metrics import mean_squared_error,r2_score"
   ]
  },
  {
   "cell_type": "code",
   "execution_count": 4,
   "metadata": {
    "collapsed": false
   },
   "outputs": [],
   "source": [
    "#running on a windows machine, change filepaths as needed\n",
    "\n",
    "train_df = pd.read_csv('Data\\\\train.csv')"
   ]
  },
  {
   "cell_type": "code",
   "execution_count": 5,
   "metadata": {
    "collapsed": false
   },
   "outputs": [
    {
     "data": {
      "text/html": [
       "<div style=\"max-height:1000px;max-width:1500px;overflow:auto;\">\n",
       "<table border=\"1\" class=\"dataframe\">\n",
       "  <thead>\n",
       "    <tr style=\"text-align: right;\">\n",
       "      <th></th>\n",
       "      <th>Dates</th>\n",
       "      <th>Category</th>\n",
       "      <th>Descript</th>\n",
       "      <th>DayOfWeek</th>\n",
       "      <th>PdDistrict</th>\n",
       "      <th>Resolution</th>\n",
       "      <th>Address</th>\n",
       "      <th>X</th>\n",
       "      <th>Y</th>\n",
       "    </tr>\n",
       "  </thead>\n",
       "  <tbody>\n",
       "    <tr>\n",
       "      <th>0</th>\n",
       "      <td> 2015-05-13 23:53:00</td>\n",
       "      <td>       WARRANTS</td>\n",
       "      <td>               WARRANT ARREST</td>\n",
       "      <td> Wednesday</td>\n",
       "      <td> NORTHERN</td>\n",
       "      <td> ARREST, BOOKED</td>\n",
       "      <td>        OAK ST / LAGUNA ST</td>\n",
       "      <td>-122.425892</td>\n",
       "      <td> 37.774599</td>\n",
       "    </tr>\n",
       "    <tr>\n",
       "      <th>1</th>\n",
       "      <td> 2015-05-13 23:53:00</td>\n",
       "      <td> OTHER OFFENSES</td>\n",
       "      <td>     TRAFFIC VIOLATION ARREST</td>\n",
       "      <td> Wednesday</td>\n",
       "      <td> NORTHERN</td>\n",
       "      <td> ARREST, BOOKED</td>\n",
       "      <td>        OAK ST / LAGUNA ST</td>\n",
       "      <td>-122.425892</td>\n",
       "      <td> 37.774599</td>\n",
       "    </tr>\n",
       "    <tr>\n",
       "      <th>2</th>\n",
       "      <td> 2015-05-13 23:33:00</td>\n",
       "      <td> OTHER OFFENSES</td>\n",
       "      <td>     TRAFFIC VIOLATION ARREST</td>\n",
       "      <td> Wednesday</td>\n",
       "      <td> NORTHERN</td>\n",
       "      <td> ARREST, BOOKED</td>\n",
       "      <td> VANNESS AV / GREENWICH ST</td>\n",
       "      <td>-122.424363</td>\n",
       "      <td> 37.800414</td>\n",
       "    </tr>\n",
       "    <tr>\n",
       "      <th>3</th>\n",
       "      <td> 2015-05-13 23:30:00</td>\n",
       "      <td>  LARCENY/THEFT</td>\n",
       "      <td> GRAND THEFT FROM LOCKED AUTO</td>\n",
       "      <td> Wednesday</td>\n",
       "      <td> NORTHERN</td>\n",
       "      <td>           NONE</td>\n",
       "      <td>  1500 Block of LOMBARD ST</td>\n",
       "      <td>-122.426995</td>\n",
       "      <td> 37.800873</td>\n",
       "    </tr>\n",
       "    <tr>\n",
       "      <th>4</th>\n",
       "      <td> 2015-05-13 23:30:00</td>\n",
       "      <td>  LARCENY/THEFT</td>\n",
       "      <td> GRAND THEFT FROM LOCKED AUTO</td>\n",
       "      <td> Wednesday</td>\n",
       "      <td>     PARK</td>\n",
       "      <td>           NONE</td>\n",
       "      <td> 100 Block of BRODERICK ST</td>\n",
       "      <td>-122.438738</td>\n",
       "      <td> 37.771541</td>\n",
       "    </tr>\n",
       "  </tbody>\n",
       "</table>\n",
       "</div>"
      ],
      "text/plain": [
       "                 Dates        Category                      Descript  \\\n",
       "0  2015-05-13 23:53:00        WARRANTS                WARRANT ARREST   \n",
       "1  2015-05-13 23:53:00  OTHER OFFENSES      TRAFFIC VIOLATION ARREST   \n",
       "2  2015-05-13 23:33:00  OTHER OFFENSES      TRAFFIC VIOLATION ARREST   \n",
       "3  2015-05-13 23:30:00   LARCENY/THEFT  GRAND THEFT FROM LOCKED AUTO   \n",
       "4  2015-05-13 23:30:00   LARCENY/THEFT  GRAND THEFT FROM LOCKED AUTO   \n",
       "\n",
       "   DayOfWeek PdDistrict      Resolution                    Address  \\\n",
       "0  Wednesday   NORTHERN  ARREST, BOOKED         OAK ST / LAGUNA ST   \n",
       "1  Wednesday   NORTHERN  ARREST, BOOKED         OAK ST / LAGUNA ST   \n",
       "2  Wednesday   NORTHERN  ARREST, BOOKED  VANNESS AV / GREENWICH ST   \n",
       "3  Wednesday   NORTHERN            NONE   1500 Block of LOMBARD ST   \n",
       "4  Wednesday       PARK            NONE  100 Block of BRODERICK ST   \n",
       "\n",
       "            X          Y  \n",
       "0 -122.425892  37.774599  \n",
       "1 -122.425892  37.774599  \n",
       "2 -122.424363  37.800414  \n",
       "3 -122.426995  37.800873  \n",
       "4 -122.438738  37.771541  "
      ]
     },
     "execution_count": 5,
     "metadata": {},
     "output_type": "execute_result"
    }
   ],
   "source": [
    "train_df.head()"
   ]
  },
  {
   "cell_type": "code",
   "execution_count": 7,
   "metadata": {
    "collapsed": false
   },
   "outputs": [
    {
     "name": "stdout",
     "output_type": "stream",
     "text": [
      "Number of categories: 39\n",
      "Summary of X\n",
      "count    878049.000000\n",
      "mean       -122.422616\n",
      "std           0.030354\n",
      "min        -122.513642\n",
      "25%        -122.432952\n",
      "50%        -122.416420\n",
      "75%        -122.406959\n",
      "max        -120.500000\n",
      "dtype: float64\n",
      "Summary of Y\n",
      "count    878049.000000\n",
      "mean         37.771020\n",
      "std           0.456893\n",
      "min          37.707879\n",
      "25%          37.752427\n",
      "50%          37.775421\n",
      "75%          37.784369\n",
      "max          90.000000\n",
      "dtype: float64\n"
     ]
    }
   ],
   "source": [
    "print \"Number of categories: {}\".format(len(train_df.Category.unique()))\n",
    "print \"Summary of X\"\n",
    "print train_df.X.describe()\n",
    "print \"Summary of Y\"\n",
    "print train_df.Y.describe()"
   ]
  },
  {
   "cell_type": "code",
   "execution_count": 9,
   "metadata": {
    "collapsed": false
   },
   "outputs": [],
   "source": [
    "# Feature Names: address, dayofweek\n",
    "streets = [w for w in train_df['Address'].str.split()] \n",
    "p = []\n",
    "for s in streets:\n",
    "    p.append([i for i in s if i.isupper() and len(i) > 2])\n",
    "\n",
    "train_df['street'] = p\n",
    "\n",
    "le = preprocessing.LabelEncoder()\n",
    "dow = le.fit_transform(train_df.DayOfWeek.values)\n",
    "dow_orig = le.classes_\n",
    "addr = le.fit_transform(train_df.Address)\n",
    "addr_orig = le.classes_\n",
    "category = le.fit_transform(train_df.Category)\n",
    "cat_orig = le.classes_\n",
    "pdist = le.fit_transform(train_df.PdDistrict)\n",
    "pd_orig = le.classes_\n",
    "street = le.fit_transform(train_df.street)\n",
    "street_orig = le.classes_\n"
   ]
  },
  {
   "cell_type": "code",
   "execution_count": 10,
   "metadata": {
    "collapsed": false
   },
   "outputs": [],
   "source": [
    "train_df['crime'] = category\n",
    "train_df['addr'] = addr\n",
    "train_df['dow'] = dow\n",
    "train_df['pd'] = pdist\n",
    "train_df['street'] = street"
   ]
  },
  {
   "cell_type": "code",
   "execution_count": 11,
   "metadata": {
    "collapsed": false
   },
   "outputs": [],
   "source": [
    "dates = pd.DatetimeIndex(train_df.Dates)"
   ]
  },
  {
   "cell_type": "code",
   "execution_count": 29,
   "metadata": {
    "collapsed": false
   },
   "outputs": [],
   "source": [
    "train_df['date'] = dates.date\n",
    "train_df['time'] = dates.time\n",
    "train_df['hour'] = dates.hour\n",
    "train_df['minutes'] = dates.minute\n",
    "train_df['month'] = dates.month\n",
    "train_df['woy'] = dates.weekofyear\n",
    "train_df['year'] = dates.year\n",
    "\n",
    "train_df.ix[train_df.hour <12,'time_of_day'] = \"morning\"\n",
    "train_df.ix[train_df.hour >=12,'time_of_day'] = \"midday\"\n",
    "train_df.ix[train_df.hour >14,'time_of_day'] = \"afternoon\"\n",
    "train_df.ix[train_df.hour >18,'time_of_day'] = \"night\"\n",
    "\n",
    "le = preprocessing.LabelEncoder()\n",
    "tod = le.fit_transform(train_df.time_of_day.values)\n",
    "tod_orig = le.classes_\n",
    "\n",
    "train_df['tod'] = tod\n",
    "\n",
    "# Season\n",
    "train_df.ix[train_df.month == 12,'seas'] = \"winter\"\n",
    "train_df.ix[train_df.month == 1,'seas'] = \"winter\"\n",
    "train_df.ix[train_df.month == 2,'seas'] = \"winter\"\n",
    "train_df.ix[train_df.month == 3,'seas'] = \"spring\"\n",
    "train_df.ix[train_df.month == 4,'seas'] = \"spring\"\n",
    "train_df.ix[train_df.month == 5,'seas'] = \"spring\"\n",
    "train_df.ix[train_df.month == 6,'seas'] = \"summer\"\n",
    "train_df.ix[train_df.month == 7,'seas'] = \"summer\"\n",
    "train_df.ix[train_df.month == 8,'seas'] = \"summer\"\n",
    "train_df.ix[train_df.month == 9,'seas'] = \"fall\"\n",
    "train_df.ix[train_df.month == 10,'seas'] = \"fall\"\n",
    "train_df.ix[train_df.month == 11,'seas'] = \"fall\"\n",
    "\n",
    "le = preprocessing.LabelEncoder()\n",
    "season = le.fit_transform(train_df.seas.values)\n",
    "season_orig = le.classes_\n",
    "\n",
    "train_df['season'] = season"
   ]
  },
  {
   "cell_type": "code",
   "execution_count": 13,
   "metadata": {
    "collapsed": false
   },
   "outputs": [
    {
     "data": {
      "text/html": [
       "<div style=\"max-height:1000px;max-width:1500px;overflow:auto;\">\n",
       "<table border=\"1\" class=\"dataframe\">\n",
       "  <thead>\n",
       "    <tr style=\"text-align: right;\">\n",
       "      <th></th>\n",
       "      <th>date</th>\n",
       "      <th>year</th>\n",
       "      <th>month</th>\n",
       "      <th>woy</th>\n",
       "      <th>hour</th>\n",
       "      <th>minutes</th>\n",
       "      <th>time</th>\n",
       "      <th>tod</th>\n",
       "      <th>dow</th>\n",
       "      <th>season</th>\n",
       "      <th>pd</th>\n",
       "      <th>addr</th>\n",
       "      <th>street</th>\n",
       "      <th>X</th>\n",
       "      <th>Y</th>\n",
       "      <th>crime</th>\n",
       "    </tr>\n",
       "  </thead>\n",
       "  <tbody>\n",
       "    <tr>\n",
       "      <th>0</th>\n",
       "      <td> 2015-05-13</td>\n",
       "      <td> 2015</td>\n",
       "      <td> 5</td>\n",
       "      <td> 20</td>\n",
       "      <td> 23</td>\n",
       "      <td> 53</td>\n",
       "      <td> 23:53:00</td>\n",
       "      <td> 3</td>\n",
       "      <td> 6</td>\n",
       "      <td> 1</td>\n",
       "      <td> 4</td>\n",
       "      <td> 19790</td>\n",
       "      <td> 10076</td>\n",
       "      <td>-122.425892</td>\n",
       "      <td> 37.774599</td>\n",
       "      <td> 37</td>\n",
       "    </tr>\n",
       "    <tr>\n",
       "      <th>1</th>\n",
       "      <td> 2015-05-13</td>\n",
       "      <td> 2015</td>\n",
       "      <td> 5</td>\n",
       "      <td> 20</td>\n",
       "      <td> 23</td>\n",
       "      <td> 53</td>\n",
       "      <td> 23:53:00</td>\n",
       "      <td> 3</td>\n",
       "      <td> 6</td>\n",
       "      <td> 1</td>\n",
       "      <td> 4</td>\n",
       "      <td> 19790</td>\n",
       "      <td> 10076</td>\n",
       "      <td>-122.425892</td>\n",
       "      <td> 37.774599</td>\n",
       "      <td> 21</td>\n",
       "    </tr>\n",
       "    <tr>\n",
       "      <th>2</th>\n",
       "      <td> 2015-05-13</td>\n",
       "      <td> 2015</td>\n",
       "      <td> 5</td>\n",
       "      <td> 20</td>\n",
       "      <td> 23</td>\n",
       "      <td> 33</td>\n",
       "      <td> 23:33:00</td>\n",
       "      <td> 3</td>\n",
       "      <td> 6</td>\n",
       "      <td> 1</td>\n",
       "      <td> 4</td>\n",
       "      <td> 22697</td>\n",
       "      <td> 13528</td>\n",
       "      <td>-122.424363</td>\n",
       "      <td> 37.800414</td>\n",
       "      <td> 21</td>\n",
       "    </tr>\n",
       "    <tr>\n",
       "      <th>3</th>\n",
       "      <td> 2015-05-13</td>\n",
       "      <td> 2015</td>\n",
       "      <td> 5</td>\n",
       "      <td> 20</td>\n",
       "      <td> 23</td>\n",
       "      <td> 30</td>\n",
       "      <td> 23:30:00</td>\n",
       "      <td> 3</td>\n",
       "      <td> 6</td>\n",
       "      <td> 1</td>\n",
       "      <td> 4</td>\n",
       "      <td>  4266</td>\n",
       "      <td>  8634</td>\n",
       "      <td>-122.426995</td>\n",
       "      <td> 37.800873</td>\n",
       "      <td> 16</td>\n",
       "    </tr>\n",
       "    <tr>\n",
       "      <th>4</th>\n",
       "      <td> 2015-05-13</td>\n",
       "      <td> 2015</td>\n",
       "      <td> 5</td>\n",
       "      <td> 20</td>\n",
       "      <td> 23</td>\n",
       "      <td> 30</td>\n",
       "      <td> 23:30:00</td>\n",
       "      <td> 3</td>\n",
       "      <td> 6</td>\n",
       "      <td> 1</td>\n",
       "      <td> 5</td>\n",
       "      <td>  1843</td>\n",
       "      <td>  3183</td>\n",
       "      <td>-122.438738</td>\n",
       "      <td> 37.771541</td>\n",
       "      <td> 16</td>\n",
       "    </tr>\n",
       "  </tbody>\n",
       "</table>\n",
       "</div>"
      ],
      "text/plain": [
       "         date  year  month  woy  hour  minutes      time  tod  dow  season  \\\n",
       "0  2015-05-13  2015      5   20    23       53  23:53:00    3    6       1   \n",
       "1  2015-05-13  2015      5   20    23       53  23:53:00    3    6       1   \n",
       "2  2015-05-13  2015      5   20    23       33  23:33:00    3    6       1   \n",
       "3  2015-05-13  2015      5   20    23       30  23:30:00    3    6       1   \n",
       "4  2015-05-13  2015      5   20    23       30  23:30:00    3    6       1   \n",
       "\n",
       "   pd   addr  street           X          Y  crime  \n",
       "0   4  19790   10076 -122.425892  37.774599     37  \n",
       "1   4  19790   10076 -122.425892  37.774599     21  \n",
       "2   4  22697   13528 -122.424363  37.800414     21  \n",
       "3   4   4266    8634 -122.426995  37.800873     16  \n",
       "4   5   1843    3183 -122.438738  37.771541     16  "
      ]
     },
     "execution_count": 13,
     "metadata": {},
     "output_type": "execute_result"
    }
   ],
   "source": [
    "train_df_new = train_df[['date','year','month', 'woy', 'hour','minutes','time','tod', 'dow','season', 'pd','addr','street', 'X','Y','crime']]\n",
    "train_df_new.head()"
   ]
  },
  {
   "cell_type": "code",
   "execution_count": 118,
   "metadata": {
    "collapsed": false
   },
   "outputs": [
    {
     "name": "stdout",
     "output_type": "stream",
     "text": [
      "Days as dummy\n",
      "(878049, 7)\n",
      "\n",
      "District as dummy\n",
      "(878049, 10)\n",
      "\n",
      "Hours as dummy\n",
      "(878049, 24)\n",
      "\n",
      "Season as dummy\n",
      "(878049, 4)\n",
      "\\ToD as dummy\n",
      "(878049, 4)\n",
      "\\Combined:\n",
      "(878049, 45)\n",
      "   Friday  Monday  Saturday  Sunday  Thursday  Tuesday  Wednesday  BAYVIEW  \\\n",
      "0       0       0         0       0         0        0          1        0   \n",
      "1       0       0         0       0         0        0          1        0   \n",
      "2       0       0         0       0         0        0          1        0   \n",
      "3       0       0         0       0         0        0          1        0   \n",
      "4       0       0         0       0         0        0          1        0   \n",
      "\n",
      "   CENTRAL  INGLESIDE    ...      18  19  20  21  22  23  fall  spring  \\\n",
      "0        0          0    ...       0   0   0   0   0   1     0       1   \n",
      "1        0          0    ...       0   0   0   0   0   1     0       1   \n",
      "2        0          0    ...       0   0   0   0   0   1     0       1   \n",
      "3        0          0    ...       0   0   0   0   0   1     0       1   \n",
      "4        0          0    ...       0   0   0   0   0   1     0       1   \n",
      "\n",
      "   summer  winter  \n",
      "0       0       0  \n",
      "1       0       0  \n",
      "2       0       0  \n",
      "3       0       0  \n",
      "4       0       0  \n",
      "\n",
      "[5 rows x 45 columns]\n"
     ]
    }
   ],
   "source": [
    "'''EVAN NEW STUFF'''\n",
    "\n",
    "#Create binarized dummy arrays\n",
    "dum_days = pd.get_dummies(train_df.DayOfWeek)\n",
    "#dum_days.rename(columns=lambda x: \"day_\" + str(x))\n",
    "print \"Days as dummy\"\n",
    "print dum_days.shape\n",
    "\n",
    "dum_pds = pd.get_dummies(train_df.PdDistrict)\n",
    "print \"\\nDistrict as dummy\"\n",
    "print dum_pds.shape\n",
    "\n",
    "dum_hours = pd.get_dummies(train_df_new.hour)\n",
    "print \"\\nHours as dummy\"\n",
    "print dum_hours.shape\n",
    "\n",
    "dum_season = pd.get_dummies(train_df.seas)\n",
    "print \"\\nSeason as dummy\"\n",
    "print dum_season.shape\n",
    "\n",
    "dum_tod = pd.get_dummies(train_df.time_of_day)\n",
    "print \"\\ToD as dummy\"\n",
    "print dum_tod.shape\n",
    "\n",
    "# TRIAL 1\n",
    "#dum_cols = pd.concat([dum_days, dum_pds], axis=1)\n",
    "#Acc = 0.219265788288\n",
    "#LogLoss = 2.61856923059\n",
    "\n",
    "#TRIAL 2\n",
    "dum_cols = pd.concat([dum_days, dum_pds, dum_hours, dum_season], axis=1)\n",
    "#0.222293171569\n",
    "#2.58553584854\n",
    "\n",
    "#TRIAL 3\n",
    "#dum_cols = pd.concat([dum_days, dum_pds, dum_tod, dum_season], axis=1)\n",
    "#0.221415173405\n",
    "#2.60544577822\n",
    "\n",
    "#TRIAL 4\n",
    "#dum_cols = pd.concat([dum_days, dum_pds, dum_hours, dum_season], axis=1)\n",
    "#0.222293171569\n",
    "#2.58553584854\n",
    "\n",
    "print \"\\Combined:\"\n",
    "print dum_cols.shape\n",
    "print dum_cols.head()"
   ]
  },
  {
   "cell_type": "code",
   "execution_count": 119,
   "metadata": {
    "collapsed": false
   },
   "outputs": [
    {
     "name": "stdout",
     "output_type": "stream",
     "text": [
      "(878049, 50)\n",
      "   crime           X          Y  year  month  Friday  Monday  Saturday  \\\n",
      "0     37 -122.425892  37.774599  2015      5       0       0         0   \n",
      "1     21 -122.425892  37.774599  2015      5       0       0         0   \n",
      "2     21 -122.424363  37.800414  2015      5       0       0         0   \n",
      "3     16 -122.426995  37.800873  2015      5       0       0         0   \n",
      "4     16 -122.438738  37.771541  2015      5       0       0         0   \n",
      "\n",
      "   Sunday  Thursday    ...     18  19  20  21  22  23  fall  spring  summer  \\\n",
      "0       0         0    ...      0   0   0   0   0   1     0       1       0   \n",
      "1       0         0    ...      0   0   0   0   0   1     0       1       0   \n",
      "2       0         0    ...      0   0   0   0   0   1     0       1       0   \n",
      "3       0         0    ...      0   0   0   0   0   1     0       1       0   \n",
      "4       0         0    ...      0   0   0   0   0   1     0       1       0   \n",
      "\n",
      "   winter  \n",
      "0       0  \n",
      "1       0  \n",
      "2       0  \n",
      "3       0  \n",
      "4       0  \n",
      "\n",
      "[5 rows x 50 columns]\n"
     ]
    }
   ],
   "source": [
    "'''EVAN NEW STUFF'''\n",
    "#train_2 = pd.concat([train_df_new.crime, train_df_new.X, train_df_new.Y, dum_cols], axis=1)\n",
    "#train_2 = pd.concat([train_df_new.crime, dum_cols], axis=1)\n",
    "\n",
    "#Optimizing non-dummy cols on Trail2\n",
    "train_2 = pd.concat([train_df_new.crime, train_df_new.X, train_df_new.Y, train_df_new.year, train_df_new.month, dum_cols], axis=1)\n",
    "#0.222298872856\n",
    "#2.58583128457\n",
    "\n",
    "print train_2.shape\n",
    "print train_2.head()"
   ]
  },
  {
   "cell_type": "code",
   "execution_count": 77,
   "metadata": {
    "collapsed": true
   },
   "outputs": [],
   "source": [
    "'''EVAN NEW STUFF'''\n",
    "# import new stuff\n",
    "from sklearn.cross_validation import train_test_split\n",
    "from sklearn.metrics import log_loss"
   ]
  },
  {
   "cell_type": "code",
   "execution_count": 123,
   "metadata": {
    "collapsed": false
   },
   "outputs": [
    {
     "name": "stderr",
     "output_type": "stream",
     "text": [
      "C:\\Users\\sbu\\Anaconda\\lib\\site-packages\\IPython\\kernel\\__main__.py:7: SettingWithCopyWarning: A value is trying to be set on a copy of a slice from a DataFrame\n",
      "C:\\Users\\sbu\\Anaconda\\lib\\site-packages\\IPython\\kernel\\__main__.py:11: SettingWithCopyWarning: A value is trying to be set on a copy of a slice from a DataFrame\n"
     ]
    },
    {
     "name": "stdout",
     "output_type": "stream",
     "text": [
      "Dev: (175399, 49)\n",
      "Train: (702650, 49)\n",
      "(702650L,)\n",
      "(175399L,)\n"
     ]
    }
   ],
   "source": [
    "'''EVAN NEW STUFF'''\n",
    "DEV_SIZE = 0.20\n",
    "np.random.seed(0)\n",
    "msk = np.random.rand(len(train_2)) < DEV_SIZE\n",
    "\n",
    "dev = train_2[msk]\n",
    "dev_labels = np.array(dev.crime)\n",
    "dev.drop('crime',1,inplace=True)\n",
    "\n",
    "train = train_2[~msk]  # inverse of boolean mask\n",
    "train_labels = np.array(train.crime)\n",
    "train.drop('crime',1,inplace=True)\n",
    "\n",
    "print \"Dev: \" + str(dev.shape)\n",
    "print \"Train: \" + str(train.shape)\n",
    "print train_labels.shape\n",
    "print dev_labels.shape"
   ]
  },
  {
   "cell_type": "code",
   "execution_count": 124,
   "metadata": {
    "collapsed": false
   },
   "outputs": [
    {
     "name": "stdout",
     "output_type": "stream",
     "text": [
      "['X', 'Y', 'year', 'month', 'Friday', 'Monday', 'Saturday', 'Sunday', 'Thursday', 'Tuesday', 'Wednesday', 'BAYVIEW', 'CENTRAL', 'INGLESIDE', 'MISSION', 'NORTHERN', 'PARK', 'RICHMOND', 'SOUTHERN', 'TARAVAL', 'TENDERLOIN', 0L, 1L, 2L, 3L, 4L, 5L, 6L, 7L, 8L, 9L, 10L, 11L, 12L, 13L, 14L, 15L, 16L, 17L, 18L, 19L, 20L, 21L, 22L, 23L, 'fall', 'spring', 'summer', 'winter']\n",
      "            X          Y  year  month  Friday  Monday  Saturday  Sunday  \\\n",
      "0 -122.425892  37.774599  2015      5       0       0         0       0   \n",
      "1 -122.425892  37.774599  2015      5       0       0         0       0   \n",
      "2 -122.424363  37.800414  2015      5       0       0         0       0   \n",
      "3 -122.426995  37.800873  2015      5       0       0         0       0   \n",
      "4 -122.438738  37.771541  2015      5       0       0         0       0   \n",
      "\n",
      "   Thursday  Tuesday   ...     18  19  20  21  22  23  fall  spring  summer  \\\n",
      "0         0        0   ...      0   0   0   0   0   1     0       1       0   \n",
      "1         0        0   ...      0   0   0   0   0   1     0       1       0   \n",
      "2         0        0   ...      0   0   0   0   0   1     0       1       0   \n",
      "3         0        0   ...      0   0   0   0   0   1     0       1       0   \n",
      "4         0        0   ...      0   0   0   0   0   1     0       1       0   \n",
      "\n",
      "   winter  \n",
      "0       0  \n",
      "1       0  \n",
      "2       0  \n",
      "3       0  \n",
      "4       0  \n",
      "\n",
      "[5 rows x 49 columns]\n"
     ]
    }
   ],
   "source": [
    "'''EVAN NEW STUFF'''\n",
    "features = [i for i in train.columns]\n",
    "print features\n",
    "print train[features][:5]"
   ]
  },
  {
   "cell_type": "code",
   "execution_count": 125,
   "metadata": {
    "collapsed": false
   },
   "outputs": [
    {
     "name": "stdout",
     "output_type": "stream",
     "text": [
      "(702650L, 19L)\n",
      "(175399L, 19L)\n",
      "0.222298872856\n",
      "2.58583128457\n"
     ]
    }
   ],
   "source": [
    "'''EVAN NEW STUFF'''\n",
    "#train_data = np.array(train[features])\n",
    "#dev_data = np.array(dev[features])\n",
    "\n",
    "print train_data.shape\n",
    "print dev_data.shape\n",
    "\n",
    "model = BernoulliNB()\n",
    "model.fit(train[features], train_labels)\n",
    "preds = model.predict(dev[features])\n",
    "print metrics.accuracy_score(dev_labels, preds)\n",
    "\n",
    "llpreds = np.array(model.predict_proba(dev[features]))\n",
    "print log_loss(dev_labels, llpreds)"
   ]
  },
  {
   "cell_type": "code",
   "execution_count": 38,
   "metadata": {
    "collapsed": false
   },
   "outputs": [
    {
     "name": "stderr",
     "output_type": "stream",
     "text": [
      "C:\\Users\\sbu\\Anaconda\\lib\\site-packages\\IPython\\kernel\\__main__.py:13: SettingWithCopyWarning: A value is trying to be set on a copy of a slice from a DataFrame\n",
      "C:\\Users\\sbu\\Anaconda\\lib\\site-packages\\IPython\\kernel\\__main__.py:17: SettingWithCopyWarning: A value is trying to be set on a copy of a slice from a DataFrame\n"
     ]
    },
    {
     "name": "stdout",
     "output_type": "stream",
     "text": [
      "Dev: (175399, 15)\n",
      "Train: (702650, 15)\n"
     ]
    }
   ],
   "source": [
    "# Split this into Dev and Training Data\n",
    "DEV_SIZE = 0.20\n",
    "\n",
    "# fix a random seed\n",
    "np.random.seed(0)\n",
    "# Create boolean mask\n",
    "# np.random creates a vector of random values between 0 and 1\n",
    "# Those values are filtered to create a binary mask\n",
    "msk = np.random.rand(len(train_df_new)) < DEV_SIZE\n",
    "\n",
    "dev = train_df_new[msk]\n",
    "dev_labels = np.array(dev.crime)\n",
    "dev.drop('crime',1,inplace=True)\n",
    "\n",
    "train = train_df_new[~msk]  # inverse of boolean mask\n",
    "train_labels = np.array(train.crime)\n",
    "train.drop('crime',1,inplace=True)\n",
    "\n",
    "print \"Dev: \" + str(dev.shape)\n",
    "print \"Train: \" + str(train.shape)\n",
    "#print \"Test: \" + str(test_df.shape)"
   ]
  },
  {
   "cell_type": "code",
   "execution_count": 39,
   "metadata": {
    "collapsed": false
   },
   "outputs": [
    {
     "name": "stderr",
     "output_type": "stream",
     "text": [
      "C:\\Users\\sbu\\Anaconda\\lib\\site-packages\\matplotlib\\axes\\_subplots.py:69: MatplotlibDeprecationWarning: The use of 0 (which ends up being the _last_ sub-plot) is deprecated in 1.4 and will raise an error in 1.5\n",
      "  mplDeprecation)\n"
     ]
    },
    {
     "data": {
      "image/png": "[encoded data removed]",
      "text/plain": [
       "<matplotlib.figure.Figure at 0x469bae80>"
      ]
     },
     "metadata": {},
     "output_type": "display_data"
    }
   ],
   "source": [
    "# make sure dev and train datasets have similar\n",
    "# distribution for outcome variable\n",
    "plt.figure(figsize=(20,10))\n",
    "labels = [train_labels, dev_labels]\n",
    "titles = [\"Training set\",\"Dev set\"]\n",
    "for i in [0,1]:\n",
    "    plt.subplot(1,2,i)\n",
    "    hist = np.histogram(labels[i], bins=range(38))\n",
    "    ix = np.argsort(hist[0])\n",
    "    plt.barh(range(37),hist[0][ix])\n",
    "    x = plt.yticks(range(37),cat_orig[ix])\n",
    "    ttl = \"Crime Distribution ({})\".format(titles[i])\n",
    "    plt.title(ttl)"
   ]
  },
  {
   "cell_type": "code",
   "execution_count": 40,
   "metadata": {
    "collapsed": false
   },
   "outputs": [],
   "source": [
    "# convert training set to np array\n",
    "train_data = np.array(train[['year','dow','tod', 'X', 'Y', 'street']])\n",
    "dev_data = np.array(dev[['year','dow','tod', 'X', 'Y', 'street']])\n",
    "\n",
    "# Gaussian NB\n",
    "model = GaussianNB()\n",
    "model.fit(train_data,train_labels)\n",
    "\n",
    "preds = model.predict(dev_data)"
   ]
  },
  {
   "cell_type": "code",
   "execution_count": 41,
   "metadata": {
    "collapsed": false
   },
   "outputs": [
    {
     "name": "stdout",
     "output_type": "stream",
     "text": [
      "0.0744017924846\n"
     ]
    }
   ],
   "source": [
    "accuracy = metrics.accuracy_score(dev_labels,preds)\n",
    "print accuracy"
   ]
  },
  {
   "cell_type": "code",
   "execution_count": 23,
   "metadata": {
    "collapsed": false,
    "scrolled": true
   },
   "outputs": [
    {
     "name": "stdout",
     "output_type": "stream",
     "text": [
      "Train time = 2.03\n",
      "Accuracy = 0.2328\n",
      "Prediction time = 1.70\n"
     ]
    }
   ],
   "source": [
    "# K- Nearest Neighbors\n",
    "\n",
    "neighbors = 1\n",
    "\n",
    "knn = KNeighborsClassifier(neighbors)\n",
    "start_time = time.time()\n",
    "knn.fit(train_data, train_labels)\n",
    "print 'Train time = %.2f' %(time.time() - start_time)\n",
    "start_time = time.time()\n",
    "accuracy = knn.score(dev_data, dev_labels)\n",
    "print 'Accuracy = %.4f' %(accuracy)\n",
    "print 'Prediction time = %.2f' %(time.time() - start_time)"
   ]
  },
  {
   "cell_type": "code",
   "execution_count": 44,
   "metadata": {
    "collapsed": false
   },
   "outputs": [
    {
     "name": "stdout",
     "output_type": "stream",
     "text": [
      "Accuracy (a decision tree): 0.248826960245\n"
     ]
    }
   ],
   "source": [
    "# Decision Tree\n",
    "\n",
    "dt = DecisionTreeClassifier(criterion=\"entropy\", splitter=\"best\", random_state=0)\n",
    "dt.fit(train_data, train_labels)\n",
    "\n",
    "preds = dt.predict(dev_data)\n",
    "\n",
    "accuracy = metrics.accuracy_score(dev_labels,preds)\n",
    "print 'Accuracy (a decision tree):', accuracy\n"
   ]
  },
  {
   "cell_type": "code",
   "execution_count": null,
   "metadata": {
    "collapsed": true
   },
   "outputs": [],
   "source": [
    "rfc = RandomForestClassifier()\n",
    "rfc.fit(train_data,train_labels)\n",
    "preds = rfc.predict(dev_data)\n",
    "\n",
    "accuracy = metrics.accuracy_score(dev_labels,preds)\n",
    "print 'Accuracy (a random forest):', accuracy\n"
   ]
  },
  {
   "cell_type": "code",
   "execution_count": 16,
   "metadata": {
    "collapsed": false
   },
   "outputs": [
    {
     "name": "stdout",
     "output_type": "stream",
     "text": [
      "Accuracy (adaboost with decision trees): 0.208017149471\n"
     ]
    }
   ],
   "source": [
    "bc = AdaBoostClassifier(base_estimator=DecisionTreeClassifier(max_depth=1), n_estimators=100, learning_rate=0.1)\n",
    "\n",
    "abc.fit(train_data, train_labels)\n",
    "preds = abc.predict(dev_data)\n",
    "accuracy = metrics.accuracy_score(dev_labels,preds)\n",
    "print 'Accuracy (adaboost with decision trees):', accuracy\n"
   ]
  },
  {
   "cell_type": "code",
   "execution_count": 53,
   "metadata": {
    "collapsed": false
   },
   "outputs": [
    {
     "ename": "ValueError",
     "evalue": "Can't handle mix of multiclass and continuous",
     "output_type": "error",
     "traceback": [
      "\u001b[1;31m---------------------------------------------------------------------------\u001b[0m",
      "\u001b[1;31mValueError\u001b[0m                                Traceback (most recent call last)",
      "\u001b[1;32m<ipython-input-53-1c9b9521cb82>\u001b[0m in \u001b[0;36m<module>\u001b[1;34m()\u001b[0m\n\u001b[0;32m      7\u001b[0m \u001b[1;33m\u001b[0m\u001b[0m\n\u001b[0;32m      8\u001b[0m \u001b[0mpreds\u001b[0m \u001b[1;33m=\u001b[0m \u001b[0mclf\u001b[0m\u001b[1;33m.\u001b[0m\u001b[0mpredict\u001b[0m\u001b[1;33m(\u001b[0m\u001b[0mdev_data\u001b[0m\u001b[1;33m)\u001b[0m\u001b[1;33m\u001b[0m\u001b[0m\n\u001b[1;32m----> 9\u001b[1;33m \u001b[0maccuracy\u001b[0m \u001b[1;33m=\u001b[0m \u001b[0mmetrics\u001b[0m\u001b[1;33m.\u001b[0m\u001b[0maccuracy_score\u001b[0m\u001b[1;33m(\u001b[0m\u001b[0mdev_labels\u001b[0m\u001b[1;33m,\u001b[0m\u001b[0mpreds\u001b[0m\u001b[1;33m)\u001b[0m\u001b[1;33m\u001b[0m\u001b[0m\n\u001b[0m\u001b[0;32m     10\u001b[0m \u001b[1;32mprint\u001b[0m \u001b[1;34m'Accuracy (GBT):'\u001b[0m\u001b[1;33m,\u001b[0m \u001b[0maccuracy\u001b[0m\u001b[1;33m\u001b[0m\u001b[0m\n\u001b[0;32m     11\u001b[0m \u001b[1;33m\u001b[0m\u001b[0m\n",
      "\u001b[1;32m/home/simon/anaconda/lib/python2.7/site-packages/sklearn/metrics/metrics.pyc\u001b[0m in \u001b[0;36maccuracy_score\u001b[1;34m(y_true, y_pred, normalize, sample_weight)\u001b[0m\n\u001b[0;32m   1295\u001b[0m \u001b[1;33m\u001b[0m\u001b[0m\n\u001b[0;32m   1296\u001b[0m     \u001b[1;31m# Compute accuracy for each possible representation\u001b[0m\u001b[1;33m\u001b[0m\u001b[1;33m\u001b[0m\u001b[0m\n\u001b[1;32m-> 1297\u001b[1;33m     \u001b[0my_type\u001b[0m\u001b[1;33m,\u001b[0m \u001b[0my_true\u001b[0m\u001b[1;33m,\u001b[0m \u001b[0my_pred\u001b[0m \u001b[1;33m=\u001b[0m \u001b[0m_check_clf_targets\u001b[0m\u001b[1;33m(\u001b[0m\u001b[0my_true\u001b[0m\u001b[1;33m,\u001b[0m \u001b[0my_pred\u001b[0m\u001b[1;33m)\u001b[0m\u001b[1;33m\u001b[0m\u001b[0m\n\u001b[0m\u001b[0;32m   1298\u001b[0m     \u001b[1;32mif\u001b[0m \u001b[0my_type\u001b[0m \u001b[1;33m==\u001b[0m \u001b[1;34m'multilabel-indicator'\u001b[0m\u001b[1;33m:\u001b[0m\u001b[1;33m\u001b[0m\u001b[0m\n\u001b[0;32m   1299\u001b[0m         \u001b[0mscore\u001b[0m \u001b[1;33m=\u001b[0m \u001b[1;33m(\u001b[0m\u001b[0my_pred\u001b[0m \u001b[1;33m!=\u001b[0m \u001b[0my_true\u001b[0m\u001b[1;33m)\u001b[0m\u001b[1;33m.\u001b[0m\u001b[0msum\u001b[0m\u001b[1;33m(\u001b[0m\u001b[0maxis\u001b[0m\u001b[1;33m=\u001b[0m\u001b[1;36m1\u001b[0m\u001b[1;33m)\u001b[0m \u001b[1;33m==\u001b[0m \u001b[1;36m0\u001b[0m\u001b[1;33m\u001b[0m\u001b[0m\n",
      "\u001b[1;32m/home/simon/anaconda/lib/python2.7/site-packages/sklearn/metrics/metrics.pyc\u001b[0m in \u001b[0;36m_check_clf_targets\u001b[1;34m(y_true, y_pred)\u001b[0m\n\u001b[0;32m    117\u001b[0m     \u001b[1;32mif\u001b[0m \u001b[0mlen\u001b[0m\u001b[1;33m(\u001b[0m\u001b[0my_type\u001b[0m\u001b[1;33m)\u001b[0m \u001b[1;33m>\u001b[0m \u001b[1;36m1\u001b[0m\u001b[1;33m:\u001b[0m\u001b[1;33m\u001b[0m\u001b[0m\n\u001b[0;32m    118\u001b[0m         raise ValueError(\"Can't handle mix of {0} and {1}\"\n\u001b[1;32m--> 119\u001b[1;33m                          \"\".format(type_true, type_pred))\n\u001b[0m\u001b[0;32m    120\u001b[0m \u001b[1;33m\u001b[0m\u001b[0m\n\u001b[0;32m    121\u001b[0m     \u001b[1;31m# We can't have more than one value on y_type => The set is no more needed\u001b[0m\u001b[1;33m\u001b[0m\u001b[1;33m\u001b[0m\u001b[0m\n",
      "\u001b[1;31mValueError\u001b[0m: Can't handle mix of multiclass and continuous"
     ]
    }
   ],
   "source": [
    "# Gradient Boosting Trees\n",
    "\n",
    "params = {'n_estimators': 1000, 'max_depth': 6,\n",
    "        'learning_rate': 0.01, 'alpha':0.001}\n",
    "\n",
    "clf = GradientBoostingRegressor(**params).fit(train_data, train_labels)\n",
    "\n",
    "preds = clf.predict(dev_data)\n",
    "accuracy = metrics.accuracy_score(dev_labels,preds)\n",
    "print 'Accuracy (GBT):', accuracy\n",
    "\n",
    "# For me, the Mean Squared Error wasn't much informative and used instead the\n",
    "# :math:`R^2` **coefficient of determination**. This measure is a number\n",
    "# indicating how well a variable is able to predict the other. Numbers close to\n",
    "# 0 means poor prediction and numbers close to 1 means perfect prediction. In the\n",
    "# book, they claim a 0.84 against a 0.86 reported in the paper that created the\n",
    "# dataset using a highly tuned algorithm. I'm getting a good 0.83 without much\n",
    "# tunning of the parameters so it's a good out of the box technique.\n",
    " \n",
    "mse = mean_squared_error(dev_labels, clf.predict(dev_data))\n",
    "r2 = r2_score(dev_labels, clf.predict(dev_data))\n",
    " \n",
    "print(\"MSE: %.4f\" % mse)\n",
    "print(\"R2: %.4f\" % r2)"
   ]
  },
  {
   "cell_type": "code",
   "execution_count": null,
   "metadata": {
    "collapsed": true
   },
   "outputs": [],
   "source": []
  },
  {
   "cell_type": "markdown",
   "metadata": {},
   "source": []
  }
 ],
 "metadata": {
  "kernelspec": {
   "display_name": "Python 2",
   "language": "python",
   "name": "python2"
  },
  "language_info": {
   "codemirror_mode": {
    "name": "ipython",
    "version": 2
   },
   "file_extension": ".py",
   "mimetype": "text/x-python",
   "name": "python",
   "nbconvert_exporter": "python",
   "pygments_lexer": "ipython2",
   "version": "2.7.8"
  }
 },
 "nbformat": 4,
 "nbformat_minor": 0
}
