{
 "cells": [
  {
   "cell_type": "code",
   "execution_count": 1,
   "metadata": {
    "collapsed": false
   },
   "outputs": [],
   "source": [
    "# This tells matplotlib not to try opening a new window for each plot.\n",
    "%matplotlib inline\n",
    "\n",
    "\n",
    "import sys\n",
    "sys.path.append('/usr/local/lib/python2.7/site-packages/')\n",
    "\n",
    "import datetime\n",
    "import pandas as pd\n",
    "import numpy as np\n",
    "import seaborn as sns\n",
    "import matplotlib.pyplot as plt\n",
    "import numpy as np\n",
    "import operator\n",
    "from sklearn.naive_bayes import MultinomialNB,BernoulliNB,GaussianNB\n",
    "from sklearn.linear_model import LogisticRegression\n",
    "from sklearn.ensemble import RandomForestClassifier as RFC\n",
    "from sklearn import preprocessing\n",
    "from sklearn import metrics\n",
    "from sklearn.grid_search import GridSearchCV\n",
    "from sklearn.metrics import classification_report\n",
    "from sklearn.neighbors import KNeighborsClassifier\n",
    "import csv\n",
    "import time\n",
    "\n",
    "from sklearn import tree\n",
    "from sklearn.tree import DecisionTreeClassifier\n",
    "from sklearn.ensemble import RandomForestClassifier \n",
    "from sklearn.ensemble import AdaBoostClassifier "
   ]
  },
  {
   "cell_type": "code",
   "execution_count": 3,
   "metadata": {
    "collapsed": false
   },
   "outputs": [],
   "source": [
    "#running on a windows machine, change filepaths as needed\n",
    "train_df = pd.read_csv(\"C:\\\\datasets\\\\SFCrime\\\\train.csv\")\n",
    "#train_df = pd.read_csv('Data/train.csv')"
   ]
  },
  {
   "cell_type": "code",
   "execution_count": 4,
   "metadata": {
    "collapsed": false
   },
   "outputs": [
    {
     "data": {
      "text/html": [
       "<div style=\"max-height:1000px;max-width:1500px;overflow:auto;\">\n",
       "<table border=\"1\" class=\"dataframe\">\n",
       "  <thead>\n",
       "    <tr style=\"text-align: right;\">\n",
       "      <th></th>\n",
       "      <th>Dates</th>\n",
       "      <th>Category</th>\n",
       "      <th>Descript</th>\n",
       "      <th>DayOfWeek</th>\n",
       "      <th>PdDistrict</th>\n",
       "      <th>Resolution</th>\n",
       "      <th>Address</th>\n",
       "      <th>X</th>\n",
       "      <th>Y</th>\n",
       "    </tr>\n",
       "  </thead>\n",
       "  <tbody>\n",
       "    <tr>\n",
       "      <th>0</th>\n",
       "      <td> 2015-05-13 23:53:00</td>\n",
       "      <td>       WARRANTS</td>\n",
       "      <td>               WARRANT ARREST</td>\n",
       "      <td> Wednesday</td>\n",
       "      <td> NORTHERN</td>\n",
       "      <td> ARREST, BOOKED</td>\n",
       "      <td>        OAK ST / LAGUNA ST</td>\n",
       "      <td>-122.425892</td>\n",
       "      <td> 37.774599</td>\n",
       "    </tr>\n",
       "    <tr>\n",
       "      <th>1</th>\n",
       "      <td> 2015-05-13 23:53:00</td>\n",
       "      <td> OTHER OFFENSES</td>\n",
       "      <td>     TRAFFIC VIOLATION ARREST</td>\n",
       "      <td> Wednesday</td>\n",
       "      <td> NORTHERN</td>\n",
       "      <td> ARREST, BOOKED</td>\n",
       "      <td>        OAK ST / LAGUNA ST</td>\n",
       "      <td>-122.425892</td>\n",
       "      <td> 37.774599</td>\n",
       "    </tr>\n",
       "    <tr>\n",
       "      <th>2</th>\n",
       "      <td> 2015-05-13 23:33:00</td>\n",
       "      <td> OTHER OFFENSES</td>\n",
       "      <td>     TRAFFIC VIOLATION ARREST</td>\n",
       "      <td> Wednesday</td>\n",
       "      <td> NORTHERN</td>\n",
       "      <td> ARREST, BOOKED</td>\n",
       "      <td> VANNESS AV / GREENWICH ST</td>\n",
       "      <td>-122.424363</td>\n",
       "      <td> 37.800414</td>\n",
       "    </tr>\n",
       "    <tr>\n",
       "      <th>3</th>\n",
       "      <td> 2015-05-13 23:30:00</td>\n",
       "      <td>  LARCENY/THEFT</td>\n",
       "      <td> GRAND THEFT FROM LOCKED AUTO</td>\n",
       "      <td> Wednesday</td>\n",
       "      <td> NORTHERN</td>\n",
       "      <td>           NONE</td>\n",
       "      <td>  1500 Block of LOMBARD ST</td>\n",
       "      <td>-122.426995</td>\n",
       "      <td> 37.800873</td>\n",
       "    </tr>\n",
       "    <tr>\n",
       "      <th>4</th>\n",
       "      <td> 2015-05-13 23:30:00</td>\n",
       "      <td>  LARCENY/THEFT</td>\n",
       "      <td> GRAND THEFT FROM LOCKED AUTO</td>\n",
       "      <td> Wednesday</td>\n",
       "      <td>     PARK</td>\n",
       "      <td>           NONE</td>\n",
       "      <td> 100 Block of BRODERICK ST</td>\n",
       "      <td>-122.438738</td>\n",
       "      <td> 37.771541</td>\n",
       "    </tr>\n",
       "  </tbody>\n",
       "</table>\n",
       "</div>"
      ],
      "text/plain": [
       "                 Dates        Category                      Descript  \\\n",
       "0  2015-05-13 23:53:00        WARRANTS                WARRANT ARREST   \n",
       "1  2015-05-13 23:53:00  OTHER OFFENSES      TRAFFIC VIOLATION ARREST   \n",
       "2  2015-05-13 23:33:00  OTHER OFFENSES      TRAFFIC VIOLATION ARREST   \n",
       "3  2015-05-13 23:30:00   LARCENY/THEFT  GRAND THEFT FROM LOCKED AUTO   \n",
       "4  2015-05-13 23:30:00   LARCENY/THEFT  GRAND THEFT FROM LOCKED AUTO   \n",
       "\n",
       "   DayOfWeek PdDistrict      Resolution                    Address  \\\n",
       "0  Wednesday   NORTHERN  ARREST, BOOKED         OAK ST / LAGUNA ST   \n",
       "1  Wednesday   NORTHERN  ARREST, BOOKED         OAK ST / LAGUNA ST   \n",
       "2  Wednesday   NORTHERN  ARREST, BOOKED  VANNESS AV / GREENWICH ST   \n",
       "3  Wednesday   NORTHERN            NONE   1500 Block of LOMBARD ST   \n",
       "4  Wednesday       PARK            NONE  100 Block of BRODERICK ST   \n",
       "\n",
       "            X          Y  \n",
       "0 -122.425892  37.774599  \n",
       "1 -122.425892  37.774599  \n",
       "2 -122.424363  37.800414  \n",
       "3 -122.426995  37.800873  \n",
       "4 -122.438738  37.771541  "
      ]
     },
     "execution_count": 4,
     "metadata": {},
     "output_type": "execute_result"
    }
   ],
   "source": [
    "train_df.head()"
   ]
  },
  {
   "cell_type": "code",
   "execution_count": 5,
   "metadata": {
    "collapsed": false
   },
   "outputs": [
    {
     "name": "stdout",
     "output_type": "stream",
     "text": [
      "Number of categories: 39\n",
      "Summary of X\n",
      "count    878049.000000\n",
      "mean       -122.422616\n",
      "std           0.030354\n",
      "min        -122.513642\n",
      "25%        -122.432952\n",
      "50%        -122.416420\n",
      "75%        -122.406959\n",
      "max        -120.500000\n",
      "dtype: float64\n",
      "Summary of Y\n",
      "count    878049.000000\n",
      "mean         37.771020\n",
      "std           0.456893\n",
      "min          37.707879\n",
      "25%          37.752427\n",
      "50%          37.775421\n",
      "75%          37.784369\n",
      "max          90.000000\n",
      "dtype: float64\n"
     ]
    }
   ],
   "source": [
    "print \"Number of categories: {}\".format(len(train_df.Category.unique()))\n",
    "print \"Summary of X\"\n",
    "print train_df.X.describe()\n",
    "print \"Summary of Y\"\n",
    "print train_df.Y.describe()"
   ]
  },
  {
   "cell_type": "code",
   "execution_count": 6,
   "metadata": {
    "collapsed": true
   },
   "outputs": [],
   "source": [
    "# Feature Names: address, dayofweek\n",
    "le = preprocessing.LabelEncoder()\n",
    "dow = le.fit_transform(train_df.DayOfWeek.values)\n",
    "dow_orig = le.classes_\n",
    "addr = le.fit_transform(train_df.Address)\n",
    "addr_orig = le.classes_\n",
    "category = le.fit_transform(train_df.Category)\n",
    "cat_orig = le.classes_\n",
    "pdist = le.fit_transform(train_df.PdDistrict)\n",
    "pd_orig = le.classes_"
   ]
  },
  {
   "cell_type": "code",
   "execution_count": 7,
   "metadata": {
    "collapsed": false
   },
   "outputs": [],
   "source": [
    "train_df['crime'] = category\n",
    "train_df['addr'] = addr\n",
    "train_df['dow'] = dow\n",
    "train_df['pd'] = pdist"
   ]
  },
  {
   "cell_type": "code",
   "execution_count": 8,
   "metadata": {
    "collapsed": false
   },
   "outputs": [],
   "source": [
    "dates = pd.DatetimeIndex(train_df.Dates)"
   ]
  },
  {
   "cell_type": "code",
   "execution_count": 9,
   "metadata": {
    "collapsed": false
   },
   "outputs": [],
   "source": [
    "train_df['date'] = dates.date\n",
    "train_df['time'] = dates.time\n",
    "train_df['hour'] = dates.hour\n",
    "train_df['minutes'] = dates.minute\n",
    "train_df['month'] = dates.month\n",
    "train_df['woy'] = dates.weekofyear\n",
    "\n",
    "train_df.ix[train_df.hour <12,'time_of_day'] = \"morning\"\n",
    "train_df.ix[train_df.hour >=12,'time_of_day'] = \"midday\"\n",
    "train_df.ix[train_df.hour >14,'time_of_day'] = \"afternoon\"\n",
    "train_df.ix[train_df.hour >18,'time_of_day'] = \"night\"\n",
    "\n",
    "le = preprocessing.LabelEncoder()\n",
    "tod = le.fit_transform(train_df.time_of_day.values)\n",
    "tod_orig = le.classes_\n",
    "\n",
    "train_df['tod'] = tod\n",
    "\n",
    "# Season\n",
    "train_df.ix[train_df.month == 12,'seas'] = \"winter\"\n",
    "train_df.ix[train_df.month == 1,'seas'] = \"winter\"\n",
    "train_df.ix[train_df.month == 2,'seas'] = \"winter\"\n",
    "train_df.ix[train_df.month == 3,'seas'] = \"spring\"\n",
    "train_df.ix[train_df.month == 4,'seas'] = \"spring\"\n",
    "train_df.ix[train_df.month == 5,'seas'] = \"spring\"\n",
    "train_df.ix[train_df.month == 6,'seas'] = \"summer\"\n",
    "train_df.ix[train_df.month == 7,'seas'] = \"summer\"\n",
    "train_df.ix[train_df.month == 8,'seas'] = \"summer\"\n",
    "train_df.ix[train_df.month == 9,'seas'] = \"fall\"\n",
    "train_df.ix[train_df.month == 10,'seas'] = \"fall\"\n",
    "train_df.ix[train_df.month == 11,'seas'] = \"fall\"\n",
    "\n",
    "le = preprocessing.LabelEncoder()\n",
    "season = le.fit_transform(train_df.seas.values)\n",
    "season_orig = le.classes_\n",
    "\n",
    "train_df['season'] = season"
   ]
  },
  {
   "cell_type": "code",
   "execution_count": 10,
   "metadata": {
    "collapsed": false
   },
   "outputs": [
    {
     "data": {
      "text/html": [
       "<div style=\"max-height:1000px;max-width:1500px;overflow:auto;\">\n",
       "<table border=\"1\" class=\"dataframe\">\n",
       "  <thead>\n",
       "    <tr style=\"text-align: right;\">\n",
       "      <th></th>\n",
       "      <th>date</th>\n",
       "      <th>month</th>\n",
       "      <th>woy</th>\n",
       "      <th>hour</th>\n",
       "      <th>minutes</th>\n",
       "      <th>time</th>\n",
       "      <th>tod</th>\n",
       "      <th>dow</th>\n",
       "      <th>season</th>\n",
       "      <th>pd</th>\n",
       "      <th>addr</th>\n",
       "      <th>X</th>\n",
       "      <th>Y</th>\n",
       "      <th>crime</th>\n",
       "    </tr>\n",
       "  </thead>\n",
       "  <tbody>\n",
       "    <tr>\n",
       "      <th>0</th>\n",
       "      <td> 2015-05-13</td>\n",
       "      <td> 5</td>\n",
       "      <td> 20</td>\n",
       "      <td> 23</td>\n",
       "      <td> 53</td>\n",
       "      <td> 23:53:00</td>\n",
       "      <td> 3</td>\n",
       "      <td> 6</td>\n",
       "      <td> 1</td>\n",
       "      <td> 4</td>\n",
       "      <td> 19790</td>\n",
       "      <td>-122.425892</td>\n",
       "      <td> 37.774599</td>\n",
       "      <td> 37</td>\n",
       "    </tr>\n",
       "    <tr>\n",
       "      <th>1</th>\n",
       "      <td> 2015-05-13</td>\n",
       "      <td> 5</td>\n",
       "      <td> 20</td>\n",
       "      <td> 23</td>\n",
       "      <td> 53</td>\n",
       "      <td> 23:53:00</td>\n",
       "      <td> 3</td>\n",
       "      <td> 6</td>\n",
       "      <td> 1</td>\n",
       "      <td> 4</td>\n",
       "      <td> 19790</td>\n",
       "      <td>-122.425892</td>\n",
       "      <td> 37.774599</td>\n",
       "      <td> 21</td>\n",
       "    </tr>\n",
       "    <tr>\n",
       "      <th>2</th>\n",
       "      <td> 2015-05-13</td>\n",
       "      <td> 5</td>\n",
       "      <td> 20</td>\n",
       "      <td> 23</td>\n",
       "      <td> 33</td>\n",
       "      <td> 23:33:00</td>\n",
       "      <td> 3</td>\n",
       "      <td> 6</td>\n",
       "      <td> 1</td>\n",
       "      <td> 4</td>\n",
       "      <td> 22697</td>\n",
       "      <td>-122.424363</td>\n",
       "      <td> 37.800414</td>\n",
       "      <td> 21</td>\n",
       "    </tr>\n",
       "    <tr>\n",
       "      <th>3</th>\n",
       "      <td> 2015-05-13</td>\n",
       "      <td> 5</td>\n",
       "      <td> 20</td>\n",
       "      <td> 23</td>\n",
       "      <td> 30</td>\n",
       "      <td> 23:30:00</td>\n",
       "      <td> 3</td>\n",
       "      <td> 6</td>\n",
       "      <td> 1</td>\n",
       "      <td> 4</td>\n",
       "      <td>  4266</td>\n",
       "      <td>-122.426995</td>\n",
       "      <td> 37.800873</td>\n",
       "      <td> 16</td>\n",
       "    </tr>\n",
       "    <tr>\n",
       "      <th>4</th>\n",
       "      <td> 2015-05-13</td>\n",
       "      <td> 5</td>\n",
       "      <td> 20</td>\n",
       "      <td> 23</td>\n",
       "      <td> 30</td>\n",
       "      <td> 23:30:00</td>\n",
       "      <td> 3</td>\n",
       "      <td> 6</td>\n",
       "      <td> 1</td>\n",
       "      <td> 5</td>\n",
       "      <td>  1843</td>\n",
       "      <td>-122.438738</td>\n",
       "      <td> 37.771541</td>\n",
       "      <td> 16</td>\n",
       "    </tr>\n",
       "  </tbody>\n",
       "</table>\n",
       "</div>"
      ],
      "text/plain": [
       "         date  month  woy  hour  minutes      time  tod  dow  season  pd  \\\n",
       "0  2015-05-13      5   20    23       53  23:53:00    3    6       1   4   \n",
       "1  2015-05-13      5   20    23       53  23:53:00    3    6       1   4   \n",
       "2  2015-05-13      5   20    23       33  23:33:00    3    6       1   4   \n",
       "3  2015-05-13      5   20    23       30  23:30:00    3    6       1   4   \n",
       "4  2015-05-13      5   20    23       30  23:30:00    3    6       1   5   \n",
       "\n",
       "    addr           X          Y  crime  \n",
       "0  19790 -122.425892  37.774599     37  \n",
       "1  19790 -122.425892  37.774599     21  \n",
       "2  22697 -122.424363  37.800414     21  \n",
       "3   4266 -122.426995  37.800873     16  \n",
       "4   1843 -122.438738  37.771541     16  "
      ]
     },
     "execution_count": 10,
     "metadata": {},
     "output_type": "execute_result"
    }
   ],
   "source": [
    "train_df_new = train_df[['date','month', 'woy', 'hour','minutes','time','tod', 'dow','season', 'pd','addr','X','Y','crime']]\n",
    "train_df_new.head()"
   ]
  },
  {
   "cell_type": "code",
   "execution_count": 116,
   "metadata": {
    "collapsed": false
   },
   "outputs": [
    {
     "name": "stderr",
     "output_type": "stream",
     "text": [
      "C:\\Users\\sbu\\Anaconda\\lib\\site-packages\\IPython\\kernel\\__main__.py:13: SettingWithCopyWarning: A value is trying to be set on a copy of a slice from a DataFrame\n",
      "C:\\Users\\sbu\\Anaconda\\lib\\site-packages\\IPython\\kernel\\__main__.py:17: SettingWithCopyWarning: A value is trying to be set on a copy of a slice from a DataFrame\n"
     ]
    },
    {
     "name": "stdout",
     "output_type": "stream",
     "text": [
      "Dev: (175399, 13)\n",
      "Train: (702650, 13)\n"
     ]
    }
   ],
   "source": [
    "# Split this into Dev and Training Data\n",
    "DEV_SIZE = 0.20\n",
    "\n",
    "# fix a random seed\n",
    "np.random.seed(0)\n",
    "# Create boolean mask\n",
    "# np.random creates a vector of random values between 0 and 1\n",
    "# Those values are filtered to create a binary mask\n",
    "msk = np.random.rand(len(train_df_new)) < DEV_SIZE\n",
    "\n",
    "dev = train_df_new[msk]\n",
    "dev_labels = np.array(dev.crime)\n",
    "dev.drop('crime',1,inplace=True)\n",
    "\n",
    "train = train_df_new[~msk]  # inverse of boolean mask\n",
    "train_labels = np.array(train.crime)\n",
    "train.drop('crime',1,inplace=True)\n",
    "\n",
    "print \"Dev: \" + str(dev.shape)\n",
    "print \"Train: \" + str(train.shape)\n",
    "#print \"Test: \" + str(test_df.shape)"
   ]
  },
  {
   "cell_type": "code",
   "execution_count": 117,
   "metadata": {
    "collapsed": false
   },
   "outputs": [
    {
     "data": {
      "image/png": "[encoded data removed]",
      "text/plain": [
       "<matplotlib.figure.Figure at 0x201f19e8>"
      ]
     },
     "metadata": {},
     "output_type": "display_data"
    },
    {
     "name": "stdout",
     "output_type": "stream",
     "text": [
      "(175399, 13)\n",
      "(175399L,)\n",
      "Index([u'date', u'month', u'woy', u'hour', u'minutes', u'time', u'tod', u'dow', u'season', u'pd', u'addr', u'X', u'Y'], dtype='object')\n"
     ]
    },
    {
     "data": {
      "text/html": [
       "<div style=\"max-height:1000px;max-width:1500px;overflow:auto;\">\n",
       "<table border=\"1\" class=\"dataframe\">\n",
       "  <thead>\n",
       "    <tr style=\"text-align: right;\">\n",
       "      <th></th>\n",
       "      <th>date</th>\n",
       "      <th>month</th>\n",
       "      <th>woy</th>\n",
       "      <th>hour</th>\n",
       "      <th>minutes</th>\n",
       "      <th>time</th>\n",
       "      <th>tod</th>\n",
       "      <th>dow</th>\n",
       "      <th>season</th>\n",
       "      <th>pd</th>\n",
       "      <th>addr</th>\n",
       "      <th>X</th>\n",
       "      <th>Y</th>\n",
       "    </tr>\n",
       "  </thead>\n",
       "  <tbody>\n",
       "    <tr>\n",
       "      <th>14</th>\n",
       "      <td> 2015-05-13</td>\n",
       "      <td> 5</td>\n",
       "      <td> 20</td>\n",
       "      <td> 22</td>\n",
       "      <td>  0</td>\n",
       "      <td> 22:00:00</td>\n",
       "      <td> 3</td>\n",
       "      <td> 6</td>\n",
       "      <td> 1</td>\n",
       "      <td> 0</td>\n",
       "      <td>  6261</td>\n",
       "      <td>-122.397744</td>\n",
       "      <td> 37.729935</td>\n",
       "    </tr>\n",
       "    <tr>\n",
       "      <th>15</th>\n",
       "      <td> 2015-05-13</td>\n",
       "      <td> 5</td>\n",
       "      <td> 20</td>\n",
       "      <td> 22</td>\n",
       "      <td>  0</td>\n",
       "      <td> 22:00:00</td>\n",
       "      <td> 3</td>\n",
       "      <td> 6</td>\n",
       "      <td> 1</td>\n",
       "      <td> 0</td>\n",
       "      <td>  1001</td>\n",
       "      <td>-122.383692</td>\n",
       "      <td> 37.743189</td>\n",
       "    </tr>\n",
       "    <tr>\n",
       "      <th>16</th>\n",
       "      <td> 2015-05-13</td>\n",
       "      <td> 5</td>\n",
       "      <td> 20</td>\n",
       "      <td> 22</td>\n",
       "      <td>  0</td>\n",
       "      <td> 22:00:00</td>\n",
       "      <td> 3</td>\n",
       "      <td> 6</td>\n",
       "      <td> 1</td>\n",
       "      <td> 9</td>\n",
       "      <td> 15549</td>\n",
       "      <td>-122.412597</td>\n",
       "      <td> 37.783932</td>\n",
       "    </tr>\n",
       "    <tr>\n",
       "      <th>24</th>\n",
       "      <td> 2015-05-13</td>\n",
       "      <td> 5</td>\n",
       "      <td> 20</td>\n",
       "      <td> 21</td>\n",
       "      <td> 10</td>\n",
       "      <td> 21:10:00</td>\n",
       "      <td> 3</td>\n",
       "      <td> 6</td>\n",
       "      <td> 1</td>\n",
       "      <td> 4</td>\n",
       "      <td> 15947</td>\n",
       "      <td>-122.436049</td>\n",
       "      <td> 37.799841</td>\n",
       "    </tr>\n",
       "    <tr>\n",
       "      <th>26</th>\n",
       "      <td> 2015-05-13</td>\n",
       "      <td> 5</td>\n",
       "      <td> 20</td>\n",
       "      <td> 21</td>\n",
       "      <td>  0</td>\n",
       "      <td> 21:00:00</td>\n",
       "      <td> 3</td>\n",
       "      <td> 6</td>\n",
       "      <td> 1</td>\n",
       "      <td> 4</td>\n",
       "      <td>  6327</td>\n",
       "      <td>-122.431018</td>\n",
       "      <td> 37.787388</td>\n",
       "    </tr>\n",
       "  </tbody>\n",
       "</table>\n",
       "</div>"
      ],
      "text/plain": [
       "          date  month  woy  hour  minutes      time  tod  dow  season  pd  \\\n",
       "14  2015-05-13      5   20    22        0  22:00:00    3    6       1   0   \n",
       "15  2015-05-13      5   20    22        0  22:00:00    3    6       1   0   \n",
       "16  2015-05-13      5   20    22        0  22:00:00    3    6       1   9   \n",
       "24  2015-05-13      5   20    21       10  21:10:00    3    6       1   4   \n",
       "26  2015-05-13      5   20    21        0  21:00:00    3    6       1   4   \n",
       "\n",
       "     addr           X          Y  \n",
       "14   6261 -122.397744  37.729935  \n",
       "15   1001 -122.383692  37.743189  \n",
       "16  15549 -122.412597  37.783932  \n",
       "24  15947 -122.436049  37.799841  \n",
       "26   6327 -122.431018  37.787388  "
      ]
     },
     "execution_count": 117,
     "metadata": {},
     "output_type": "execute_result"
    }
   ],
   "source": [
    "plt.plot(dev.X, dev.Y,'o')\n",
    "plt.show()\n",
    "print dev.shape\n",
    "print dev_labels.shape\n",
    "print dev.columns\n",
    "dev.head()"
   ]
  },
  {
   "cell_type": "code",
   "execution_count": 118,
   "metadata": {
    "collapsed": false
   },
   "outputs": [
    {
     "data": {
      "image/png": "[encoded data removed]",
      "text/plain": [
       "<matplotlib.figure.Figure at 0x17154080>"
      ]
     },
     "metadata": {},
     "output_type": "display_data"
    },
    {
     "data": {
      "text/html": [
       "<div style=\"max-height:1000px;max-width:1500px;overflow:auto;\">\n",
       "<table border=\"1\" class=\"dataframe\">\n",
       "  <thead>\n",
       "    <tr style=\"text-align: right;\">\n",
       "      <th></th>\n",
       "      <th>date</th>\n",
       "      <th>month</th>\n",
       "      <th>woy</th>\n",
       "      <th>hour</th>\n",
       "      <th>minutes</th>\n",
       "      <th>time</th>\n",
       "      <th>tod</th>\n",
       "      <th>dow</th>\n",
       "      <th>season</th>\n",
       "      <th>pd</th>\n",
       "      <th>addr</th>\n",
       "      <th>X</th>\n",
       "      <th>Y</th>\n",
       "    </tr>\n",
       "  </thead>\n",
       "  <tbody>\n",
       "    <tr>\n",
       "      <th>0</th>\n",
       "      <td> 2015-05-13</td>\n",
       "      <td> 5</td>\n",
       "      <td> 20</td>\n",
       "      <td> 23</td>\n",
       "      <td> 53</td>\n",
       "      <td> 23:53:00</td>\n",
       "      <td> 3</td>\n",
       "      <td> 6</td>\n",
       "      <td> 1</td>\n",
       "      <td> 4</td>\n",
       "      <td> 19790</td>\n",
       "      <td>-122.425892</td>\n",
       "      <td> 37.774599</td>\n",
       "    </tr>\n",
       "    <tr>\n",
       "      <th>1</th>\n",
       "      <td> 2015-05-13</td>\n",
       "      <td> 5</td>\n",
       "      <td> 20</td>\n",
       "      <td> 23</td>\n",
       "      <td> 53</td>\n",
       "      <td> 23:53:00</td>\n",
       "      <td> 3</td>\n",
       "      <td> 6</td>\n",
       "      <td> 1</td>\n",
       "      <td> 4</td>\n",
       "      <td> 19790</td>\n",
       "      <td>-122.425892</td>\n",
       "      <td> 37.774599</td>\n",
       "    </tr>\n",
       "    <tr>\n",
       "      <th>2</th>\n",
       "      <td> 2015-05-13</td>\n",
       "      <td> 5</td>\n",
       "      <td> 20</td>\n",
       "      <td> 23</td>\n",
       "      <td> 33</td>\n",
       "      <td> 23:33:00</td>\n",
       "      <td> 3</td>\n",
       "      <td> 6</td>\n",
       "      <td> 1</td>\n",
       "      <td> 4</td>\n",
       "      <td> 22697</td>\n",
       "      <td>-122.424363</td>\n",
       "      <td> 37.800414</td>\n",
       "    </tr>\n",
       "    <tr>\n",
       "      <th>3</th>\n",
       "      <td> 2015-05-13</td>\n",
       "      <td> 5</td>\n",
       "      <td> 20</td>\n",
       "      <td> 23</td>\n",
       "      <td> 30</td>\n",
       "      <td> 23:30:00</td>\n",
       "      <td> 3</td>\n",
       "      <td> 6</td>\n",
       "      <td> 1</td>\n",
       "      <td> 4</td>\n",
       "      <td>  4266</td>\n",
       "      <td>-122.426995</td>\n",
       "      <td> 37.800873</td>\n",
       "    </tr>\n",
       "    <tr>\n",
       "      <th>4</th>\n",
       "      <td> 2015-05-13</td>\n",
       "      <td> 5</td>\n",
       "      <td> 20</td>\n",
       "      <td> 23</td>\n",
       "      <td> 30</td>\n",
       "      <td> 23:30:00</td>\n",
       "      <td> 3</td>\n",
       "      <td> 6</td>\n",
       "      <td> 1</td>\n",
       "      <td> 5</td>\n",
       "      <td>  1843</td>\n",
       "      <td>-122.438738</td>\n",
       "      <td> 37.771541</td>\n",
       "    </tr>\n",
       "  </tbody>\n",
       "</table>\n",
       "</div>"
      ],
      "text/plain": [
       "         date  month  woy  hour  minutes      time  tod  dow  season  pd  \\\n",
       "0  2015-05-13      5   20    23       53  23:53:00    3    6       1   4   \n",
       "1  2015-05-13      5   20    23       53  23:53:00    3    6       1   4   \n",
       "2  2015-05-13      5   20    23       33  23:33:00    3    6       1   4   \n",
       "3  2015-05-13      5   20    23       30  23:30:00    3    6       1   4   \n",
       "4  2015-05-13      5   20    23       30  23:30:00    3    6       1   5   \n",
       "\n",
       "    addr           X          Y  \n",
       "0  19790 -122.425892  37.774599  \n",
       "1  19790 -122.425892  37.774599  \n",
       "2  22697 -122.424363  37.800414  \n",
       "3   4266 -122.426995  37.800873  \n",
       "4   1843 -122.438738  37.771541  "
      ]
     },
     "execution_count": 118,
     "metadata": {},
     "output_type": "execute_result"
    }
   ],
   "source": [
    "plt.plot(train.X, train.Y,'o')\n",
    "plt.show()\n",
    "train.head()"
   ]
  },
  {
   "cell_type": "code",
   "execution_count": 119,
   "metadata": {
    "collapsed": false
   },
   "outputs": [
    {
     "name": "stdout",
     "output_type": "stream",
     "text": [
      "(702650, 13)\n",
      "(702650L,)\n",
      "[ 0  1  2  3  4  5  6  7  8  9 10 11 12 13 14 15 16 17 18 19 20 21 22 23 24\n",
      " 25 26 27 28 29 30 31 32 33 34 35 36 37 38]\n"
     ]
    },
    {
     "data": {
      "image/png": "[encoded data removed]",
      "text/plain": [
       "<matplotlib.figure.Figure at 0x20fd7ef0>"
      ]
     },
     "metadata": {},
     "output_type": "display_data"
    },
    {
     "name": "stdout",
     "output_type": "stream",
     "text": [
      "(702310, 13)\n",
      "(702310L,)\n",
      "[ 0  1  2  3  4  5  6  7  8  9 10 11 12 13 14 15 16 17 18 19 20 21 22 23 24\n",
      " 25 26 27 28 29 30 31 32 33 34 35 36 37 38]\n"
     ]
    },
    {
     "data": {
      "text/html": [
       "<div style=\"max-height:1000px;max-width:1500px;overflow:auto;\">\n",
       "<table border=\"1\" class=\"dataframe\">\n",
       "  <thead>\n",
       "    <tr style=\"text-align: right;\">\n",
       "      <th></th>\n",
       "      <th>date</th>\n",
       "      <th>month</th>\n",
       "      <th>woy</th>\n",
       "      <th>hour</th>\n",
       "      <th>minutes</th>\n",
       "      <th>time</th>\n",
       "      <th>tod</th>\n",
       "      <th>dow</th>\n",
       "      <th>season</th>\n",
       "      <th>pd</th>\n",
       "      <th>addr</th>\n",
       "      <th>X</th>\n",
       "      <th>Y</th>\n",
       "    </tr>\n",
       "  </thead>\n",
       "  <tbody>\n",
       "    <tr>\n",
       "      <th>0</th>\n",
       "      <td> 2015-05-13</td>\n",
       "      <td> 5</td>\n",
       "      <td> 20</td>\n",
       "      <td> 23</td>\n",
       "      <td> 53</td>\n",
       "      <td> 23:53:00</td>\n",
       "      <td> 3</td>\n",
       "      <td> 6</td>\n",
       "      <td> 1</td>\n",
       "      <td> 4</td>\n",
       "      <td> 19790</td>\n",
       "      <td>-122.425892</td>\n",
       "      <td> 37.774599</td>\n",
       "    </tr>\n",
       "    <tr>\n",
       "      <th>1</th>\n",
       "      <td> 2015-05-13</td>\n",
       "      <td> 5</td>\n",
       "      <td> 20</td>\n",
       "      <td> 23</td>\n",
       "      <td> 53</td>\n",
       "      <td> 23:53:00</td>\n",
       "      <td> 3</td>\n",
       "      <td> 6</td>\n",
       "      <td> 1</td>\n",
       "      <td> 4</td>\n",
       "      <td> 19790</td>\n",
       "      <td>-122.425892</td>\n",
       "      <td> 37.774599</td>\n",
       "    </tr>\n",
       "    <tr>\n",
       "      <th>2</th>\n",
       "      <td> 2015-05-13</td>\n",
       "      <td> 5</td>\n",
       "      <td> 20</td>\n",
       "      <td> 23</td>\n",
       "      <td> 33</td>\n",
       "      <td> 23:33:00</td>\n",
       "      <td> 3</td>\n",
       "      <td> 6</td>\n",
       "      <td> 1</td>\n",
       "      <td> 4</td>\n",
       "      <td> 22697</td>\n",
       "      <td>-122.424363</td>\n",
       "      <td> 37.800414</td>\n",
       "    </tr>\n",
       "    <tr>\n",
       "      <th>3</th>\n",
       "      <td> 2015-05-13</td>\n",
       "      <td> 5</td>\n",
       "      <td> 20</td>\n",
       "      <td> 23</td>\n",
       "      <td> 30</td>\n",
       "      <td> 23:30:00</td>\n",
       "      <td> 3</td>\n",
       "      <td> 6</td>\n",
       "      <td> 1</td>\n",
       "      <td> 4</td>\n",
       "      <td>  4266</td>\n",
       "      <td>-122.426995</td>\n",
       "      <td> 37.800873</td>\n",
       "    </tr>\n",
       "    <tr>\n",
       "      <th>4</th>\n",
       "      <td> 2015-05-13</td>\n",
       "      <td> 5</td>\n",
       "      <td> 20</td>\n",
       "      <td> 23</td>\n",
       "      <td> 30</td>\n",
       "      <td> 23:30:00</td>\n",
       "      <td> 3</td>\n",
       "      <td> 6</td>\n",
       "      <td> 1</td>\n",
       "      <td> 5</td>\n",
       "      <td>  1843</td>\n",
       "      <td>-122.438738</td>\n",
       "      <td> 37.771541</td>\n",
       "    </tr>\n",
       "  </tbody>\n",
       "</table>\n",
       "</div>"
      ],
      "text/plain": [
       "         date  month  woy  hour  minutes      time  tod  dow  season  pd  \\\n",
       "0  2015-05-13      5   20    23       53  23:53:00    3    6       1   4   \n",
       "1  2015-05-13      5   20    23       53  23:53:00    3    6       1   4   \n",
       "2  2015-05-13      5   20    23       33  23:33:00    3    6       1   4   \n",
       "3  2015-05-13      5   20    23       30  23:30:00    3    6       1   4   \n",
       "4  2015-05-13      5   20    23       30  23:30:00    3    6       1   5   \n",
       "\n",
       "    addr           X          Y  \n",
       "0  19790 -122.425892  37.774599  \n",
       "1  19790 -122.425892  37.774599  \n",
       "2  22697 -122.424363  37.800414  \n",
       "3   4266 -122.426995  37.800873  \n",
       "4   1843 -122.438738  37.771541  "
      ]
     },
     "execution_count": 119,
     "metadata": {},
     "output_type": "execute_result"
    }
   ],
   "source": [
    "print train.shape\n",
    "print train_labels.shape\n",
    "print np.unique(train_labels)\n",
    "\n",
    "#get row index for outliers in Y\n",
    "\n",
    "idx = np.where(np.abs(train.X - train.X.mean()) <= (3*train.X.std()))[0]\n",
    "#idx = np.where(train.Y <= 40)[0]\n",
    "train = train.ix[idx]\n",
    "train_labels = train_labels[idx]\n",
    "\n",
    "plt.plot(train.X, train.Y,'o')\n",
    "plt.show()\n",
    "print train.shape\n",
    "print train_labels.shape\n",
    "print np.unique(train_labels)\n",
    "train.head()\n"
   ]
  },
  {
   "cell_type": "code",
   "execution_count": 125,
   "metadata": {
    "collapsed": false
   },
   "outputs": [
    {
     "name": "stdout",
     "output_type": "stream",
     "text": [
      "(array([660156, 660382, 660777, 666101, 666713, 669616, 671379, 672783,\n",
      "       672784, 673179, 673710, 674734, 674737, 676698, 677988, 678201,\n",
      "       678202, 682442, 683524, 685381, 685382, 686659, 687181, 687189,\n",
      "       688612, 691920], dtype=int64),)\n"
     ]
    },
    {
     "ename": "ValueError",
     "evalue": "too many values to unpack",
     "output_type": "error",
     "traceback": [
      "\u001b[1;31m---------------------------------------------------------------------------\u001b[0m",
      "\u001b[1;31mValueError\u001b[0m                                Traceback (most recent call last)",
      "\u001b[1;32m<ipython-input-125-5b3d95bf6b1f>\u001b[0m in \u001b[0;36m<module>\u001b[1;34m()\u001b[0m\n\u001b[0;32m      2\u001b[0m \u001b[1;32mprint\u001b[0m \u001b[0mi\u001b[0m\u001b[1;33m\u001b[0m\u001b[0m\n\u001b[0;32m      3\u001b[0m \u001b[1;33m\u001b[0m\u001b[0m\n\u001b[1;32m----> 4\u001b[1;33m \u001b[0mt\u001b[0m \u001b[1;33m=\u001b[0m \u001b[0mtrain\u001b[0m\u001b[1;33m.\u001b[0m\u001b[0miloc\u001b[0m\u001b[1;33m[\u001b[0m\u001b[1;33m[\u001b[0m\u001b[0mtrain\u001b[0m\u001b[1;33m.\u001b[0m\u001b[0mY\u001b[0m \u001b[1;33m<\u001b[0m \u001b[1;36m40\u001b[0m\u001b[1;33m]\u001b[0m\u001b[1;33m]\u001b[0m\u001b[1;33m\u001b[0m\u001b[0m\n\u001b[0m\u001b[0;32m      5\u001b[0m \u001b[1;32mprint\u001b[0m \u001b[0mt\u001b[0m\u001b[1;33m.\u001b[0m\u001b[0mshape\u001b[0m\u001b[1;33m\u001b[0m\u001b[0m\n",
      "\u001b[1;32mC:\\Users\\sbu\\Anaconda\\lib\\site-packages\\pandas\\core\\indexing.pyc\u001b[0m in \u001b[0;36m__getitem__\u001b[1;34m(self, key)\u001b[0m\n\u001b[0;32m   1142\u001b[0m             \u001b[1;32mreturn\u001b[0m \u001b[0mself\u001b[0m\u001b[1;33m.\u001b[0m\u001b[0m_getitem_tuple\u001b[0m\u001b[1;33m(\u001b[0m\u001b[0mkey\u001b[0m\u001b[1;33m)\u001b[0m\u001b[1;33m\u001b[0m\u001b[0m\n\u001b[0;32m   1143\u001b[0m         \u001b[1;32melse\u001b[0m\u001b[1;33m:\u001b[0m\u001b[1;33m\u001b[0m\u001b[0m\n\u001b[1;32m-> 1144\u001b[1;33m             \u001b[1;32mreturn\u001b[0m \u001b[0mself\u001b[0m\u001b[1;33m.\u001b[0m\u001b[0m_getitem_axis\u001b[0m\u001b[1;33m(\u001b[0m\u001b[0mkey\u001b[0m\u001b[1;33m,\u001b[0m \u001b[0maxis\u001b[0m\u001b[1;33m=\u001b[0m\u001b[1;36m0\u001b[0m\u001b[1;33m)\u001b[0m\u001b[1;33m\u001b[0m\u001b[0m\n\u001b[0m\u001b[0;32m   1145\u001b[0m \u001b[1;33m\u001b[0m\u001b[0m\n\u001b[0;32m   1146\u001b[0m     \u001b[1;32mdef\u001b[0m \u001b[0m_getitem_axis\u001b[0m\u001b[1;33m(\u001b[0m\u001b[0mself\u001b[0m\u001b[1;33m,\u001b[0m \u001b[0mkey\u001b[0m\u001b[1;33m,\u001b[0m \u001b[0maxis\u001b[0m\u001b[1;33m=\u001b[0m\u001b[1;36m0\u001b[0m\u001b[1;33m,\u001b[0m \u001b[0mvalidate_iterable\u001b[0m\u001b[1;33m=\u001b[0m\u001b[0mFalse\u001b[0m\u001b[1;33m)\u001b[0m\u001b[1;33m:\u001b[0m\u001b[1;33m\u001b[0m\u001b[0m\n",
      "\u001b[1;32mC:\\Users\\sbu\\Anaconda\\lib\\site-packages\\pandas\\core\\indexing.pyc\u001b[0m in \u001b[0;36m_getitem_axis\u001b[1;34m(self, key, axis, validate_iterable)\u001b[0m\n\u001b[0;32m   1392\u001b[0m         \u001b[1;32melif\u001b[0m \u001b[0mcom\u001b[0m\u001b[1;33m.\u001b[0m\u001b[0m_is_bool_indexer\u001b[0m\u001b[1;33m(\u001b[0m\u001b[0mkey\u001b[0m\u001b[1;33m)\u001b[0m\u001b[1;33m:\u001b[0m\u001b[1;33m\u001b[0m\u001b[0m\n\u001b[0;32m   1393\u001b[0m             \u001b[0mself\u001b[0m\u001b[1;33m.\u001b[0m\u001b[0m_has_valid_type\u001b[0m\u001b[1;33m(\u001b[0m\u001b[0mkey\u001b[0m\u001b[1;33m,\u001b[0m \u001b[0maxis\u001b[0m\u001b[1;33m)\u001b[0m\u001b[1;33m\u001b[0m\u001b[0m\n\u001b[1;32m-> 1394\u001b[1;33m             \u001b[1;32mreturn\u001b[0m \u001b[0mself\u001b[0m\u001b[1;33m.\u001b[0m\u001b[0m_getbool_axis\u001b[0m\u001b[1;33m(\u001b[0m\u001b[0mkey\u001b[0m\u001b[1;33m,\u001b[0m \u001b[0maxis\u001b[0m\u001b[1;33m=\u001b[0m\u001b[0maxis\u001b[0m\u001b[1;33m)\u001b[0m\u001b[1;33m\u001b[0m\u001b[0m\n\u001b[0m\u001b[0;32m   1395\u001b[0m \u001b[1;33m\u001b[0m\u001b[0m\n\u001b[0;32m   1396\u001b[0m         \u001b[1;31m# a single integer or a list of integers\u001b[0m\u001b[1;33m\u001b[0m\u001b[1;33m\u001b[0m\u001b[0m\n",
      "\u001b[1;32mC:\\Users\\sbu\\Anaconda\\lib\\site-packages\\pandas\\core\\indexing.pyc\u001b[0m in \u001b[0;36m_getbool_axis\u001b[1;34m(self, key, axis)\u001b[0m\n\u001b[0;32m   1150\u001b[0m         \u001b[0mlabels\u001b[0m \u001b[1;33m=\u001b[0m \u001b[0mself\u001b[0m\u001b[1;33m.\u001b[0m\u001b[0mobj\u001b[0m\u001b[1;33m.\u001b[0m\u001b[0m_get_axis\u001b[0m\u001b[1;33m(\u001b[0m\u001b[0maxis\u001b[0m\u001b[1;33m)\u001b[0m\u001b[1;33m\u001b[0m\u001b[0m\n\u001b[0;32m   1151\u001b[0m         \u001b[0mkey\u001b[0m \u001b[1;33m=\u001b[0m \u001b[0m_check_bool_indexer\u001b[0m\u001b[1;33m(\u001b[0m\u001b[0mlabels\u001b[0m\u001b[1;33m,\u001b[0m \u001b[0mkey\u001b[0m\u001b[1;33m)\u001b[0m\u001b[1;33m\u001b[0m\u001b[0m\n\u001b[1;32m-> 1152\u001b[1;33m         \u001b[0minds\u001b[0m\u001b[1;33m,\u001b[0m \u001b[1;33m=\u001b[0m \u001b[0mkey\u001b[0m\u001b[1;33m.\u001b[0m\u001b[0mnonzero\u001b[0m\u001b[1;33m(\u001b[0m\u001b[1;33m)\u001b[0m\u001b[1;33m\u001b[0m\u001b[0m\n\u001b[0m\u001b[0;32m   1153\u001b[0m         \u001b[1;32mtry\u001b[0m\u001b[1;33m:\u001b[0m\u001b[1;33m\u001b[0m\u001b[0m\n\u001b[0;32m   1154\u001b[0m             \u001b[1;32mreturn\u001b[0m \u001b[0mself\u001b[0m\u001b[1;33m.\u001b[0m\u001b[0mobj\u001b[0m\u001b[1;33m.\u001b[0m\u001b[0mtake\u001b[0m\u001b[1;33m(\u001b[0m\u001b[0minds\u001b[0m\u001b[1;33m,\u001b[0m \u001b[0maxis\u001b[0m\u001b[1;33m=\u001b[0m\u001b[0maxis\u001b[0m\u001b[1;33m,\u001b[0m \u001b[0mconvert\u001b[0m\u001b[1;33m=\u001b[0m\u001b[0mFalse\u001b[0m\u001b[1;33m)\u001b[0m\u001b[1;33m\u001b[0m\u001b[0m\n",
      "\u001b[1;31mValueError\u001b[0m: too many values to unpack"
     ]
    }
   ],
   "source": [
    "i = np.where(train.Y > 40)\n",
    "print i"
   ]
  },
  {
   "cell_type": "code",
   "execution_count": 94,
   "metadata": {
    "collapsed": false
   },
   "outputs": [
    {
     "data": {
      "image/png": "[encoded data removed]",
      "text/plain": [
       "<matplotlib.figure.Figure at 0x216e9978>"
      ]
     },
     "metadata": {},
     "output_type": "display_data"
    }
   ],
   "source": [
    "# make sure dev and train datasets have similar\n",
    "# distribution for outcome variable\n",
    "plt.figure(figsize=(20,10))\n",
    "labels = [train_labels, dev_labels]\n",
    "titles = [\"Training set\",\"Dev set\"]\n",
    "for i in [0,1]:\n",
    "    plt.subplot(1,2,i)\n",
    "    hist = np.histogram(labels[i], bins=range(38))\n",
    "    ix = np.argsort(hist[0])\n",
    "    plt.barh(range(37),hist[0][ix])\n",
    "    x = plt.yticks(range(37),cat_orig[ix])\n",
    "    ttl = \"Crime Distribution ({})\".format(titles[i])\n",
    "    plt.title(ttl)"
   ]
  },
  {
   "cell_type": "code",
   "execution_count": 95,
   "metadata": {
    "collapsed": false
   },
   "outputs": [
    {
     "ename": "ValueError",
     "evalue": "Input contains NaN, infinity or a value too large for dtype('float64').",
     "output_type": "error",
     "traceback": [
      "\u001b[1;31m---------------------------------------------------------------------------\u001b[0m",
      "\u001b[1;31mValueError\u001b[0m                                Traceback (most recent call last)",
      "\u001b[1;32m<ipython-input-95-9a902a5a5902>\u001b[0m in \u001b[0;36m<module>\u001b[1;34m()\u001b[0m\n\u001b[0;32m      7\u001b[0m \u001b[0mmodel\u001b[0m\u001b[1;33m.\u001b[0m\u001b[0mfit\u001b[0m\u001b[1;33m(\u001b[0m\u001b[0mtrain_data\u001b[0m\u001b[1;33m,\u001b[0m\u001b[0mtrain_labels\u001b[0m\u001b[1;33m)\u001b[0m\u001b[1;33m\u001b[0m\u001b[0m\n\u001b[0;32m      8\u001b[0m \u001b[1;33m\u001b[0m\u001b[0m\n\u001b[1;32m----> 9\u001b[1;33m \u001b[0mpreds\u001b[0m \u001b[1;33m=\u001b[0m \u001b[0mmodel\u001b[0m\u001b[1;33m.\u001b[0m\u001b[0mpredict\u001b[0m\u001b[1;33m(\u001b[0m\u001b[0mdev_data\u001b[0m\u001b[1;33m)\u001b[0m\u001b[1;33m\u001b[0m\u001b[0m\n\u001b[0m",
      "\u001b[1;32mC:\\Users\\sbu\\Anaconda\\lib\\site-packages\\sklearn\\naive_bayes.pyc\u001b[0m in \u001b[0;36mpredict\u001b[1;34m(self, X)\u001b[0m\n\u001b[0;32m     60\u001b[0m             \u001b[0mPredicted\u001b[0m \u001b[0mtarget\u001b[0m \u001b[0mvalues\u001b[0m \u001b[1;32mfor\u001b[0m \u001b[0mX\u001b[0m\u001b[1;33m\u001b[0m\u001b[0m\n\u001b[0;32m     61\u001b[0m         \"\"\"\n\u001b[1;32m---> 62\u001b[1;33m         \u001b[0mjll\u001b[0m \u001b[1;33m=\u001b[0m \u001b[0mself\u001b[0m\u001b[1;33m.\u001b[0m\u001b[0m_joint_log_likelihood\u001b[0m\u001b[1;33m(\u001b[0m\u001b[0mX\u001b[0m\u001b[1;33m)\u001b[0m\u001b[1;33m\u001b[0m\u001b[0m\n\u001b[0m\u001b[0;32m     63\u001b[0m         \u001b[1;32mreturn\u001b[0m \u001b[0mself\u001b[0m\u001b[1;33m.\u001b[0m\u001b[0mclasses_\u001b[0m\u001b[1;33m[\u001b[0m\u001b[0mnp\u001b[0m\u001b[1;33m.\u001b[0m\u001b[0margmax\u001b[0m\u001b[1;33m(\u001b[0m\u001b[0mjll\u001b[0m\u001b[1;33m,\u001b[0m \u001b[0maxis\u001b[0m\u001b[1;33m=\u001b[0m\u001b[1;36m1\u001b[0m\u001b[1;33m)\u001b[0m\u001b[1;33m]\u001b[0m\u001b[1;33m\u001b[0m\u001b[0m\n\u001b[0;32m     64\u001b[0m \u001b[1;33m\u001b[0m\u001b[0m\n",
      "\u001b[1;32mC:\\Users\\sbu\\Anaconda\\lib\\site-packages\\sklearn\\naive_bayes.pyc\u001b[0m in \u001b[0;36m_joint_log_likelihood\u001b[1;34m(self, X)\u001b[0m\n\u001b[0;32m    167\u001b[0m \u001b[1;33m\u001b[0m\u001b[0m\n\u001b[0;32m    168\u001b[0m     \u001b[1;32mdef\u001b[0m \u001b[0m_joint_log_likelihood\u001b[0m\u001b[1;33m(\u001b[0m\u001b[0mself\u001b[0m\u001b[1;33m,\u001b[0m \u001b[0mX\u001b[0m\u001b[1;33m)\u001b[0m\u001b[1;33m:\u001b[0m\u001b[1;33m\u001b[0m\u001b[0m\n\u001b[1;32m--> 169\u001b[1;33m         \u001b[0mX\u001b[0m \u001b[1;33m=\u001b[0m \u001b[0marray2d\u001b[0m\u001b[1;33m(\u001b[0m\u001b[0mX\u001b[0m\u001b[1;33m)\u001b[0m\u001b[1;33m\u001b[0m\u001b[0m\n\u001b[0m\u001b[0;32m    170\u001b[0m         \u001b[0mjoint_log_likelihood\u001b[0m \u001b[1;33m=\u001b[0m \u001b[1;33m[\u001b[0m\u001b[1;33m]\u001b[0m\u001b[1;33m\u001b[0m\u001b[0m\n\u001b[0;32m    171\u001b[0m         \u001b[1;32mfor\u001b[0m \u001b[0mi\u001b[0m \u001b[1;32min\u001b[0m \u001b[0mrange\u001b[0m\u001b[1;33m(\u001b[0m\u001b[0mnp\u001b[0m\u001b[1;33m.\u001b[0m\u001b[0msize\u001b[0m\u001b[1;33m(\u001b[0m\u001b[0mself\u001b[0m\u001b[1;33m.\u001b[0m\u001b[0mclasses_\u001b[0m\u001b[1;33m)\u001b[0m\u001b[1;33m)\u001b[0m\u001b[1;33m:\u001b[0m\u001b[1;33m\u001b[0m\u001b[0m\n",
      "\u001b[1;32mC:\\Users\\sbu\\Anaconda\\lib\\site-packages\\sklearn\\utils\\validation.pyc\u001b[0m in \u001b[0;36marray2d\u001b[1;34m(X, dtype, order, copy, force_all_finite)\u001b[0m\n\u001b[0;32m    120\u001b[0m     \u001b[0mX_2d\u001b[0m \u001b[1;33m=\u001b[0m \u001b[0mnp\u001b[0m\u001b[1;33m.\u001b[0m\u001b[0masarray\u001b[0m\u001b[1;33m(\u001b[0m\u001b[0mnp\u001b[0m\u001b[1;33m.\u001b[0m\u001b[0matleast_2d\u001b[0m\u001b[1;33m(\u001b[0m\u001b[0mX\u001b[0m\u001b[1;33m)\u001b[0m\u001b[1;33m,\u001b[0m \u001b[0mdtype\u001b[0m\u001b[1;33m=\u001b[0m\u001b[0mdtype\u001b[0m\u001b[1;33m,\u001b[0m \u001b[0morder\u001b[0m\u001b[1;33m=\u001b[0m\u001b[0morder\u001b[0m\u001b[1;33m)\u001b[0m\u001b[1;33m\u001b[0m\u001b[0m\n\u001b[0;32m    121\u001b[0m     \u001b[1;32mif\u001b[0m \u001b[0mforce_all_finite\u001b[0m\u001b[1;33m:\u001b[0m\u001b[1;33m\u001b[0m\u001b[0m\n\u001b[1;32m--> 122\u001b[1;33m         \u001b[0m_assert_all_finite\u001b[0m\u001b[1;33m(\u001b[0m\u001b[0mX_2d\u001b[0m\u001b[1;33m)\u001b[0m\u001b[1;33m\u001b[0m\u001b[0m\n\u001b[0m\u001b[0;32m    123\u001b[0m     \u001b[1;32mif\u001b[0m \u001b[0mX\u001b[0m \u001b[1;32mis\u001b[0m \u001b[0mX_2d\u001b[0m \u001b[1;32mand\u001b[0m \u001b[0mcopy\u001b[0m\u001b[1;33m:\u001b[0m\u001b[1;33m\u001b[0m\u001b[0m\n\u001b[0;32m    124\u001b[0m         \u001b[0mX_2d\u001b[0m \u001b[1;33m=\u001b[0m \u001b[0msafe_copy\u001b[0m\u001b[1;33m(\u001b[0m\u001b[0mX_2d\u001b[0m\u001b[1;33m)\u001b[0m\u001b[1;33m\u001b[0m\u001b[0m\n",
      "\u001b[1;32mC:\\Users\\sbu\\Anaconda\\lib\\site-packages\\sklearn\\utils\\validation.pyc\u001b[0m in \u001b[0;36m_assert_all_finite\u001b[1;34m(X)\u001b[0m\n\u001b[0;32m     41\u001b[0m             and not np.isfinite(X).all()):\n\u001b[0;32m     42\u001b[0m         raise ValueError(\"Input contains NaN, infinity\"\n\u001b[1;32m---> 43\u001b[1;33m                          \" or a value too large for %r.\" % X.dtype)\n\u001b[0m\u001b[0;32m     44\u001b[0m \u001b[1;33m\u001b[0m\u001b[0m\n\u001b[0;32m     45\u001b[0m \u001b[1;33m\u001b[0m\u001b[0m\n",
      "\u001b[1;31mValueError\u001b[0m: Input contains NaN, infinity or a value too large for dtype('float64')."
     ]
    }
   ],
   "source": [
    "# convert training set to np array\n",
    "train_data = np.array(train[['season','dow','pd','tod', 'woy', 'addr']])\n",
    "dev_data = np.array(dev[['season', 'dow','pd','tod', 'woy', 'addr']])\n",
    "\n",
    "# Gaussian NB\n",
    "model = GaussianNB()\n",
    "model.fit(train_data,train_labels)\n",
    "\n",
    "preds = model.predict(dev_data)"
   ]
  },
  {
   "cell_type": "code",
   "execution_count": 43,
   "metadata": {
    "collapsed": false
   },
   "outputs": [
    {
     "name": "stdout",
     "output_type": "stream",
     "text": [
      "0.0\n"
     ]
    }
   ],
   "source": [
    "accuracy = metrics.accuracy_score(dev_labels,preds)\n",
    "#0.206540516195\n",
    "print accuracy"
   ]
  },
  {
   "cell_type": "code",
   "execution_count": 96,
   "metadata": {
    "collapsed": false
   },
   "outputs": [
    {
     "name": "stdout",
     "output_type": "stream",
     "text": [
      "Train time = 4.95\n"
     ]
    },
    {
     "ename": "ValueError",
     "evalue": "Input contains NaN, infinity or a value too large for dtype('float64').",
     "output_type": "error",
     "traceback": [
      "\u001b[1;31m---------------------------------------------------------------------------\u001b[0m",
      "\u001b[1;31mValueError\u001b[0m                                Traceback (most recent call last)",
      "\u001b[1;32m<ipython-input-96-2b161d28c804>\u001b[0m in \u001b[0;36m<module>\u001b[1;34m()\u001b[0m\n\u001b[0;32m      8\u001b[0m \u001b[1;32mprint\u001b[0m \u001b[1;34m'Train time = %.2f'\u001b[0m \u001b[1;33m%\u001b[0m\u001b[1;33m(\u001b[0m\u001b[0mtime\u001b[0m\u001b[1;33m.\u001b[0m\u001b[0mtime\u001b[0m\u001b[1;33m(\u001b[0m\u001b[1;33m)\u001b[0m \u001b[1;33m-\u001b[0m \u001b[0mstart_time\u001b[0m\u001b[1;33m)\u001b[0m\u001b[1;33m\u001b[0m\u001b[0m\n\u001b[0;32m      9\u001b[0m \u001b[0mstart_time\u001b[0m \u001b[1;33m=\u001b[0m \u001b[0mtime\u001b[0m\u001b[1;33m.\u001b[0m\u001b[0mtime\u001b[0m\u001b[1;33m(\u001b[0m\u001b[1;33m)\u001b[0m\u001b[1;33m\u001b[0m\u001b[0m\n\u001b[1;32m---> 10\u001b[1;33m \u001b[0maccuracy\u001b[0m \u001b[1;33m=\u001b[0m \u001b[0mknn\u001b[0m\u001b[1;33m.\u001b[0m\u001b[0mscore\u001b[0m\u001b[1;33m(\u001b[0m\u001b[0mdev_data\u001b[0m\u001b[1;33m,\u001b[0m \u001b[0mdev_labels\u001b[0m\u001b[1;33m)\u001b[0m\u001b[1;33m\u001b[0m\u001b[0m\n\u001b[0m\u001b[0;32m     11\u001b[0m \u001b[1;32mprint\u001b[0m \u001b[1;34m'Accuracy = %.4f'\u001b[0m \u001b[1;33m%\u001b[0m\u001b[1;33m(\u001b[0m\u001b[0maccuracy\u001b[0m\u001b[1;33m)\u001b[0m\u001b[1;33m\u001b[0m\u001b[0m\n\u001b[0;32m     12\u001b[0m \u001b[1;32mprint\u001b[0m \u001b[1;34m'Prediction time = %.2f'\u001b[0m \u001b[1;33m%\u001b[0m\u001b[1;33m(\u001b[0m\u001b[0mtime\u001b[0m\u001b[1;33m.\u001b[0m\u001b[0mtime\u001b[0m\u001b[1;33m(\u001b[0m\u001b[1;33m)\u001b[0m \u001b[1;33m-\u001b[0m \u001b[0mstart_time\u001b[0m\u001b[1;33m)\u001b[0m\u001b[1;33m\u001b[0m\u001b[0m\n",
      "\u001b[1;32mC:\\Users\\sbu\\Anaconda\\lib\\site-packages\\sklearn\\base.pyc\u001b[0m in \u001b[0;36mscore\u001b[1;34m(self, X, y, sample_weight)\u001b[0m\n\u001b[0;32m    289\u001b[0m         \"\"\"\n\u001b[0;32m    290\u001b[0m         \u001b[1;32mfrom\u001b[0m \u001b[1;33m.\u001b[0m\u001b[0mmetrics\u001b[0m \u001b[1;32mimport\u001b[0m \u001b[0maccuracy_score\u001b[0m\u001b[1;33m\u001b[0m\u001b[0m\n\u001b[1;32m--> 291\u001b[1;33m         \u001b[1;32mreturn\u001b[0m \u001b[0maccuracy_score\u001b[0m\u001b[1;33m(\u001b[0m\u001b[0my\u001b[0m\u001b[1;33m,\u001b[0m \u001b[0mself\u001b[0m\u001b[1;33m.\u001b[0m\u001b[0mpredict\u001b[0m\u001b[1;33m(\u001b[0m\u001b[0mX\u001b[0m\u001b[1;33m)\u001b[0m\u001b[1;33m,\u001b[0m \u001b[0msample_weight\u001b[0m\u001b[1;33m=\u001b[0m\u001b[0msample_weight\u001b[0m\u001b[1;33m)\u001b[0m\u001b[1;33m\u001b[0m\u001b[0m\n\u001b[0m\u001b[0;32m    292\u001b[0m \u001b[1;33m\u001b[0m\u001b[0m\n\u001b[0;32m    293\u001b[0m \u001b[1;33m\u001b[0m\u001b[0m\n",
      "\u001b[1;32mC:\\Users\\sbu\\Anaconda\\lib\\site-packages\\sklearn\\neighbors\\classification.pyc\u001b[0m in \u001b[0;36mpredict\u001b[1;34m(self, X)\u001b[0m\n\u001b[0;32m    143\u001b[0m             \u001b[0mClass\u001b[0m \u001b[0mlabels\u001b[0m \u001b[1;32mfor\u001b[0m \u001b[0meach\u001b[0m \u001b[0mdata\u001b[0m \u001b[0msample\u001b[0m\u001b[1;33m.\u001b[0m\u001b[1;33m\u001b[0m\u001b[0m\n\u001b[0;32m    144\u001b[0m         \"\"\"\n\u001b[1;32m--> 145\u001b[1;33m         \u001b[0mX\u001b[0m \u001b[1;33m=\u001b[0m \u001b[0matleast2d_or_csr\u001b[0m\u001b[1;33m(\u001b[0m\u001b[0mX\u001b[0m\u001b[1;33m)\u001b[0m\u001b[1;33m\u001b[0m\u001b[0m\n\u001b[0m\u001b[0;32m    146\u001b[0m \u001b[1;33m\u001b[0m\u001b[0m\n\u001b[0;32m    147\u001b[0m         \u001b[0mneigh_dist\u001b[0m\u001b[1;33m,\u001b[0m \u001b[0mneigh_ind\u001b[0m \u001b[1;33m=\u001b[0m \u001b[0mself\u001b[0m\u001b[1;33m.\u001b[0m\u001b[0mkneighbors\u001b[0m\u001b[1;33m(\u001b[0m\u001b[0mX\u001b[0m\u001b[1;33m)\u001b[0m\u001b[1;33m\u001b[0m\u001b[0m\n",
      "\u001b[1;32mC:\\Users\\sbu\\Anaconda\\lib\\site-packages\\sklearn\\utils\\validation.pyc\u001b[0m in \u001b[0;36matleast2d_or_csr\u001b[1;34m(X, dtype, order, copy, force_all_finite)\u001b[0m\n\u001b[0;32m    163\u001b[0m     return _atleast2d_or_sparse(X, dtype, order, copy, sp.csr_matrix,\n\u001b[0;32m    164\u001b[0m                                 \u001b[1;34m\"tocsr\"\u001b[0m\u001b[1;33m,\u001b[0m \u001b[0msp\u001b[0m\u001b[1;33m.\u001b[0m\u001b[0misspmatrix_csr\u001b[0m\u001b[1;33m,\u001b[0m\u001b[1;33m\u001b[0m\u001b[0m\n\u001b[1;32m--> 165\u001b[1;33m                                 force_all_finite)\n\u001b[0m\u001b[0;32m    166\u001b[0m \u001b[1;33m\u001b[0m\u001b[0m\n\u001b[0;32m    167\u001b[0m \u001b[1;33m\u001b[0m\u001b[0m\n",
      "\u001b[1;32mC:\\Users\\sbu\\Anaconda\\lib\\site-packages\\sklearn\\utils\\validation.pyc\u001b[0m in \u001b[0;36m_atleast2d_or_sparse\u001b[1;34m(X, dtype, order, copy, sparse_class, convmethod, check_same_type, force_all_finite)\u001b[0m\n\u001b[0;32m    140\u001b[0m     \u001b[1;32melse\u001b[0m\u001b[1;33m:\u001b[0m\u001b[1;33m\u001b[0m\u001b[0m\n\u001b[0;32m    141\u001b[0m         X = array2d(X, dtype=dtype, order=order, copy=copy,\n\u001b[1;32m--> 142\u001b[1;33m                     force_all_finite=force_all_finite)\n\u001b[0m\u001b[0;32m    143\u001b[0m     \u001b[1;32mreturn\u001b[0m \u001b[0mX\u001b[0m\u001b[1;33m\u001b[0m\u001b[0m\n\u001b[0;32m    144\u001b[0m \u001b[1;33m\u001b[0m\u001b[0m\n",
      "\u001b[1;32mC:\\Users\\sbu\\Anaconda\\lib\\site-packages\\sklearn\\utils\\validation.pyc\u001b[0m in \u001b[0;36marray2d\u001b[1;34m(X, dtype, order, copy, force_all_finite)\u001b[0m\n\u001b[0;32m    120\u001b[0m     \u001b[0mX_2d\u001b[0m \u001b[1;33m=\u001b[0m \u001b[0mnp\u001b[0m\u001b[1;33m.\u001b[0m\u001b[0masarray\u001b[0m\u001b[1;33m(\u001b[0m\u001b[0mnp\u001b[0m\u001b[1;33m.\u001b[0m\u001b[0matleast_2d\u001b[0m\u001b[1;33m(\u001b[0m\u001b[0mX\u001b[0m\u001b[1;33m)\u001b[0m\u001b[1;33m,\u001b[0m \u001b[0mdtype\u001b[0m\u001b[1;33m=\u001b[0m\u001b[0mdtype\u001b[0m\u001b[1;33m,\u001b[0m \u001b[0morder\u001b[0m\u001b[1;33m=\u001b[0m\u001b[0morder\u001b[0m\u001b[1;33m)\u001b[0m\u001b[1;33m\u001b[0m\u001b[0m\n\u001b[0;32m    121\u001b[0m     \u001b[1;32mif\u001b[0m \u001b[0mforce_all_finite\u001b[0m\u001b[1;33m:\u001b[0m\u001b[1;33m\u001b[0m\u001b[0m\n\u001b[1;32m--> 122\u001b[1;33m         \u001b[0m_assert_all_finite\u001b[0m\u001b[1;33m(\u001b[0m\u001b[0mX_2d\u001b[0m\u001b[1;33m)\u001b[0m\u001b[1;33m\u001b[0m\u001b[0m\n\u001b[0m\u001b[0;32m    123\u001b[0m     \u001b[1;32mif\u001b[0m \u001b[0mX\u001b[0m \u001b[1;32mis\u001b[0m \u001b[0mX_2d\u001b[0m \u001b[1;32mand\u001b[0m \u001b[0mcopy\u001b[0m\u001b[1;33m:\u001b[0m\u001b[1;33m\u001b[0m\u001b[0m\n\u001b[0;32m    124\u001b[0m         \u001b[0mX_2d\u001b[0m \u001b[1;33m=\u001b[0m \u001b[0msafe_copy\u001b[0m\u001b[1;33m(\u001b[0m\u001b[0mX_2d\u001b[0m\u001b[1;33m)\u001b[0m\u001b[1;33m\u001b[0m\u001b[0m\n",
      "\u001b[1;32mC:\\Users\\sbu\\Anaconda\\lib\\site-packages\\sklearn\\utils\\validation.pyc\u001b[0m in \u001b[0;36m_assert_all_finite\u001b[1;34m(X)\u001b[0m\n\u001b[0;32m     41\u001b[0m             and not np.isfinite(X).all()):\n\u001b[0;32m     42\u001b[0m         raise ValueError(\"Input contains NaN, infinity\"\n\u001b[1;32m---> 43\u001b[1;33m                          \" or a value too large for %r.\" % X.dtype)\n\u001b[0m\u001b[0;32m     44\u001b[0m \u001b[1;33m\u001b[0m\u001b[0m\n\u001b[0;32m     45\u001b[0m \u001b[1;33m\u001b[0m\u001b[0m\n",
      "\u001b[1;31mValueError\u001b[0m: Input contains NaN, infinity or a value too large for dtype('float64')."
     ]
    }
   ],
   "source": [
    "# K- Nearest Neighbors\n",
    "\n",
    "neighbors = 1\n",
    "\n",
    "knn = KNeighborsClassifier(neighbors)\n",
    "start_time = time.time()\n",
    "knn.fit(train_data, train_labels)\n",
    "print 'Train time = %.2f' %(time.time() - start_time)\n",
    "start_time = time.time()\n",
    "accuracy = knn.score(dev_data, dev_labels)\n",
    "print 'Accuracy = %.4f' %(accuracy)\n",
    "print 'Prediction time = %.2f' %(time.time() - start_time)"
   ]
  },
  {
   "cell_type": "code",
   "execution_count": 16,
   "metadata": {
    "collapsed": false
   },
   "outputs": [
    {
     "name": "stdout",
     "output_type": "stream",
     "text": [
      "Accuracy (a decision tree): 0.231363918836\n"
     ]
    }
   ],
   "source": [
    "# Decision Tree\n",
    "\n",
    "dt = DecisionTreeClassifier(criterion=\"entropy\", splitter=\"best\", random_state=0)\n",
    "dt.fit(train_data, train_labels)\n",
    "\n",
    "print 'Accuracy (a decision tree):', dt.score(dev_data, dev_labels)\n",
    "\n"
   ]
  },
  {
   "cell_type": "code",
   "execution_count": 17,
   "metadata": {
    "collapsed": false
   },
   "outputs": [
    {
     "ename": "KeyboardInterrupt",
     "evalue": "",
     "output_type": "error",
     "traceback": [
      "\u001b[1;31m---------------------------------------------------------------------------\u001b[0m",
      "\u001b[1;31mKeyboardInterrupt\u001b[0m                         Traceback (most recent call last)",
      "\u001b[1;32m<ipython-input-17-dd0c085d7d59>\u001b[0m in \u001b[0;36m<module>\u001b[1;34m()\u001b[0m\n\u001b[0;32m      1\u001b[0m \u001b[0mrfc\u001b[0m \u001b[1;33m=\u001b[0m \u001b[0mRandomForestClassifier\u001b[0m\u001b[1;33m(\u001b[0m\u001b[0mn_estimators\u001b[0m\u001b[1;33m=\u001b[0m\u001b[1;36m100\u001b[0m\u001b[1;33m)\u001b[0m\u001b[1;33m\u001b[0m\u001b[0m\n\u001b[1;32m----> 2\u001b[1;33m \u001b[0mrfc\u001b[0m\u001b[1;33m.\u001b[0m\u001b[0mfit\u001b[0m\u001b[1;33m(\u001b[0m\u001b[0mtrain_data\u001b[0m\u001b[1;33m,\u001b[0m \u001b[0mtrain_labels\u001b[0m\u001b[1;33m)\u001b[0m\u001b[1;33m\u001b[0m\u001b[0m\n\u001b[0m\u001b[0;32m      3\u001b[0m \u001b[1;33m\u001b[0m\u001b[0m\n\u001b[0;32m      4\u001b[0m \u001b[1;32mprint\u001b[0m \u001b[1;34m'Accuracy (a random forest):'\u001b[0m\u001b[1;33m,\u001b[0m \u001b[0mrfc\u001b[0m\u001b[1;33m.\u001b[0m\u001b[0mscore\u001b[0m\u001b[1;33m(\u001b[0m\u001b[0mdev_data\u001b[0m\u001b[1;33m,\u001b[0m \u001b[0mdev_labels\u001b[0m\u001b[1;33m)\u001b[0m\u001b[1;33m\u001b[0m\u001b[0m\n",
      "\u001b[1;32mC:\\Users\\sbu\\Anaconda\\lib\\site-packages\\sklearn\\ensemble\\forest.pyc\u001b[0m in \u001b[0;36mfit\u001b[1;34m(self, X, y, sample_weight)\u001b[0m\n\u001b[0;32m    277\u001b[0m                 \u001b[0msample_weight\u001b[0m\u001b[1;33m,\u001b[0m\u001b[1;33m\u001b[0m\u001b[0m\n\u001b[0;32m    278\u001b[0m                 verbose=self.verbose)\n\u001b[1;32m--> 279\u001b[1;33m             for i in range(n_jobs))\n\u001b[0m\u001b[0;32m    280\u001b[0m \u001b[1;33m\u001b[0m\u001b[0m\n\u001b[0;32m    281\u001b[0m         \u001b[1;31m# Reduce\u001b[0m\u001b[1;33m\u001b[0m\u001b[1;33m\u001b[0m\u001b[0m\n",
      "\u001b[1;32mC:\\Users\\sbu\\Anaconda\\lib\\site-packages\\sklearn\\externals\\joblib\\parallel.pyc\u001b[0m in \u001b[0;36m__call__\u001b[1;34m(self, iterable)\u001b[0m\n\u001b[0;32m    651\u001b[0m             \u001b[0mself\u001b[0m\u001b[1;33m.\u001b[0m\u001b[0m_iterating\u001b[0m \u001b[1;33m=\u001b[0m \u001b[0mTrue\u001b[0m\u001b[1;33m\u001b[0m\u001b[0m\n\u001b[0;32m    652\u001b[0m             \u001b[1;32mfor\u001b[0m \u001b[0mfunction\u001b[0m\u001b[1;33m,\u001b[0m \u001b[0margs\u001b[0m\u001b[1;33m,\u001b[0m \u001b[0mkwargs\u001b[0m \u001b[1;32min\u001b[0m \u001b[0miterable\u001b[0m\u001b[1;33m:\u001b[0m\u001b[1;33m\u001b[0m\u001b[0m\n\u001b[1;32m--> 653\u001b[1;33m                 \u001b[0mself\u001b[0m\u001b[1;33m.\u001b[0m\u001b[0mdispatch\u001b[0m\u001b[1;33m(\u001b[0m\u001b[0mfunction\u001b[0m\u001b[1;33m,\u001b[0m \u001b[0margs\u001b[0m\u001b[1;33m,\u001b[0m \u001b[0mkwargs\u001b[0m\u001b[1;33m)\u001b[0m\u001b[1;33m\u001b[0m\u001b[0m\n\u001b[0m\u001b[0;32m    654\u001b[0m \u001b[1;33m\u001b[0m\u001b[0m\n\u001b[0;32m    655\u001b[0m             \u001b[1;32mif\u001b[0m \u001b[0mpre_dispatch\u001b[0m \u001b[1;33m==\u001b[0m \u001b[1;34m\"all\"\u001b[0m \u001b[1;32mor\u001b[0m \u001b[0mn_jobs\u001b[0m \u001b[1;33m==\u001b[0m \u001b[1;36m1\u001b[0m\u001b[1;33m:\u001b[0m\u001b[1;33m\u001b[0m\u001b[0m\n",
      "\u001b[1;32mC:\\Users\\sbu\\Anaconda\\lib\\site-packages\\sklearn\\externals\\joblib\\parallel.pyc\u001b[0m in \u001b[0;36mdispatch\u001b[1;34m(self, func, args, kwargs)\u001b[0m\n\u001b[0;32m    398\u001b[0m         \"\"\"\n\u001b[0;32m    399\u001b[0m         \u001b[1;32mif\u001b[0m \u001b[0mself\u001b[0m\u001b[1;33m.\u001b[0m\u001b[0m_pool\u001b[0m \u001b[1;32mis\u001b[0m \u001b[0mNone\u001b[0m\u001b[1;33m:\u001b[0m\u001b[1;33m\u001b[0m\u001b[0m\n\u001b[1;32m--> 400\u001b[1;33m             \u001b[0mjob\u001b[0m \u001b[1;33m=\u001b[0m \u001b[0mImmediateApply\u001b[0m\u001b[1;33m(\u001b[0m\u001b[0mfunc\u001b[0m\u001b[1;33m,\u001b[0m \u001b[0margs\u001b[0m\u001b[1;33m,\u001b[0m \u001b[0mkwargs\u001b[0m\u001b[1;33m)\u001b[0m\u001b[1;33m\u001b[0m\u001b[0m\n\u001b[0m\u001b[0;32m    401\u001b[0m             \u001b[0mindex\u001b[0m \u001b[1;33m=\u001b[0m \u001b[0mlen\u001b[0m\u001b[1;33m(\u001b[0m\u001b[0mself\u001b[0m\u001b[1;33m.\u001b[0m\u001b[0m_jobs\u001b[0m\u001b[1;33m)\u001b[0m\u001b[1;33m\u001b[0m\u001b[0m\n\u001b[0;32m    402\u001b[0m             \u001b[1;32mif\u001b[0m \u001b[1;32mnot\u001b[0m \u001b[0m_verbosity_filter\u001b[0m\u001b[1;33m(\u001b[0m\u001b[0mindex\u001b[0m\u001b[1;33m,\u001b[0m \u001b[0mself\u001b[0m\u001b[1;33m.\u001b[0m\u001b[0mverbose\u001b[0m\u001b[1;33m)\u001b[0m\u001b[1;33m:\u001b[0m\u001b[1;33m\u001b[0m\u001b[0m\n",
      "\u001b[1;32mC:\\Users\\sbu\\Anaconda\\lib\\site-packages\\sklearn\\externals\\joblib\\parallel.pyc\u001b[0m in \u001b[0;36m__init__\u001b[1;34m(self, func, args, kwargs)\u001b[0m\n\u001b[0;32m    136\u001b[0m         \u001b[1;31m# Don't delay the application, to avoid keeping the input\u001b[0m\u001b[1;33m\u001b[0m\u001b[1;33m\u001b[0m\u001b[0m\n\u001b[0;32m    137\u001b[0m         \u001b[1;31m# arguments in memory\u001b[0m\u001b[1;33m\u001b[0m\u001b[1;33m\u001b[0m\u001b[0m\n\u001b[1;32m--> 138\u001b[1;33m         \u001b[0mself\u001b[0m\u001b[1;33m.\u001b[0m\u001b[0mresults\u001b[0m \u001b[1;33m=\u001b[0m \u001b[0mfunc\u001b[0m\u001b[1;33m(\u001b[0m\u001b[1;33m*\u001b[0m\u001b[0margs\u001b[0m\u001b[1;33m,\u001b[0m \u001b[1;33m**\u001b[0m\u001b[0mkwargs\u001b[0m\u001b[1;33m)\u001b[0m\u001b[1;33m\u001b[0m\u001b[0m\n\u001b[0m\u001b[0;32m    139\u001b[0m \u001b[1;33m\u001b[0m\u001b[0m\n\u001b[0;32m    140\u001b[0m     \u001b[1;32mdef\u001b[0m \u001b[0mget\u001b[0m\u001b[1;33m(\u001b[0m\u001b[0mself\u001b[0m\u001b[1;33m)\u001b[0m\u001b[1;33m:\u001b[0m\u001b[1;33m\u001b[0m\u001b[0m\n",
      "\u001b[1;32mC:\\Users\\sbu\\Anaconda\\lib\\site-packages\\sklearn\\ensemble\\forest.pyc\u001b[0m in \u001b[0;36m_parallel_build_trees\u001b[1;34m(trees, forest, X, y, sample_weight, verbose)\u001b[0m\n\u001b[0;32m     87\u001b[0m             tree.fit(X, y,\n\u001b[0;32m     88\u001b[0m                      \u001b[0msample_weight\u001b[0m\u001b[1;33m=\u001b[0m\u001b[0mcurr_sample_weight\u001b[0m\u001b[1;33m,\u001b[0m\u001b[1;33m\u001b[0m\u001b[0m\n\u001b[1;32m---> 89\u001b[1;33m                      check_input=False)\n\u001b[0m\u001b[0;32m     90\u001b[0m \u001b[1;33m\u001b[0m\u001b[0m\n\u001b[0;32m     91\u001b[0m             \u001b[0mtree\u001b[0m\u001b[1;33m.\u001b[0m\u001b[0mindices_\u001b[0m \u001b[1;33m=\u001b[0m \u001b[0msample_counts\u001b[0m \u001b[1;33m>\u001b[0m \u001b[1;36m0.\u001b[0m\u001b[1;33m\u001b[0m\u001b[0m\n",
      "\u001b[1;32mC:\\Users\\sbu\\Anaconda\\lib\\site-packages\\sklearn\\tree\\tree.pyc\u001b[0m in \u001b[0;36mfit\u001b[1;34m(self, X, y, sample_mask, X_argsorted, check_input, sample_weight)\u001b[0m\n\u001b[0;32m    265\u001b[0m                                            max_leaf_nodes)\n\u001b[0;32m    266\u001b[0m \u001b[1;33m\u001b[0m\u001b[0m\n\u001b[1;32m--> 267\u001b[1;33m         \u001b[0mbuilder\u001b[0m\u001b[1;33m.\u001b[0m\u001b[0mbuild\u001b[0m\u001b[1;33m(\u001b[0m\u001b[0mself\u001b[0m\u001b[1;33m.\u001b[0m\u001b[0mtree_\u001b[0m\u001b[1;33m,\u001b[0m \u001b[0mX\u001b[0m\u001b[1;33m,\u001b[0m \u001b[0my\u001b[0m\u001b[1;33m,\u001b[0m \u001b[0msample_weight\u001b[0m\u001b[1;33m)\u001b[0m\u001b[1;33m\u001b[0m\u001b[0m\n\u001b[0m\u001b[0;32m    268\u001b[0m \u001b[1;33m\u001b[0m\u001b[0m\n\u001b[0;32m    269\u001b[0m         \u001b[1;32mif\u001b[0m \u001b[0mself\u001b[0m\u001b[1;33m.\u001b[0m\u001b[0mn_outputs_\u001b[0m \u001b[1;33m==\u001b[0m \u001b[1;36m1\u001b[0m\u001b[1;33m:\u001b[0m\u001b[1;33m\u001b[0m\u001b[0m\n",
      "\u001b[1;31mKeyboardInterrupt\u001b[0m: "
     ]
    }
   ],
   "source": [
    "rfc = RandomForestClassifier(n_estimators=100)\n",
    "rfc.fit(train_data, train_labels)\n",
    "\n",
    "print 'Accuracy (a random forest):', rfc.score(dev_data, dev_labels)\n"
   ]
  },
  {
   "cell_type": "code",
   "execution_count": 14,
   "metadata": {
    "collapsed": false
   },
   "outputs": [
    {
     "name": "stdout",
     "output_type": "stream",
     "text": [
      "Accuracy (adaboost with decision trees): 0.208017149471\n"
     ]
    }
   ],
   "source": [
    "\n",
    "abc = AdaBoostClassifier(base_estimator=DecisionTreeClassifier(max_depth=1), n_estimators=100, learning_rate=0.1)\n",
    "\n",
    "abc.fit(train_data, train_labels)\n",
    "print 'Accuracy (adaboost with decision trees):', abc.score(dev_data, dev_labels)"
   ]
  },
  {
   "cell_type": "code",
   "execution_count": null,
   "metadata": {
    "collapsed": true
   },
   "outputs": [],
   "source": []
  }
 ],
 "metadata": {
  "kernelspec": {
   "display_name": "Python 2",
   "language": "python",
   "name": "python2"
  },
  "language_info": {
   "codemirror_mode": {
    "name": "ipython",
    "version": 2
   },
   "file_extension": ".py",
   "mimetype": "text/x-python",
   "name": "python",
   "nbconvert_exporter": "python",
   "pygments_lexer": "ipython2",
   "version": "2.7.8"
  }
 },
 "nbformat": 4,
 "nbformat_minor": 0
}
